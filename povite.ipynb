{
 "cells": [
  {
   "cell_type": "code",
   "execution_count": 2,
   "id": "f9ce9bb8-1dea-4a97-b3aa-bd3c409134c5",
   "metadata": {},
   "outputs": [],
   "source": [
    "import numpy as ns\n",
    "import pandas as pd"
   ]
  },
  {
   "cell_type": "code",
   "execution_count": 20,
   "id": "df5462a8-0e22-4898-b718-f03a64df4fb3",
   "metadata": {},
   "outputs": [
    {
     "data": {
      "text/plain": [
       "dict"
      ]
     },
     "execution_count": 20,
     "metadata": {},
     "output_type": "execute_result"
    }
   ],
   "source": [
    "data = {\n",
    "    # 고객 \n",
    "    'CustomerID': ['C1', 'C2', 'C3', 'C4'],\n",
    "    # 제품\n",
    "    'Product': ['A', 'B', 'A', 'B'],\n",
    "    # 수량 \n",
    "    'Quantity': [10, 15, 10, 20]\n",
    "}\n",
    "df = pd.DataFrame(data)\n",
    "# print(df)\n",
    "type(data)"
   ]
  },
  {
   "cell_type": "code",
   "execution_count": 21,
   "id": "2f7626f1-99c0-4a27-94ec-b8ca8d7da9b5",
   "metadata": {},
   "outputs": [
    {
     "name": "stdout",
     "output_type": "stream",
     "text": [
      "         Quantity\n",
      "Product          \n",
      "A              20\n",
      "B              35\n"
     ]
    }
   ],
   "source": [
    "result1 = df.pivot_table(index=\"Product\", values = \"Quantity\", ,aggfunc=\"sum\")\n",
    "print(result1)"
   ]
  },
  {
   "cell_type": "code",
   "execution_count": 27,
   "id": "f586153d-4b70-403c-b7b4-4018d4677e90",
   "metadata": {},
   "outputs": [
    {
     "data": {
      "text/html": [
       "<div>\n",
       "<style scoped>\n",
       "    .dataframe tbody tr th:only-of-type {\n",
       "        vertical-align: middle;\n",
       "    }\n",
       "\n",
       "    .dataframe tbody tr th {\n",
       "        vertical-align: top;\n",
       "    }\n",
       "\n",
       "    .dataframe thead th {\n",
       "        text-align: right;\n",
       "    }\n",
       "</style>\n",
       "<table border=\"1\" class=\"dataframe\">\n",
       "  <thead>\n",
       "    <tr style=\"text-align: right;\">\n",
       "      <th>Product</th>\n",
       "      <th>A</th>\n",
       "      <th>B</th>\n",
       "    </tr>\n",
       "    <tr>\n",
       "      <th>CustomerID</th>\n",
       "      <th></th>\n",
       "      <th></th>\n",
       "    </tr>\n",
       "  </thead>\n",
       "  <tbody>\n",
       "    <tr>\n",
       "      <th>C1</th>\n",
       "      <td>10</td>\n",
       "      <td>0</td>\n",
       "    </tr>\n",
       "    <tr>\n",
       "      <th>C2</th>\n",
       "      <td>0</td>\n",
       "      <td>15</td>\n",
       "    </tr>\n",
       "    <tr>\n",
       "      <th>C3</th>\n",
       "      <td>10</td>\n",
       "      <td>0</td>\n",
       "    </tr>\n",
       "    <tr>\n",
       "      <th>C4</th>\n",
       "      <td>0</td>\n",
       "      <td>20</td>\n",
       "    </tr>\n",
       "  </tbody>\n",
       "</table>\n",
       "</div>"
      ],
      "text/plain": [
       "Product      A   B\n",
       "CustomerID        \n",
       "C1          10   0\n",
       "C2           0  15\n",
       "C3          10   0\n",
       "C4           0  20"
      ]
     },
     "execution_count": 27,
     "metadata": {},
     "output_type": "execute_result"
    }
   ],
   "source": [
    "result2 = df.pivot_table(index='CustomerID', columns='Product', values='Quantity', aggfunc='sum', fill_value=0)\n",
    "result2"
   ]
  },
  {
   "cell_type": "code",
   "execution_count": 29,
   "id": "aa975a17-73ce-45e3-b09b-7f1adb073d13",
   "metadata": {},
   "outputs": [
    {
     "data": {
      "text/html": [
       "<div>\n",
       "<style scoped>\n",
       "    .dataframe tbody tr th:only-of-type {\n",
       "        vertical-align: middle;\n",
       "    }\n",
       "\n",
       "    .dataframe tbody tr th {\n",
       "        vertical-align: top;\n",
       "    }\n",
       "\n",
       "    .dataframe thead th {\n",
       "        text-align: right;\n",
       "    }\n",
       "</style>\n",
       "<table border=\"1\" class=\"dataframe\">\n",
       "  <thead>\n",
       "    <tr style=\"text-align: right;\">\n",
       "      <th></th>\n",
       "      <th>Quantity</th>\n",
       "    </tr>\n",
       "    <tr>\n",
       "      <th>CustomerID</th>\n",
       "      <th></th>\n",
       "    </tr>\n",
       "  </thead>\n",
       "  <tbody>\n",
       "    <tr>\n",
       "      <th>C1</th>\n",
       "      <td>10.0</td>\n",
       "    </tr>\n",
       "    <tr>\n",
       "      <th>C2</th>\n",
       "      <td>15.0</td>\n",
       "    </tr>\n",
       "    <tr>\n",
       "      <th>C3</th>\n",
       "      <td>10.0</td>\n",
       "    </tr>\n",
       "    <tr>\n",
       "      <th>C4</th>\n",
       "      <td>20.0</td>\n",
       "    </tr>\n",
       "  </tbody>\n",
       "</table>\n",
       "</div>"
      ],
      "text/plain": [
       "            Quantity\n",
       "CustomerID          \n",
       "C1              10.0\n",
       "C2              15.0\n",
       "C3              10.0\n",
       "C4              20.0"
      ]
     },
     "execution_count": 29,
     "metadata": {},
     "output_type": "execute_result"
    }
   ],
   "source": [
    "result3 = df.pivot_table(index=\"CustomerID\", values='Quantity', aggfunc='mean')\n",
    "result3"
   ]
  },
  {
   "cell_type": "code",
   "execution_count": 30,
   "id": "7056eb45-be23-4b8d-a087-bbf2213dbe49",
   "metadata": {},
   "outputs": [
    {
     "name": "stdout",
     "output_type": "stream",
     "text": [
      "  Product  Quantity\n",
      "0       A        20\n",
      "1       B        35\n"
     ]
    }
   ],
   "source": [
    "import pandas as pd\n",
    "\n",
    "# 주어진 데이터프레임\n",
    "data = {\n",
    "    \"CustomerID\": [\"C1\", \"C2\", \"C3\", \"C4\"],\n",
    "    \"Product\": [\"A\", \"B\", \"A\", \"B\"],\n",
    "    \"Quantity\": [10, 15, 10, 20]\n",
    "}\n",
    "\n",
    "df = pd.DataFrame(data)\n",
    "\n",
    "# 피봇 테이블을 사용하여 각 제품별로 판매된 총 수량 계산\n",
    "total_quantities = pd.pivot_table(data=df, values=\"Quantity\", index=\"Product\", aggfunc=\"sum\").reset_index()\n",
    "\n",
    "print(total_quantities)\n"
   ]
  },
  {
   "cell_type": "code",
   "execution_count": null,
   "id": "0a61df40-ca8b-4557-9c43-a566a35a87a1",
   "metadata": {},
   "outputs": [],
   "source": []
  }
 ],
 "metadata": {
  "kernelspec": {
   "display_name": "Python 3 (ipykernel)",
   "language": "python",
   "name": "python3"
  },
  "language_info": {
   "codemirror_mode": {
    "name": "ipython",
    "version": 3
   },
   "file_extension": ".py",
   "mimetype": "text/x-python",
   "name": "python",
   "nbconvert_exporter": "python",
   "pygments_lexer": "ipython3",
   "version": "3.12.4"
  }
 },
 "nbformat": 4,
 "nbformat_minor": 5
}
