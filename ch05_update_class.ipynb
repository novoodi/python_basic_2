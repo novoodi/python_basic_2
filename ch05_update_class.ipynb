{
 "cells": [
  {
   "cell_type": "markdown",
   "metadata": {},
   "source": [
    "# 1. pandas 라이브러리 import 하기"
   ]
  },
  {
   "cell_type": "code",
   "execution_count": 1,
   "metadata": {},
   "outputs": [
    {
     "name": "stdout",
     "output_type": "stream",
     "text": [
      "Collecting pandas\n",
      "  Downloading pandas-2.2.2-cp312-cp312-win_amd64.whl.metadata (19 kB)\n",
      "Collecting numpy>=1.26.0 (from pandas)\n",
      "  Downloading numpy-1.26.4-cp312-cp312-win_amd64.whl.metadata (61 kB)\n",
      "     ---------------------------------------- 0.0/61.0 kB ? eta -:--:--\n",
      "     ------ --------------------------------- 10.2/61.0 kB ? eta -:--:--\n",
      "     --------------------------------- ------ 51.2/61.0 kB 1.3 MB/s eta 0:00:01\n",
      "     ---------------------------------------- 61.0/61.0 kB 1.1 MB/s eta 0:00:00\n",
      "Requirement already satisfied: python-dateutil>=2.8.2 in c:\\users\\우리집\\appdata\\local\\programs\\python\\python312\\lib\\site-packages (from pandas) (2.9.0.post0)\n",
      "Collecting pytz>=2020.1 (from pandas)\n",
      "  Downloading pytz-2024.1-py2.py3-none-any.whl.metadata (22 kB)\n",
      "Collecting tzdata>=2022.7 (from pandas)\n",
      "  Downloading tzdata-2024.1-py2.py3-none-any.whl.metadata (1.4 kB)\n",
      "Requirement already satisfied: six>=1.5 in c:\\users\\우리집\\appdata\\local\\programs\\python\\python312\\lib\\site-packages (from python-dateutil>=2.8.2->pandas) (1.16.0)\n",
      "Downloading pandas-2.2.2-cp312-cp312-win_amd64.whl (11.5 MB)\n",
      "   ---------------------------------------- 0.0/11.5 MB ? eta -:--:--\n",
      "   --- ------------------------------------ 1.0/11.5 MB 15.6 MB/s eta 0:00:01\n",
      "   ------- -------------------------------- 2.2/11.5 MB 23.6 MB/s eta 0:00:01\n",
      "   ------------- -------------------------- 3.8/11.5 MB 30.4 MB/s eta 0:00:01\n",
      "   ------------------ --------------------- 5.2/11.5 MB 30.4 MB/s eta 0:00:01\n",
      "   ----------------------- ---------------- 6.7/11.5 MB 33.0 MB/s eta 0:00:01\n",
      "   --------------------------- ------------ 7.9/11.5 MB 31.4 MB/s eta 0:00:01\n",
      "   ----------------------------- ---------- 8.4/11.5 MB 28.2 MB/s eta 0:00:01\n",
      "   ----------------------------- ---------- 8.4/11.5 MB 28.3 MB/s eta 0:00:01\n",
      "   ----------------------------- ---------- 8.4/11.5 MB 28.3 MB/s eta 0:00:01\n",
      "   ------------------------------ --------- 8.7/11.5 MB 21.5 MB/s eta 0:00:01\n",
      "   ------------------------------ --------- 8.7/11.5 MB 21.5 MB/s eta 0:00:01\n",
      "   ------------------------------ --------- 8.7/11.5 MB 21.5 MB/s eta 0:00:01\n",
      "   --------------------------------- ------ 9.7/11.5 MB 18.2 MB/s eta 0:00:01\n",
      "   --------------------------------- ------ 9.7/11.5 MB 18.2 MB/s eta 0:00:01\n",
      "   ------------------------------------ --- 10.6/11.5 MB 17.2 MB/s eta 0:00:01\n",
      "   ------------------------------------- -- 10.8/11.5 MB 16.0 MB/s eta 0:00:01\n",
      "   ------------------------------------- -- 10.9/11.5 MB 16.4 MB/s eta 0:00:01\n",
      "   ---------------------------------------  11.2/11.5 MB 14.9 MB/s eta 0:00:01\n",
      "   ---------------------------------------  11.5/11.5 MB 14.2 MB/s eta 0:00:01\n",
      "   ---------------------------------------  11.5/11.5 MB 14.2 MB/s eta 0:00:01\n",
      "   ---------------------------------------- 11.5/11.5 MB 13.1 MB/s eta 0:00:00\n",
      "Downloading numpy-1.26.4-cp312-cp312-win_amd64.whl (15.5 MB)\n",
      "   ---------------------------------------- 0.0/15.5 MB ? eta -:--:--\n",
      "   -- ------------------------------------- 0.8/15.5 MB 16.6 MB/s eta 0:00:01\n",
      "   -- ------------------------------------- 1.1/15.5 MB 13.7 MB/s eta 0:00:02\n",
      "   -- ------------------------------------- 1.1/15.5 MB 13.7 MB/s eta 0:00:02\n",
      "   -- ------------------------------------- 1.1/15.5 MB 7.0 MB/s eta 0:00:03\n",
      "   -- ------------------------------------- 1.1/15.5 MB 7.0 MB/s eta 0:00:03\n",
      "   ----- ---------------------------------- 2.1/15.5 MB 8.5 MB/s eta 0:00:02\n",
      "   ------ --------------------------------- 2.4/15.5 MB 8.4 MB/s eta 0:00:02\n",
      "   ------ --------------------------------- 2.6/15.5 MB 8.0 MB/s eta 0:00:02\n",
      "   ------- -------------------------------- 2.7/15.5 MB 7.9 MB/s eta 0:00:02\n",
      "   ------- -------------------------------- 2.7/15.5 MB 7.9 MB/s eta 0:00:02\n",
      "   -------- ------------------------------- 3.1/15.5 MB 7.1 MB/s eta 0:00:02\n",
      "   --------- ------------------------------ 3.6/15.5 MB 7.5 MB/s eta 0:00:02\n",
      "   ---------- ----------------------------- 3.9/15.5 MB 7.3 MB/s eta 0:00:02\n",
      "   ---------- ----------------------------- 4.2/15.5 MB 7.2 MB/s eta 0:00:02\n",
      "   ----------- ---------------------------- 4.4/15.5 MB 7.2 MB/s eta 0:00:02\n",
      "   ------------ --------------------------- 4.7/15.5 MB 7.1 MB/s eta 0:00:02\n",
      "   ------------ --------------------------- 4.9/15.5 MB 7.1 MB/s eta 0:00:02\n",
      "   ------------- -------------------------- 5.2/15.5 MB 7.0 MB/s eta 0:00:02\n",
      "   -------------- ------------------------- 5.5/15.5 MB 7.0 MB/s eta 0:00:02\n",
      "   -------------- ------------------------- 5.7/15.5 MB 7.1 MB/s eta 0:00:02\n",
      "   --------------- ------------------------ 6.0/15.5 MB 7.0 MB/s eta 0:00:02\n",
      "   ---------------- ----------------------- 6.3/15.5 MB 6.9 MB/s eta 0:00:02\n",
      "   ---------------- ----------------------- 6.5/15.5 MB 6.9 MB/s eta 0:00:02\n",
      "   ----------------- ---------------------- 6.8/15.5 MB 6.9 MB/s eta 0:00:02\n",
      "   ------------------ --------------------- 7.1/15.5 MB 6.9 MB/s eta 0:00:02\n",
      "   ------------------ --------------------- 7.4/15.5 MB 6.8 MB/s eta 0:00:02\n",
      "   ------------------- -------------------- 7.6/15.5 MB 6.8 MB/s eta 0:00:02\n",
      "   -------------------- ------------------- 7.9/15.5 MB 6.8 MB/s eta 0:00:02\n",
      "   -------------------- ------------------- 8.1/15.5 MB 6.8 MB/s eta 0:00:02\n",
      "   --------------------- ------------------ 8.4/15.5 MB 6.8 MB/s eta 0:00:02\n",
      "   ---------------------- ----------------- 8.7/15.5 MB 6.7 MB/s eta 0:00:02\n",
      "   ---------------------- ----------------- 8.9/15.5 MB 6.8 MB/s eta 0:00:01\n",
      "   ----------------------- ---------------- 9.2/15.5 MB 6.8 MB/s eta 0:00:01\n",
      "   ------------------------ --------------- 9.5/15.5 MB 6.8 MB/s eta 0:00:01\n",
      "   ------------------------- -------------- 9.7/15.5 MB 6.8 MB/s eta 0:00:01\n",
      "   ------------------------- -------------- 10.0/15.5 MB 6.7 MB/s eta 0:00:01\n",
      "   -------------------------- ------------- 10.2/15.5 MB 6.7 MB/s eta 0:00:01\n",
      "   -------------------------- ------------- 10.5/15.5 MB 6.5 MB/s eta 0:00:01\n",
      "   --------------------------- ------------ 10.7/15.5 MB 6.5 MB/s eta 0:00:01\n",
      "   ---------------------------- ----------- 11.0/15.5 MB 6.4 MB/s eta 0:00:01\n",
      "   ----------------------------- ---------- 11.3/15.5 MB 6.4 MB/s eta 0:00:01\n",
      "   ----------------------------- ---------- 11.5/15.5 MB 6.9 MB/s eta 0:00:01\n",
      "   ------------------------------ --------- 11.7/15.5 MB 6.7 MB/s eta 0:00:01\n",
      "   ------------------------------- -------- 12.1/15.5 MB 6.5 MB/s eta 0:00:01\n",
      "   ------------------------------- -------- 12.4/15.5 MB 6.4 MB/s eta 0:00:01\n",
      "   -------------------------------- ------- 12.8/15.5 MB 6.4 MB/s eta 0:00:01\n",
      "   --------------------------------- ------ 13.0/15.5 MB 6.7 MB/s eta 0:00:01\n",
      "   ---------------------------------- ----- 13.3/15.5 MB 6.5 MB/s eta 0:00:01\n",
      "   ---------------------------------- ----- 13.5/15.5 MB 6.5 MB/s eta 0:00:01\n",
      "   ----------------------------------- ---- 13.8/15.5 MB 6.4 MB/s eta 0:00:01\n",
      "   ------------------------------------ --- 14.1/15.5 MB 6.4 MB/s eta 0:00:01\n",
      "   ------------------------------------ --- 14.3/15.5 MB 6.4 MB/s eta 0:00:01\n",
      "   ------------------------------------- -- 14.6/15.5 MB 6.4 MB/s eta 0:00:01\n",
      "   -------------------------------------- - 14.9/15.5 MB 6.4 MB/s eta 0:00:01\n",
      "   -------------------------------------- - 15.1/15.5 MB 6.4 MB/s eta 0:00:01\n",
      "   ---------------------------------------  15.4/15.5 MB 6.4 MB/s eta 0:00:01\n",
      "   ---------------------------------------  15.5/15.5 MB 6.4 MB/s eta 0:00:01\n",
      "   ---------------------------------------  15.5/15.5 MB 6.4 MB/s eta 0:00:01\n",
      "   ---------------------------------------- 15.5/15.5 MB 6.1 MB/s eta 0:00:00\n",
      "Downloading pytz-2024.1-py2.py3-none-any.whl (505 kB)\n",
      "   ---------------------------------------- 0.0/505.5 kB ? eta -:--:--\n",
      "   --------------------------------------  501.8/505.5 kB 32.8 MB/s eta 0:00:01\n",
      "   ---------------------------------------- 505.5/505.5 kB 8.0 MB/s eta 0:00:00\n",
      "Downloading tzdata-2024.1-py2.py3-none-any.whl (345 kB)\n",
      "   ---------------------------------------- 0.0/345.4 kB ? eta -:--:--\n",
      "   --------------------------------------- 345.4/345.4 kB 10.8 MB/s eta 0:00:00\n",
      "Installing collected packages: pytz, tzdata, numpy, pandas\n",
      "Successfully installed numpy-1.26.4 pandas-2.2.2 pytz-2024.1 tzdata-2024.1\n"
     ]
    }
   ],
   "source": [
    "!pip install pandas"
   ]
  },
  {
   "cell_type": "code",
   "execution_count": 2,
   "metadata": {},
   "outputs": [
    {
     "name": "stdout",
     "output_type": "stream",
     "text": [
<<<<<<< HEAD
      "Collecting matplotlib\n",
      "  Downloading matplotlib-3.8.4-cp312-cp312-win_amd64.whl.metadata (5.9 kB)\n",
      "Collecting contourpy>=1.0.1 (from matplotlib)\n",
      "  Downloading contourpy-1.2.1-cp312-cp312-win_amd64.whl.metadata (5.8 kB)\n",
      "Collecting cycler>=0.10 (from matplotlib)\n",
      "  Downloading cycler-0.12.1-py3-none-any.whl.metadata (3.8 kB)\n",
      "Collecting fonttools>=4.22.0 (from matplotlib)\n",
      "  Downloading fonttools-4.51.0-cp312-cp312-win_amd64.whl.metadata (162 kB)\n",
      "     ---------------------------------------- 0.0/162.8 kB ? eta -:--:--\n",
      "     -- ------------------------------------- 10.2/162.8 kB ? eta -:--:--\n",
      "     ---------------------------- --------- 122.9/162.8 kB 2.4 MB/s eta 0:00:01\n",
      "     -------------------------------------- 162.8/162.8 kB 2.0 MB/s eta 0:00:00\n",
      "Collecting kiwisolver>=1.3.1 (from matplotlib)\n",
      "  Downloading kiwisolver-1.4.5-cp312-cp312-win_amd64.whl.metadata (6.5 kB)\n",
      "Requirement already satisfied: numpy>=1.21 in c:\\users\\우리집\\appdata\\local\\programs\\python\\python312\\lib\\site-packages (from matplotlib) (1.26.4)\n",
      "Requirement already satisfied: packaging>=20.0 in c:\\users\\우리집\\appdata\\local\\programs\\python\\python312\\lib\\site-packages (from matplotlib) (24.0)\n",
      "Collecting pillow>=8 (from matplotlib)\n",
      "  Downloading pillow-10.3.0-cp312-cp312-win_amd64.whl.metadata (9.4 kB)\n",
      "Collecting pyparsing>=2.3.1 (from matplotlib)\n",
      "  Downloading pyparsing-3.1.2-py3-none-any.whl.metadata (5.1 kB)\n",
      "Requirement already satisfied: python-dateutil>=2.7 in c:\\users\\우리집\\appdata\\local\\programs\\python\\python312\\lib\\site-packages (from matplotlib) (2.9.0.post0)\n",
      "Requirement already satisfied: six>=1.5 in c:\\users\\우리집\\appdata\\local\\programs\\python\\python312\\lib\\site-packages (from python-dateutil>=2.7->matplotlib) (1.16.0)\n",
      "Downloading matplotlib-3.8.4-cp312-cp312-win_amd64.whl (7.7 MB)\n",
      "   ---------------------------------------- 0.0/7.7 MB ? eta -:--:--\n",
      "   ----- ---------------------------------- 1.0/7.7 MB 33.4 MB/s eta 0:00:01\n",
      "   ---------- ----------------------------- 2.1/7.7 MB 26.3 MB/s eta 0:00:01\n",
      "   ---------------------- ----------------- 4.3/7.7 MB 34.2 MB/s eta 0:00:01\n",
      "   ------------------------------ --------- 5.8/7.7 MB 37.2 MB/s eta 0:00:01\n",
      "   -------------------------------------- - 7.3/7.7 MB 36.1 MB/s eta 0:00:01\n",
      "   ---------------------------------------  7.7/7.7 MB 32.7 MB/s eta 0:00:01\n",
      "   ---------------------------------------- 7.7/7.7 MB 28.8 MB/s eta 0:00:00\n",
      "Downloading contourpy-1.2.1-cp312-cp312-win_amd64.whl (189 kB)\n",
      "   ---------------------------------------- 0.0/189.9 kB ? eta -:--:--\n",
      "   --------------------------------------- 189.9/189.9 kB 11.2 MB/s eta 0:00:00\n",
      "Downloading cycler-0.12.1-py3-none-any.whl (8.3 kB)\n",
      "Downloading fonttools-4.51.0-cp312-cp312-win_amd64.whl (2.2 MB)\n",
      "   ---------------------------------------- 0.0/2.2 MB ? eta -:--:--\n",
      "   ----------------------------- ---------- 1.6/2.2 MB 49.9 MB/s eta 0:00:01\n",
      "   ------------------------------------ --- 2.0/2.2 MB 25.0 MB/s eta 0:00:01\n",
      "   ------------------------------------- -- 2.1/2.2 MB 21.8 MB/s eta 0:00:01\n",
      "   ------------------------------------- -- 2.1/2.2 MB 21.8 MB/s eta 0:00:01\n",
      "   ------------------------------------- -- 2.1/2.2 MB 21.8 MB/s eta 0:00:01\n",
      "   -------------------------------------- - 2.1/2.2 MB 8.3 MB/s eta 0:00:01\n",
      "   ---------------------------------------  2.1/2.2 MB 7.6 MB/s eta 0:00:01\n",
      "   ---------------------------------------- 2.2/2.2 MB 6.6 MB/s eta 0:00:00\n",
      "Downloading kiwisolver-1.4.5-cp312-cp312-win_amd64.whl (56 kB)\n",
      "   ---------------------------------------- 0.0/56.0 kB ? eta -:--:--\n",
      "   ---------------------------------------- 56.0/56.0 kB 2.9 MB/s eta 0:00:00\n",
      "Downloading pillow-10.3.0-cp312-cp312-win_amd64.whl (2.5 MB)\n",
      "   ---------------------------------------- 0.0/2.5 MB ? eta -:--:--\n",
      "   ------------------------------ --------- 1.9/2.5 MB 41.2 MB/s eta 0:00:01\n",
      "   ------------------------------------ --- 2.3/2.5 MB 24.6 MB/s eta 0:00:01\n",
      "   ---------------------------------------  2.5/2.5 MB 17.9 MB/s eta 0:00:01\n",
      "   ---------------------------------------- 2.5/2.5 MB 14.7 MB/s eta 0:00:00\n",
      "Downloading pyparsing-3.1.2-py3-none-any.whl (103 kB)\n",
      "   ---------------------------------------- 0.0/103.2 kB ? eta -:--:--\n",
      "   ---------------------------------------- 103.2/103.2 kB ? eta 0:00:00\n",
      "Installing collected packages: pyparsing, pillow, kiwisolver, fonttools, cycler, contourpy, matplotlib\n",
      "Successfully installed contourpy-1.2.1 cycler-0.12.1 fonttools-4.51.0 kiwisolver-1.4.5 matplotlib-3.8.4 pillow-10.3.0 pyparsing-3.1.2\n"
=======
      "Requirement already satisfied: matplotlib in c:\\users\\kimjung\\appdata\\local\\programs\\python\\python311\\lib\\site-packages (3.8.3)\n",
      "Requirement already satisfied: contourpy>=1.0.1 in c:\\users\\kimjung\\appdata\\local\\programs\\python\\python311\\lib\\site-packages (from matplotlib) (1.2.0)\n",
      "Requirement already satisfied: cycler>=0.10 in c:\\users\\kimjung\\appdata\\local\\programs\\python\\python311\\lib\\site-packages (from matplotlib) (0.12.1)\n",
      "Requirement already satisfied: fonttools>=4.22.0 in c:\\users\\kimjung\\appdata\\local\\programs\\python\\python311\\lib\\site-packages (from matplotlib) (4.50.0)\n",
      "Requirement already satisfied: kiwisolver>=1.3.1 in c:\\users\\kimjung\\appdata\\local\\programs\\python\\python311\\lib\\site-packages (from matplotlib) (1.4.5)\n",
      "Requirement already satisfied: numpy<2,>=1.21 in c:\\users\\kimjung\\appdata\\local\\programs\\python\\python311\\lib\\site-packages (from matplotlib) (1.26.4)\n",
      "Requirement already satisfied: packaging>=20.0 in c:\\users\\kimjung\\appdata\\local\\programs\\python\\python311\\lib\\site-packages (from matplotlib) (23.2)\n",
      "Requirement already satisfied: pillow>=8 in c:\\users\\kimjung\\appdata\\local\\programs\\python\\python311\\lib\\site-packages (from matplotlib) (10.2.0)\n",
      "Requirement already satisfied: pyparsing>=2.3.1 in c:\\users\\kimjung\\appdata\\local\\programs\\python\\python311\\lib\\site-packages (from matplotlib) (3.1.2)\n",
      "Requirement already satisfied: python-dateutil>=2.7 in c:\\users\\kimjung\\appdata\\local\\programs\\python\\python311\\lib\\site-packages (from matplotlib) (2.9.0.post0)\n",
      "Requirement already satisfied: six>=1.5 in c:\\users\\kimjung\\appdata\\local\\programs\\python\\python311\\lib\\site-packages (from python-dateutil>=2.7->matplotlib) (1.16.0)\n"
>>>>>>> ca2e9a37da1965762818f5c887903400135da67e
     ]
    }
   ],
   "source": [
    "!pip install matplotlib"
   ]
  },
  {
   "cell_type": "code",
<<<<<<< HEAD
   "execution_count": 7,
=======
   "execution_count": 3,
>>>>>>> ca2e9a37da1965762818f5c887903400135da67e
   "metadata": {
    "scrolled": true
   },
   "outputs": [],
   "source": [
    "import numpy as np\n",
    "import pandas as pd\n",
    "from pandas import Series, DataFrame # pandas  자료구조\n",
    "import matplotlib.pyplot as plt #판다스에서 제공해주는 시각화"
   ]
  },
  {
   "cell_type": "code",
<<<<<<< HEAD
   "execution_count": 8,
=======
   "execution_count": 5,
>>>>>>> ca2e9a37da1965762818f5c887903400135da67e
   "metadata": {},
   "outputs": [],
   "source": [
    "plt.rc(\"figure\", figsize=(10, 6))\n",
    "PREVIOUS_MAX_ROWS = pd.options.display.max_rows\n",
    "pd.options.display.max_rows = 20\n",
    "pd.options.display.max_columns = 20\n",
    "pd.options.display.max_colwidth = 80\n",
    "np.set_printoptions(precision=4, suppress=True)\n",
    "plt.rcParams[\"font.family\"] = 'Malgun Gothic' # 한글 폰트 변경 정보 폰트 깨짐 방지(맑은 고딕)"
   ]
  },
  {
   "cell_type": "markdown",
   "metadata": {},
   "source": [
    "# 2. Series  \n",
    "    * 일련의 객체를 담을 수 있는 1차원 데이터(스칼라, 리스트, 튜플, 사전) 벡터 같은 자료구조\n",
    "    * 파이썬의 일차원 데이터를 저장, 처리, 분석을 위한 다양한 기능들을 제공\n",
    "    * 인덱스와 값으로 구성\n"
   ]
  },
  {
   "cell_type": "markdown",
   "metadata": {},
   "source": [
    "## 2.1 Series 생성\n"
   ]
  },
  {
   "cell_type": "markdown",
   "metadata": {},
   "source": [
    "### 1) List를 사용하여 Series 생성"
   ]
  },
  {
   "cell_type": "code",
<<<<<<< HEAD
   "execution_count": 9,
=======
   "execution_count": 10,
>>>>>>> ca2e9a37da1965762818f5c887903400135da67e
   "metadata": {},
   "outputs": [
    {
     "data": {
      "text/plain": [
       "0    4\n",
       "1    7\n",
       "2   -5\n",
       "3    3\n",
       "dtype: int64"
      ]
     },
<<<<<<< HEAD
     "execution_count": 9,
=======
     "execution_count": 10,
>>>>>>> ca2e9a37da1965762818f5c887903400135da67e
     "metadata": {},
     "output_type": "execute_result"
    }
   ],
   "source": [
    "data = [4,7,-5,3] #파이썬의 리스트  타입 변수\n",
    "data\n",
    "obj = pd.Series(data) # Series([4,7,-5,3])\n",
    "obj # 시리즈 객체 : 색인(0부터 시작)과 데이터"
   ]
  },
  {
   "cell_type": "code",
<<<<<<< HEAD
   "execution_count": 10,
=======
   "execution_count": 11,
>>>>>>> ca2e9a37da1965762818f5c887903400135da67e
   "metadata": {},
   "outputs": [
    {
     "data": {
      "text/plain": [
<<<<<<< HEAD
       "0     1.624345\n",
       "1    -0.611756\n",
       "2    -0.528172\n",
       "3    -1.072969\n",
       "4     0.865408\n",
       "        ...   \n",
       "45   -0.636996\n",
       "46    0.190915\n",
       "47    2.100255\n",
       "48    0.120159\n",
       "49    0.617203\n",
       "Length: 50, dtype: float64"
      ]
     },
     "execution_count": 10,
=======
       "0    1.624345\n",
       "1   -0.611756\n",
       "2   -0.528172\n",
       "3   -1.072969\n",
       "4    0.865408\n",
       "dtype: float64"
      ]
     },
     "execution_count": 11,
>>>>>>> ca2e9a37da1965762818f5c887903400135da67e
     "metadata": {},
     "output_type": "execute_result"
    }
   ],
   "source": [
    "np.random.seed(1)\n",
    "sr = Series(np.random.randn(5))\n",
    "sr"
   ]
  },
  {
   "cell_type": "code",
<<<<<<< HEAD
   "execution_count": 11,
=======
   "execution_count": 13,
>>>>>>> ca2e9a37da1965762818f5c887903400135da67e
   "metadata": {},
   "outputs": [
    {
     "data": {
      "text/plain": [
       "d    4\n",
       "b    7\n",
       "a   -5\n",
       "c    3\n",
       "dtype: int64"
      ]
     },
<<<<<<< HEAD
     "execution_count": 11,
=======
     "execution_count": 13,
>>>>>>> ca2e9a37da1965762818f5c887903400135da67e
     "metadata": {},
     "output_type": "execute_result"
    }
   ],
   "source": [
    "# OR\n",
    "obj.index\n",
    "# 색인 이름 변경 \n",
    "obj.index = [\"d\", \"b\", \"a\", \"c\"]# 리스트 안에 담아서 색인 이름 변경\n",
    "obj\n",
    "# 인댁싱 색인 이름 검색\n",
    "# obj[\"d\"] # 검색 할때 [] 사용\n",
    "# obj[1] # 검색은 가능함"
   ]
  },
  {
   "cell_type": "code",
<<<<<<< HEAD
   "execution_count": 12,
=======
   "execution_count": 14,
>>>>>>> ca2e9a37da1965762818f5c887903400135da67e
   "metadata": {},
   "outputs": [
    {
     "data": {
      "text/plain": [
       "d    4\n",
       "b    7\n",
       "a   -5\n",
       "c    3\n",
       "dtype: int64"
      ]
     },
<<<<<<< HEAD
     "execution_count": 12,
=======
     "execution_count": 14,
>>>>>>> ca2e9a37da1965762818f5c887903400135da67e
     "metadata": {},
     "output_type": "execute_result"
    }
   ],
   "source": [
    "# 색인 지정(2) 한줄에서 지정하는 것 많이 씀\n",
    "obj2 = pd.Series([4, 7, -5, 3], index=[\"d\", \"b\", \"a\", \"c\"]) \n",
    "obj2 # 결과 값 출력 \n",
    "# obj2.index # 지정된 인덱스 확인 및 데이터 타입"
   ]
  },
  {
   "cell_type": "code",
<<<<<<< HEAD
   "execution_count": 13,
=======
   "execution_count": 21,
   "metadata": {},
   "outputs": [
    {
     "data": {
      "text/plain": [
       "c    3\n",
       "a   -5\n",
       "d    6\n",
       "dtype: int64"
      ]
     },
     "execution_count": 21,
     "metadata": {},
     "output_type": "execute_result"
    }
   ],
   "source": [
    "# 시리즈의 값 검색 -- 인덱싱\n",
    "# 단일된 값 또는 여러 개의 값을 선택할 때 색인으로 레이블을 사용\n",
    "# print(obj2)\n",
    "obj2[\"a\"] # 색인  a에 저장된 값을 보는 것\n",
    "obj2[\"d\"] = 6 #기존에 저장된 값을 바꾸는 것 4->6으로 변경\n",
    "obj2[\"d\"]\n",
    "s2 = obj2[[\"c\", \"a\", \"d\"]] # 여러 개의 색인을 사용할 경우 리스트에 담아서 처리 밖은 인덱스 안은 리스트 #s2는 시리즈\n",
    "s2\n",
    "# type(s2) # 내장 함수 type 추출해도 똑같음"
   ]
  },
  {
   "cell_type": "code",
   "execution_count": 26,
>>>>>>> ca2e9a37da1965762818f5c887903400135da67e
   "metadata": {},
   "outputs": [
    {
     "name": "stdout",
     "output_type": "stream",
     "text": [
      "d    4\n",
      "b    7\n",
      "a   -5\n",
      "c    3\n",
      "dtype: int64\n"
     ]
    },
    {
     "data": {
      "text/plain": [
       "a   -5\n",
       "dtype: int64"
      ]
     },
     "execution_count": 13,
     "metadata": {},
     "output_type": "execute_result"
    }
   ],
   "source": [
<<<<<<< HEAD
    "# 시리즈의 값 검색 -- 인덱싱\n",
    "# 단일된 값 또는 여러 개의 값을 선택할 때 색인으로 레이블을 사용\n",
    "print(obj2)\n",
    "obj2[\"a\"] # 색인  a에 저장된 값을 보는 것\n",
    "obj2[\"d\"] = 6 #기존에 저장된 값을 바꾸는 것 4->6으로 변경\n",
    "obj2[\"d\"]\n",
    "s2 = obj2[[\"c\", \"a\", \"d\"]] # 여러 개의 색인을 사용할 경우 리스트에 담아서 처리 밖은 인덱스 안은 리스트 #s2는 시리즈\n",
    "s2\n",
    "# type(s2) # 내장 함수 type 추출해도 똑같음"
   ]
  },
  {
   "cell_type": "code",
   "execution_count": 14,
   "metadata": {},
   "outputs": [
    {
     "name": "stdout",
     "output_type": "stream",
     "text": [
      "d    6\n",
      "b    7\n",
      "a   -5\n",
      "c    3\n",
      "dtype: int64\n"
     ]
    },
    {
     "data": {
      "text/plain": [
       "d    6\n",
       "b    7\n",
       "c    3\n",
       "dtype: int64"
      ]
     },
     "execution_count": 14,
     "metadata": {},
     "output_type": "execute_result"
    }
   ],
   "source": [
=======
>>>>>>> ca2e9a37da1965762818f5c887903400135da67e
    "# 시리즈의 값 검색 --- 조건색인(boolean indexing)!!!\n",
    "#1. 조건식\n",
    "print(obj2)\n",
    "cond = obj2 > 0 # 조건식 비교연산자 (>) 사용  #양수를 불이언 시리즈 만듦 # true 또는 false로 표시 인덱스의 값은 변환되지 않음\n",
    "cond\n",
    "#2. 조건식을 적용하기 위해 인덱식\n",
    "obj3 = obj2[obj2 < 0] # 조건부 색인 : 불리언 배열을 사용하여 값을 걸러내기 -> 불리언 인덱식이라고 말함 인덱싱을 해서 obj3에 저장\n",
    "obj3 # 출력을 의미함"
   ]
  },
  {
   "cell_type": "code",
<<<<<<< HEAD
   "execution_count": 15,
=======
   "execution_count": 29,
   "metadata": {},
   "outputs": [
    {
     "data": {
      "text/plain": [
       "d    36\n",
       "b    49\n",
       "a    25\n",
       "c     9\n",
       "dtype: int64"
      ]
     },
     "execution_count": 29,
     "metadata": {},
     "output_type": "execute_result"
    }
   ],
   "source": [
    "# 시리즈 간에 연산: 시리즈 * 스칼라 -> 새로운 시리즈 생성(broadcasting)\n",
    "obj2 ** 2 # 행렬 스칼라 연산 모든 인덱싱에 있는 값을 곱한다고 생각하면 됨"
   ]
  },
  {
   "cell_type": "code",
   "execution_count": 30,
>>>>>>> ca2e9a37da1965762818f5c887903400135da67e
   "metadata": {},
   "outputs": [
    {
     "data": {
      "text/plain": [
       "False"
      ]
     },
     "execution_count": 15,
     "metadata": {},
     "output_type": "execute_result"
    }
   ],
   "source": [
<<<<<<< HEAD
    "# 시리즈 간에 연산: 시리즈 * 스칼라 -> 새로운 시리즈 생성(broadcasting)\n",
    "obj2 * 2 # 행렬 스칼라 연산 모든 인덱싱에 있는 값을 곱한다고 생각하면 됨"
   ]
  },
  {
   "cell_type": "code",
   "execution_count": 16,
   "metadata": {},
   "outputs": [
    {
     "data": {
      "text/plain": [
       "False"
      ]
     },
     "execution_count": 16,
     "metadata": {},
     "output_type": "execute_result"
    }
   ],
   "source": [
=======
>>>>>>> ca2e9a37da1965762818f5c887903400135da67e
    "\"b\" in obj2 # 인덱스 존재 유무 확인 in-> 예약어\n",
    "\"F\" in obj2 #없으면 False가 나옴"
   ]
  },
  {
   "cell_type": "markdown",
   "metadata": {},
   "source": [
    "### 2) Tuple을 이용하여 Series 생성하기"
   ]
  },
  {
   "cell_type": "code",
<<<<<<< HEAD
   "execution_count": 17,
=======
   "execution_count": 36,
>>>>>>> ca2e9a37da1965762818f5c887903400135da67e
   "metadata": {},
   "outputs": [
    {
     "data": {
      "text/plain": [
       "one      4\n",
       "tow      4\n",
       "three    1\n",
       "four     2\n",
       "dtype: int64"
      ]
     },
<<<<<<< HEAD
     "execution_count": 17,
=======
     "execution_count": 36,
>>>>>>> ca2e9a37da1965762818f5c887903400135da67e
     "metadata": {},
     "output_type": "execute_result"
    }
   ],
   "source": [
    "arr = (3,4,1,2) # tuple 타입\n",
    "data2 = pd.Series(arr, index = ['one', 'tow', 'three' , 'four']) #인덱싱 값 변경\n",
    "data2[\"one\"] = 4\n",
    "data2"
   ]
  },
  {
   "cell_type": "markdown",
   "metadata": {},
   "source": [
    "### 3) Dict을 이용하여 Series 생성하기"
   ]
  },
  {
   "cell_type": "code",
   "execution_count": 42,
   "metadata": {},
   "outputs": [
    {
     "data": {
      "text/plain": [
       "Ohio      35000\n",
       "Texas     71000\n",
       "Oregon    16000\n",
       "Utah       5000\n",
       "dtype: int64"
      ]
     },
     "execution_count": 42,
     "metadata": {},
     "output_type": "execute_result"
    }
   ],
   "source": [
    "sdata = {\"Ohio\": 35000, \"Texas\": 71000, \"Oregon\": 16000, \"Utah\": 5000} # 딕션어리의 keys 값으로 적용됨\n",
    "sdata.keys() # index 값만 뽑는 걸 의미함\n",
    "sdata.values()# 숫자 값만\n",
    "sdata.items()# 둘다 뽑음\n",
    "obj3 = pd.Series(sdata) # Series  객체의 색인은 딕셔너리의 keys 메서드에서 반환하는 키의 값 순서대로 들어감\n",
    "obj3"
   ]
  },
  {
   "cell_type": "markdown",
   "metadata": {},
   "source": [
    "## ** 몇 가지  Series 특징들 **\n",
    "* Series.values 는 numpy의 ndarray(n차원 배열) 객체 뒤에 있는 숫자 값"
   ]
  },
  {
   "cell_type": "code",
<<<<<<< HEAD
   "execution_count": 196,
=======
   "execution_count": 49,
>>>>>>> ca2e9a37da1965762818f5c887903400135da67e
   "metadata": {},
   "outputs": [
    {
     "data": {
      "text/plain": [
       "numpy.ndarray"
      ]
     },
<<<<<<< HEAD
     "execution_count": 196,
=======
     "execution_count": 49,
>>>>>>> ca2e9a37da1965762818f5c887903400135da67e
     "metadata": {},
     "output_type": "execute_result"
    }
   ],
   "source": [
    "type(obj3)\n",
    "obj3.values # 숫자 값과 데이터 값 int64로 변경\n",
    "type(obj3.values)"
   ]
  },
  {
   "cell_type": "markdown",
   "metadata": {},
   "source": [
    "* 값에는 모든 데이터 타입 사용이 가능"
   ]
  },
  {
   "cell_type": "code",
   "execution_count": 45,
   "metadata": {},
   "outputs": [
    {
     "data": {
      "text/plain": [
       "pandas.core.series.Series"
      ]
     },
     "execution_count": 45,
     "metadata": {},
     "output_type": "execute_result"
    }
   ],
   "source": [
    "# series -> python dictionary 변환 숫자에서 다시 dict으로 변경\n",
    "obj3.to_dict()\n",
    "type(obj3)"
   ]
  },
  {
   "cell_type": "markdown",
   "metadata": {},
   "source": [
    "## 2.2 Series의 주요 속성 및 메서드 (p.199)"
   ]
  },
  {
   "cell_type": "markdown",
   "metadata": {},
   "source": [
    "* index - Series의 인덱스(혹은 인덱스 라벨)\n",
    "* index - Series의 값(numpy.ndarry)"
   ]
  },
  {
   "cell_type": "code",
   "execution_count": 67,
   "metadata": {},
   "outputs": [
    {
     "data": {
      "text/plain": [
       "Fox               NaN\n",
       "California        NaN\n",
       "Ohio          35000.0\n",
       "Oregon        16000.0\n",
       "Texas         71000.0\n",
       "dtype: float64"
      ]
     },
     "execution_count": 67,
     "metadata": {},
     "output_type": "execute_result"
    }
   ],
   "source": [
    "#변수 이용해서 집어 넣기\n",
    "obj3\n",
    "sdata = {\"Ohio\": 35000, \"Texas\": 71000, \"Oregon\": 16000, \"Utah\": 5000} # dict를 사용함 # utah는 빠짐 -> 인덱싱을 생성 할때 없어서 즉, keys 값이 없음을 의미\n",
    "# states = [\"California\", \"Ohio\", \"Oregon\", \"Texas\"] \n",
    "obj4 = pd.Series(sdata, index=[\"Fox\", \"California\", \"Ohio\", \"Oregon\", \"Texas\"])\n",
    "obj4\n",
    "#새로 생성 했을 때 값이 없으면 NaN\n",
    "#결속치 : NaN (Not a Number) -> 속성은 있으나 비어있는 값"
   ]
  },
  {
   "cell_type": "code",
   "execution_count": 68,
   "metadata": {},
   "outputs": [
    {
     "data": {
      "text/plain": [
       "Index(['Fox', 'California', 'Ohio', 'Oregon', 'Texas'], dtype='object')"
      ]
     },
     "execution_count": 68,
     "metadata": {},
     "output_type": "execute_result"
    }
   ],
   "source": [
    "obj4.index"
   ]
  },
  {
   "cell_type": "markdown",
   "metadata": {},
   "source": [
    "* values - Series의 데이터"
   ]
  },
  {
   "cell_type": "code",
   "execution_count": 69,
   "metadata": {},
   "outputs": [
    {
     "data": {
      "text/plain": [
       "array([   nan,    nan, 35000., 16000., 71000.])"
      ]
     },
     "execution_count": 69,
     "metadata": {},
     "output_type": "execute_result"
    }
   ],
   "source": [
    "obj4.values # 값을 의미함 즉, 실질적인 숫자"
   ]
  },
  {
   "cell_type": "markdown",
   "metadata": {},
   "source": [
    "* size - Series의 크기(데이터의 길이) "
   ]
  },
  {
   "cell_type": "code",
   "execution_count": 70,
   "metadata": {},
   "outputs": [
    {
     "data": {
      "text/plain": [
       "5"
      ]
     },
     "execution_count": 70,
     "metadata": {},
     "output_type": "execute_result"
    }
   ],
   "source": [
    "obj4.size #size -> 속성을 의미함 시리즈 안에 저장된 데이터의 값 즉, 데이터의 길이"
   ]
  },
  {
   "cell_type": "markdown",
   "metadata": {},
   "source": [
    "* dtype - Series의 데이터(Series.values)의 데이터 타입\n",
    "  * int64\n",
    "  * float64\n",
    "  * object - 문자열이거나 2개 이상의 데이터 타입으로 이루어진 경우"
   ]
  },
  {
   "cell_type": "code",
   "execution_count": 71,
   "metadata": {},
   "outputs": [
    {
     "data": {
      "text/plain": [
       "dtype('float64')"
      ]
     },
     "execution_count": 71,
     "metadata": {},
     "output_type": "execute_result"
    }
   ],
   "source": [
    "obj4.dtype"
   ]
  },
  {
   "cell_type": "code",
   "execution_count": 72,
   "metadata": {},
   "outputs": [
    {
     "data": {
      "text/plain": [
       "<bound method IndexOpsMixin.item of 0      2\n",
       "1    3.5\n",
       "2    abc\n",
       "dtype: object>"
      ]
     },
     "execution_count": 72,
     "metadata": {},
     "output_type": "execute_result"
    }
   ],
   "source": [
    "s3 = Series([2,3.5,'abc'])# 혼합된 값의 경우 오브젝트로 나옴\n",
    "s3.values\n",
    "s3.item\n",
    "#s3.dtype"
   ]
  },
  {
   "cell_type": "markdown",
   "metadata": {},
   "source": [
    "* describe() - 통계 정보를 한 눈에 제공해주는 함수"
   ]
  },
  {
   "cell_type": "code",
   "execution_count": 73,
   "metadata": {},
   "outputs": [
    {
     "data": {
      "text/plain": [
       "count        3.000000\n",
       "mean     40666.666667\n",
       "std      27934.447074\n",
       "min      16000.000000\n",
       "25%      25500.000000\n",
       "50%      35000.000000\n",
       "75%      53000.000000\n",
       "max      71000.000000\n",
       "dtype: float64"
      ]
     },
     "execution_count": 73,
     "metadata": {},
     "output_type": "execute_result"
    }
   ],
   "source": [
    "obj4.describe()# 사용시 점 표기"
   ]
  },
  {
   "cell_type": "markdown",
   "metadata": {},
   "source": [
    "* 통계함수 - max(), min(), mean()..  # 시리즈에서 제공"
   ]
  },
  {
   "cell_type": "code",
   "execution_count": 79,
   "metadata": {},
   "outputs": [
    {
     "data": {
      "text/plain": [
       "71000.0"
      ]
     },
     "execution_count": 79,
     "metadata": {},
     "output_type": "execute_result"
    }
   ],
   "source": [
    "obj4 #육안으로 보기 어려우니 내장된 함수 사용\n",
    "obj4.max() # 최대값 max()"
   ]
  },
  {
   "cell_type": "code",
   "execution_count": 80,
   "metadata": {},
   "outputs": [
    {
     "data": {
      "text/plain": [
       "40666.666666666664"
      ]
     },
     "execution_count": 80,
     "metadata": {},
     "output_type": "execute_result"
    }
   ],
   "source": [
    "obj4.mean()"
   ]
  },
  {
   "cell_type": "code",
   "execution_count": 81,
   "metadata": {},
   "outputs": [
    {
     "data": {
      "text/plain": [
       "16000.0"
      ]
     },
     "execution_count": 81,
     "metadata": {},
     "output_type": "execute_result"
    }
   ],
   "source": [
    "obj4.min()"
   ]
  },
  {
   "cell_type": "markdown",
   "metadata": {},
   "source": [
    "* isna() - 누락된 데이터를 찾을 때 불리언 배열을 반환 -> na는 결측치를 의미함 누락된 것을 불리언으로 반환\n",
    "* notna() -누락되지 않은 데이터을 찾을 때 불리언 배열로 반환"
   ]
  },
  {
   "cell_type": "code",
   "execution_count": 82,
   "metadata": {},
   "outputs": [
    {
     "data": {
      "text/plain": [
       "Fox           False\n",
       "California    False\n",
       "Ohio           True\n",
       "Oregon         True\n",
       "Texas          True\n",
       "dtype: bool"
      ]
     },
     "execution_count": 82,
     "metadata": {},
     "output_type": "execute_result"
    }
   ],
   "source": [
    "obj4 #california가 NaN임\n",
    "pd.isna(obj4)\n",
    "# obj4.isna() 누락된 값을 true로 출력\n",
    "# 여기서 누락된 값이란 NAN겂을 의미한다. 결측치를 의미하는것\n",
    "# California        NaN\n",
    "# Ohio          35000.0\n",
    "# Oregon        16000.0\n",
    "# Texas         71000.0\n",
    "pd.notna(obj4) \n",
    "# 누락 되지 않은 값을 true로 출력\n",
    "# Fox           False\n",
    "# California    False\n",
    "# Ohio           True\n",
    "# Oregon         True\n",
    "# Texas          True\n",
    "# dtype: bool"
   ]
  },
  {
   "cell_type": "markdown",
   "metadata": {},
   "source": [
    "* value_counts() - Series에 있는 데이터 값들의 개수"
   ]
  },
  {
   "cell_type": "code",
   "execution_count": 89,
   "metadata": {},
   "outputs": [
    {
     "name": "stdout",
     "output_type": "stream",
     "text": [
      "Fox               NaN\n",
      "California        NaN\n",
      "Ohio          35000.0\n",
      "Oregon        16000.0\n",
      "Texas         71000.0\n",
      "dtype: float64\n"
     ]
    },
    {
     "data": {
      "text/plain": [
       "35000.0    1\n",
       "16000.0    1\n",
       "71000.0    1\n",
       "Name: count, dtype: int64"
      ]
     },
     "execution_count": 89,
     "metadata": {},
     "output_type": "execute_result"
    }
   ],
   "source": [
    "print(obj4)\n",
    "obj4.value_counts() #NaN은 출력되지 않음"
   ]
  },
  {
   "cell_type": "markdown",
   "metadata": {},
   "source": [
    "* add(값) - Series의 데이터 각각에 값을 더하기"
   ]
  },
  {
   "cell_type": "code",
   "execution_count": 86,
   "metadata": {},
   "outputs": [
    {
     "name": "stdout",
     "output_type": "stream",
     "text": [
      "d    6\n",
      "b    7\n",
      "c    3\n",
      "dtype: int64\n",
      "Fox               NaN\n",
      "California        NaN\n",
      "Ohio          35000.0\n",
      "Oregon        16000.0\n",
      "Texas         71000.0\n",
      "dtype: float64\n"
     ]
    },
    {
     "data": {
      "text/plain": [
       "California   NaN\n",
       "Fox          NaN\n",
       "Ohio         NaN\n",
       "Oregon       NaN\n",
       "Texas        NaN\n",
       "b            NaN\n",
       "c            NaN\n",
       "d            NaN\n",
       "dtype: float64"
      ]
     },
     "execution_count": 86,
     "metadata": {},
     "output_type": "execute_result"
    }
   ],
   "source": [
    "print(obj3)\n",
    "print(obj4)\n",
    "obj3 + obj4 #시리즈간 연산 가능 만약 대응하는 값이 없을 경우 NaN으로 출력"
   ]
  },
  {
   "cell_type": "code",
   "execution_count": 90,
   "metadata": {},
   "outputs": [
    {
     "name": "stdout",
     "output_type": "stream",
     "text": [
      "Fox               NaN\n",
      "California        NaN\n",
      "Ohio          35000.0\n",
      "Oregon        16000.0\n",
      "Texas         71000.0\n",
      "dtype: float64\n"
     ]
    },
    {
     "data": {
      "text/plain": [
       "California   NaN\n",
       "Fox          NaN\n",
       "Ohio         NaN\n",
       "Oregon       NaN\n",
       "Texas        NaN\n",
       "b            NaN\n",
       "c            NaN\n",
       "d            NaN\n",
       "dtype: float64"
      ]
     },
     "execution_count": 90,
     "metadata": {},
     "output_type": "execute_result"
    }
   ],
   "source": [
    "print(obj4)\n",
    "obj3.add(obj4)#시리즈.add(시리즈) 도 가능"
   ]
  },
  {
   "cell_type": "code",
   "execution_count": 91,
   "metadata": {},
   "outputs": [
    {
     "data": {
      "text/plain": [
       "California   NaN\n",
       "Fox          NaN\n",
       "Ohio         NaN\n",
       "Oregon       NaN\n",
       "Texas        NaN\n",
       "b            NaN\n",
       "c            NaN\n",
       "d            NaN\n",
       "dtype: float64"
      ]
     },
     "execution_count": 91,
     "metadata": {},
     "output_type": "execute_result"
    }
   ],
   "source": [
    "obj3.sub(obj4) #동일하게 대응하는 값이 없으면 NaN으로 출력"
   ]
  },
  {
   "cell_type": "markdown",
   "metadata": {},
   "source": [
    "### [Quiz] 시리즈 obj4의 데이터에 1000을 더하시오"
   ]
  },
  {
   "cell_type": "code",
   "execution_count": 99,
   "metadata": {},
   "outputs": [
    {
     "data": {
      "text/plain": [
       "Fox               NaN\n",
       "California        NaN\n",
       "Ohio          36000.0\n",
       "Oregon        17000.0\n",
       "Texas         72000.0\n",
       "dtype: float64"
      ]
     },
     "execution_count": 99,
     "metadata": {},
     "output_type": "execute_result"
    }
   ],
   "source": [
    "obj4.add(1000) \n",
    "# 또는 obj4 + 1000\n",
    "# nan 값에도 1000을 추가 하고 싶다면\n",
    "# obj4.loc('California') = 0 -> 바로 1000을 부여하지 않는 이유는 1000을 부여시 밑에 코드에서도 1000을 또 부여해서 총 2000을 추가하게 됨\n",
    "# obj4.add(1000)"
   ]
  },
  {
   "cell_type": "markdown",
   "metadata": {},
   "source": [
    "* series.isin(val_list) - Series에 있는 각각의 데이터를 vali_list 에 포함되어 있는지 여부를 확인하여 불리언 배열 반환\n",
    "* 앞에 있는 시리즈에 뒤에 있는 시리즈가 있는지 물어보는 것 하나하나 대응해서 values에 있는 지 확인\n",
    "cf) val_list in series"
   ]
  },
  {
   "cell_type": "code",
   "execution_count": 100,
   "metadata": {},
   "outputs": [
    {
     "data": {
      "text/plain": [
       "a     True\n",
       "b    False\n",
       "c    False\n",
       "d    False\n",
       "e    False\n",
       "f    False\n",
       "g    False\n",
       "h    False\n",
       "i    False\n",
       "j    False\n",
       "dtype: bool"
      ]
     },
     "execution_count": 100,
     "metadata": {},
     "output_type": "execute_result"
    }
   ],
   "source": [
    "sample = Series(data=[89,90,78,65,90,100,78,55,40,90], index=['a','b','c','d','e','f','g','h','i','j'])\n",
    "sample.isin([89])"
   ]
  },
  {
   "cell_type": "markdown",
   "metadata": {},
   "source": [
    "### [Quiz] sample 데이터 내에 90, 89가 있는지 확인하시오 리스트에 담아서 출력"
   ]
  },
  {
   "cell_type": "code",
   "execution_count": 101,
   "metadata": {},
   "outputs": [
    {
     "name": "stdout",
     "output_type": "stream",
     "text": [
      "[b    90\n",
      "e    90\n",
      "j    90\n",
      "dtype: int64]\n",
      "[a    89\n",
      "dtype: int64]\n"
     ]
    }
   ],
   "source": [
    "sample = Series(data=[89,90,78,65,90,100,78,55,40,90], index=['a','b','c','d','e','f','g','h','i','j'])\n",
    "# 비교연산자를 활용해서 각각 sample2에는 90 이외의 값을 걸러내고 sample3에는 89 이외의 값을 걸러낸다\n",
    "# 이후 걸러낸 값을 리스트로 저장 후 출력\n",
    "# 각각 sample2,sample3는 type(sample2), type(sample3)를 통해서 리스트 임을 알 수 있음\n",
    "sample2 = [sample[sample == 90]] \n",
    "sample3 = [sample[sample == 89]]\n",
    "print(sample2)\n",
    "print(sample3)"
   ]
  },
  {
   "cell_type": "markdown",
   "metadata": {},
   "source": [
    "### [Quiz] sample 데이터 내에 90이 있으면 True, 없으면 False을 출력"
   ]
  },
  {
   "cell_type": "code",
   "execution_count": 102,
   "metadata": {},
   "outputs": [
    {
     "data": {
      "text/plain": [
       "a    False\n",
       "b     True\n",
       "c    False\n",
       "d    False\n",
       "e     True\n",
       "f    False\n",
       "g    False\n",
       "h    False\n",
       "i    False\n",
       "j     True\n",
       "dtype: bool"
      ]
     },
     "execution_count": 102,
     "metadata": {},
     "output_type": "execute_result"
    }
   ],
   "source": [
    "sample = Series(data=[89,90,78,65,90,100,78,55,40,90], index=['a','b','c','d','e','f','g','h','i','j'])\n",
    "sample.isin([90])"
   ]
  },
  {
   "cell_type": "markdown",
   "metadata": {},
   "source": [
    "### [Quiz] sample 인덱스 내에 'b' 있는지 True, 없으면 False을 출력"
   ]
  },
  {
   "cell_type": "code",
   "execution_count": 103,
   "metadata": {},
   "outputs": [
    {
     "data": {
      "text/plain": [
       "True"
      ]
     },
     "execution_count": 103,
     "metadata": {},
     "output_type": "execute_result"
    }
   ],
   "source": [
    "\"b\" in sample #없으면 False가 나옴 인덱스의 존재 여부를 확인하는 예약어 in"
   ]
  },
  {
   "cell_type": "markdown",
   "metadata": {},
   "source": [
    "### <apply(함수)> : 원하는 함수를 series에 적용하기 위한 함수 !!!!!!\n",
    "1) apply(func) - Series의 데이터에 func 함수를 적용\n",
    "2) apply(lambda X: func(x))"
   ]
  },
  {
   "cell_type": "code",
   "execution_count": 111,
   "metadata": {},
   "outputs": [
    {
     "name": "stdout",
     "output_type": "stream",
     "text": [
      "a     89\n",
      "b     90\n",
      "c     78\n",
      "d     65\n",
      "e     90\n",
      "f    100\n",
      "g     78\n",
      "h     55\n",
      "i     40\n",
      "j     90\n",
      "dtype: int64\n",
      "a        fox\n",
      "b        fox\n",
      "c        fox\n",
      "d        fox\n",
      "e        fox\n",
      "f        fox\n",
      "g        fox\n",
      "h    not fox\n",
      "i    not fox\n",
      "j        fox\n",
      "dtype: object\n"
     ]
    },
    {
     "data": {
      "text/plain": [
       "pandas.core.series.Series"
      ]
     },
     "execution_count": 111,
     "metadata": {},
     "output_type": "execute_result"
    }
   ],
   "source": [
    "# 1. 함수 정의 :sample 값에서 60 이상이면 pass, 60 미만이면 fail로 변경하는 함수\n",
    "def pass_fail(val):\n",
    "    if val >= 60:\n",
    "        return 'fox'\n",
    "    else:\n",
    "        return 'not fox'\n",
    "\n",
    "# 2. 사용자 정의 함수를 시리즈에 적용\n",
    "print(sample)\n",
    "# 점표기법을 사용해서 시리즈에 함수 적용\n",
    "# .apply() 괄호안에 원하는 함수 적기\n",
    "result = sample.apply(pass_fail)# 점표기법을 사용해서 시리즈에 함수 적용\n",
    "print(result)\n",
    "type(result) # -> apply를 통해서 추가해도 타입이 Series인 것을 알 수 있음"
   ]
  },
  {
   "cell_type": "code",
   "execution_count": 112,
   "metadata": {},
   "outputs": [
    {
     "data": {
      "text/plain": [
       "a    pass\n",
       "b    pass\n",
       "c    pass\n",
       "d    pass\n",
       "e    pass\n",
       "f    pass\n",
       "g    pass\n",
       "h    fail\n",
       "i    fail\n",
       "j    pass\n",
       "dtype: object"
      ]
     },
     "execution_count": 112,
     "metadata": {},
     "output_type": "execute_result"
    }
   ],
   "source": [
    "# 익명함수로 코딩\n",
    "# 굳이 함수를 생성하지 않고 lambda를 사용 (익명 함수)\n",
    "sample.apply(lambda val: 'pass' if val >= 60 else 'fail') "
   ]
  },
  {
   "cell_type": "markdown",
   "metadata": {},
   "source": [
    "## 2.3 Series 객체와 색인의 이름 지정하기 -> 저장된 데이터에 이름을 부여하는 것\n",
    "    * Series.name\n",
    "    * Series.index.name"
   ]
  },
  {
   "cell_type": "code",
   "execution_count": 115,
   "metadata": {},
   "outputs": [
    {
     "name": "stdout",
     "output_type": "stream",
     "text": [
      "state\n",
      "population\n"
     ]
    }
   ],
   "source": [
    "# 객체의 이름\n",
    "obj4.name = \"population\"\n",
    "# 객체 index의 이름\n",
    "obj4.index.name = \"state\"\n",
    "print(obj4.index.name) # -> 출력 결과를 통해서 개체의 이름이 뭔지를 알 수 있다.\n",
    "print(obj4.name)"
   ]
  },
  {
   "cell_type": "markdown",
   "metadata": {},
   "source": [
    "## 2.4 원하는 데이터만 선택하기 (p.205~208 색인하기, 선택하기, 거르기)\n",
    "* 인덱스를 활용하여 특정 인덱스(들)에 해당하는 데이터 선택\n",
    "* 인덱스 슬라이싱으로 주어진 범위에 해당하는 데이터를 선택\n",
    "* 조건 색인(불리언 색인)을 활용하여 조건에 맞는 데이터 선택"
   ]
  },
  {
   "cell_type": "markdown",
   "metadata": {},
   "source": [
    "    1) 특정 인덱스 선택하기 : 숫자 인덱스와 인덱스 라벨 모두 사용 가능"
   ]
  },
  {
   "cell_type": "code",
   "execution_count": 119,
   "metadata": {},
   "outputs": [
    {
     "data": {
      "text/plain": [
       "a    0.0\n",
       "b    1.0\n",
       "c    2.0\n",
       "d    3.0\n",
       "dtype: float64"
      ]
     },
     "execution_count": 119,
     "metadata": {},
     "output_type": "execute_result"
    }
   ],
   "source": [
    "obj = pd.Series(np.arange(4.0), index=[\"a\", \"b\", \"c\", \"d\"])\n",
    "obj"
   ]
  },
  {
   "cell_type": "code",
   "execution_count": 120,
   "metadata": {},
   "outputs": [
    {
     "data": {
      "text/plain": [
       "1.0"
      ]
     },
     "execution_count": 120,
     "metadata": {},
     "output_type": "execute_result"
    }
   ],
   "source": [
    "obj[\"b\"] # 인덱스 라벨로 선택 [] -> 인덱스를 의미"
   ]
  },
  {
   "cell_type": "code",
   "execution_count": 124,
   "metadata": {},
   "outputs": [
    {
     "name": "stderr",
     "output_type": "stream",
     "text": [
      "C:\\Users\\우리집\\AppData\\Local\\Temp\\ipykernel_7728\\1219467131.py:1: FutureWarning: Series.__getitem__ treating keys as positions is deprecated. In a future version, integer keys will always be treated as labels (consistent with DataFrame behavior). To access a value by position, use `ser.iloc[pos]`\n",
      "  obj[1]\n"
     ]
    },
    {
     "data": {
      "text/plain": [
       "1.0"
      ]
     },
     "execution_count": 124,
     "metadata": {},
     "output_type": "execute_result"
    }
   ],
   "source": [
    "obj[1] # 숫자 인덱스를 통해서 값을 출력할수 있지만 잘 사용 하지 않는다 "
   ]
  },
  {
   "cell_type": "markdown",
   "metadata": {},
   "source": [
    "    2) 여러 인덱스를 동시에 선택하기 : 선택하고자 하는 인덱스 목록을 리스트로 전달"
   ]
  },
  {
   "cell_type": "code",
   "execution_count": 129,
   "metadata": {},
   "outputs": [
    {
     "name": "stderr",
     "output_type": "stream",
     "text": [
      "C:\\Users\\우리집\\AppData\\Local\\Temp\\ipykernel_7728\\3075970516.py:2: FutureWarning: Series.__getitem__ treating keys as positions is deprecated. In a future version, integer keys will always be treated as labels (consistent with DataFrame behavior). To access a value by position, use `ser.iloc[pos]`\n",
      "  obj[[1,3]]\n"
     ]
    },
    {
     "data": {
      "text/plain": [
       "b    1.0\n",
       "d    3.0\n",
       "dtype: float64"
      ]
     },
     "execution_count": 129,
     "metadata": {},
     "output_type": "execute_result"
    }
   ],
   "source": [
    "# 2, 4번쩨 데이터 선택 -> 인덱스[]안에 리스트 값[]으로 2개 이상의 인덱스를 출력할 수 있다.\n",
    "obj[[1,3]] #-> 숫자 인덱스 1,3을 출력한다는 뜻"
   ]
  },
  {
   "cell_type": "code",
   "execution_count": 132,
   "metadata": {},
   "outputs": [
    {
     "data": {
      "text/plain": [
       "b    1.0\n",
       "d    3.0\n",
       "dtype: float64"
      ]
     },
     "execution_count": 132,
     "metadata": {},
     "output_type": "execute_result"
    }
   ],
   "source": [
    "obj[[\"b\",'d']] #위 내용과 상이함"
   ]
  },
  {
   "cell_type": "markdown",
   "metadata": {},
   "source": [
    "    3) 인덱스 슬라이싱 - 주어진 범위에 해당하는 데이터 선택 \n",
    "    * 컬럼은 불가능"
   ]
  },
  {
   "cell_type": "code",
   "execution_count": 139,
   "metadata": {},
   "outputs": [
    {
     "data": {
      "text/plain": [
       "b    1.0\n",
       "c    2.0\n",
       "dtype: float64"
      ]
     },
     "execution_count": 139,
     "metadata": {},
     "output_type": "execute_result"
    }
   ],
   "source": [
    "obj[1:3]"
   ]
  },
  {
   "cell_type": "code",
   "execution_count": 143,
   "metadata": {},
   "outputs": [
    {
     "name": "stdout",
     "output_type": "stream",
     "text": [
      "a    0.0\n",
      "b    1.0\n",
      "c    2.0\n",
      "d    3.0\n",
      "dtype: float64\n"
     ]
    },
    {
     "data": {
      "text/plain": [
       "b    1.0\n",
       "c    2.0\n",
       "dtype: float64"
      ]
     },
     "execution_count": 143,
     "metadata": {},
     "output_type": "execute_result"
    }
   ],
   "source": [
    "print(obj)\n",
    "obj[-3:-1] # 음수도 사용 가능"
   ]
  },
  {
   "cell_type": "code",
   "execution_count": 145,
   "metadata": {},
   "outputs": [
    {
     "data": {
      "text/plain": [
       "a    0.0\n",
       "b    1.0\n",
       "c    2.0\n",
       "dtype: float64"
      ]
     },
     "execution_count": 145,
     "metadata": {},
     "output_type": "execute_result"
    }
   ],
   "source": [
    "obj['a':'c'] # 레이블별 인덱스는 포함\n",
    "# 각각의 숫자 인덱스 번호 처럼 사용 하면 안됨\n",
    "# 숫자 인덱스 출력과는 다르게 자기 그냥 해당 인덱스부터 해당 인덱스 까지를 출력한다"
   ]
  },
  {
   "cell_type": "code",
   "execution_count": 160,
   "metadata": {},
   "outputs": [
    {
     "name": "stdout",
     "output_type": "stream",
     "text": [
      "b    1.0\n",
      "c    2.0\n",
      "dtype: float64\n"
     ]
    },
    {
     "data": {
      "text/plain": [
       "b    1.0\n",
       "c    2.0\n",
       "d    3.0\n",
       "dtype: float64"
      ]
     },
     "execution_count": 160,
     "metadata": {},
     "output_type": "execute_result"
    }
   ],
   "source": [
    "# 실제로는 행의 인덱스를 활용해서 데이터 조회 .loc []/ .iloc[] -> 속성이여서 대괄호 \"[]\" 사용\n",
    "print(obj.loc[['b','c']])# 행의 인덱스 밖은/ 리스트[] 안\n",
    "obj.loc['b':'d'] # -> .loc[]도 슬라이싱이 가능하다는 사실 알고 있었나?\n",
    "# obj.loc[[\"a\"]]"
   ]
  },
  {
   "cell_type": "code",
   "execution_count": 326,
   "metadata": {},
   "outputs": [
    {
     "data": {
      "text/plain": [
       "b    1.0\n",
       "c    2.0\n",
       "dtype: float64"
      ]
     },
     "execution_count": 326,
     "metadata": {},
     "output_type": "execute_result"
    }
   ],
   "source": [
    "obj.iloc[[1,2]]\n",
    "# obj.iloc[1:4] # 슬라이싱도 가능하다는 사실 알고 계셨나요 당신?"
   ]
  },
  {
   "cell_type": "markdown",
   "metadata": {},
   "source": [
    "    4) **조건 색인(블리언 인덱싱)** : 조건 색인을 활용하여 원하는 데이터 선택"
   ]
  },
  {
   "cell_type": "code",
   "execution_count": 163,
   "metadata": {},
   "outputs": [
    {
     "name": "stdout",
     "output_type": "stream",
     "text": [
      "a    0.0\n",
      "b    1.0\n",
      "c    2.0\n",
      "d    3.0\n",
      "dtype: float64\n"
     ]
    },
    {
     "data": {
      "text/plain": [
       "a    0.0\n",
       "b    1.0\n",
       "dtype: float64"
      ]
     },
     "execution_count": 163,
     "metadata": {},
     "output_type": "execute_result"
    }
   ],
   "source": [
    "# mod 1\n",
    "print(obj)\n",
    "# 조건 색인 연산자를 사용해서 불리언 값으로 나옴\n",
    "bool_index = obj < 2\n",
    "# 2보다 작은 값을 저장 한다는 것\n",
    "bool_index\n",
    "obj[bool_index]"
   ]
  },
  {
   "cell_type": "code",
   "execution_count": 164,
   "metadata": {},
   "outputs": [
    {
     "data": {
      "text/plain": [
       "a    0.0\n",
       "b    1.0\n",
       "dtype: float64"
      ]
     },
     "execution_count": 164,
     "metadata": {},
     "output_type": "execute_result"
    }
   ],
   "source": [
    "# mothod \n",
    "# 따로 변수를 만들지 않고 집어 넣을 수도 있다\n",
    "obj[obj < 2]"
   ]
  },
  {
   "cell_type": "markdown",
   "metadata": {},
   "source": [
    "### [Quiz] sample 데이터에서 80 이상 데이터을 선택하시오.\n",
    "    sample = Series(data=[89,90,78,65,90,100,78,55,40,90], index=['a','b','c','d','e','f','g','h','i','j'])"
   ]
  },
  {
   "cell_type": "code",
   "execution_count": 165,
   "metadata": {},
   "outputs": [
    {
     "data": {
      "text/plain": [
       "a     89\n",
       "b     90\n",
       "e     90\n",
       "f    100\n",
       "j     90\n",
       "dtype: int64"
      ]
     },
     "execution_count": 165,
     "metadata": {},
     "output_type": "execute_result"
    }
   ],
   "source": [
    "sample[sample >80] "
   ]
  },
  {
   "cell_type": "markdown",
   "metadata": {},
   "source": [
    "### [Quiz] sample 데이터의 평균보다 작은 데이터만 선택하시오."
   ]
  },
  {
   "cell_type": "code",
   "execution_count": 166,
   "metadata": {},
   "outputs": [
    {
     "data": {
      "text/plain": [
       "d    65\n",
       "h    55\n",
       "i    40\n",
       "dtype: int64"
      ]
     },
     "execution_count": 166,
     "metadata": {},
     "output_type": "execute_result"
    }
   ],
   "source": [
    "sample[sample.mean()>sample]\n",
    "# sample.mean()-> 평균 값 77.5"
   ]
  },
  {
   "cell_type": "markdown",
   "metadata": {},
   "source": [
    "### [Quiz] sample 데이터가 60과 80 사이의 데이터만 선택"
   ]
  },
  {
   "cell_type": "code",
   "execution_count": 175,
   "metadata": {},
   "outputs": [
    {
     "data": {
      "text/plain": [
       "c    78\n",
       "d    65\n",
       "g    78\n",
       "dtype: int64"
      ]
     },
     "execution_count": 175,
     "metadata": {},
     "output_type": "execute_result"
    }
   ],
   "source": [
    "sample5 = sample[sample >60] # sample에 저장된 값 중 60보다 큰 값을 sample5에 저장 \n",
    "sample6 = sample5[sample5<80]# sample5에 저장된 값 중 80보다 작은 값을 sample6에 저장\n",
    "sample6"
   ]
  },
  {
   "cell_type": "markdown",
   "metadata": {},
   "source": [
    "# 3. DataFrame\n",
    "* 이차원 형태의 데이터을 저장, 처리, 관리, 분석하기 위한 자료구조\n",
    "* 이차원 데이터는 여러 개의 1차원 데이터들의 모임\n",
    "* 여러 개의 Series의 묶음\n",
    "* 표 같은 스프레드시트 형식의 자료구조\n",
    "  * 여러 개의 열이 존재하고 서로 다른 종류의 값(숫자, 문지열, 시계열, 불리언 등) 을 담을 수 있다.\n",
    "* 2차원 형태의 데이터(값, value)와 2개의 인덱스(index) 즉 행과 열로 구성\n",
    "  * row index는 순서가 존재\n",
    "    * 숫자 인덱스나 문자 인덱스로 색인 가능\n",
    "    * axis = 0 기본 값\n",
    "  * column index는 순서가 존재하지 않음\n",
    "    * axis = 1\n",
    "  * 2차원 형태의 데이터 타입에는 제약이 없음\n",
    "* 생성하는 방법\n",
    "  * 동일한 길이의 리스트에 담긴 딕셔너리를 이용\n",
    "  * 넘파이 배열을 이용"
   ]
  },
  {
   "cell_type": "markdown",
   "metadata": {},
   "source": [
    "## 3.1 중첩리스트을 이용하여 DataFrame 생성"
   ]
  },
  {
   "cell_type": "code",
   "execution_count": 187,
   "metadata": {},
   "outputs": [
    {
     "data": {
      "text/html": [
       "<div>\n",
       "<style scoped>\n",
       "    .dataframe tbody tr th:only-of-type {\n",
       "        vertical-align: middle;\n",
       "    }\n",
       "\n",
       "    .dataframe tbody tr th {\n",
       "        vertical-align: top;\n",
       "    }\n",
       "\n",
       "    .dataframe thead th {\n",
       "        text-align: right;\n",
       "    }\n",
       "</style>\n",
       "<table border=\"1\" class=\"dataframe\">\n",
       "  <thead>\n",
       "    <tr style=\"text-align: right;\">\n",
       "      <th></th>\n",
       "      <th>이름</th>\n",
       "      <th>나이</th>\n",
       "      <th>시간</th>\n",
       "    </tr>\n",
       "  </thead>\n",
       "  <tbody>\n",
       "    <tr>\n",
       "      <th>0</th>\n",
       "      <td>kim</td>\n",
       "      <td>3</td>\n",
       "      <td>100</td>\n",
       "    </tr>\n",
       "    <tr>\n",
       "      <th>1</th>\n",
       "      <td>park</td>\n",
       "      <td>5</td>\n",
       "      <td>90</td>\n",
       "    </tr>\n",
       "    <tr>\n",
       "      <th>2</th>\n",
       "      <td>lee</td>\n",
       "      <td>2</td>\n",
       "      <td>80</td>\n",
       "    </tr>\n",
       "  </tbody>\n",
       "</table>\n",
       "</div>"
      ],
      "text/plain": [
       "     이름  나이   시간\n",
       "0   kim   3  100\n",
       "1  park   5   90\n",
       "2   lee   2   80"
      ]
     },
     "execution_count": 187,
     "metadata": {},
     "output_type": "execute_result"
    }
   ],
   "source": [
    "#1. Pandas 라이브러리 임포트\n",
    "import pandas as pd\n",
    "from pandas import Series, DataFrame\n",
    "# 2. DataFrame 생성하고 데이터 할당하기 : 로우 인덱스와 컬럼 인덱스을  지정하지 않을 경우 기본값으로 할당\n",
    "df = DataFrame(data = [[1,2,3],\n",
    "                       ['kim','park','lee'],\n",
    "                       [90, 80, 100]\n",
    "                      ]) # 지정하지 않으면 기본 값 숫자로 나옴\n",
    "df.index = ['first','secend','thrid']\n",
    "df\n",
    "data2 = {\"이름\" : [\"kim\",\"park\",\"lee\"], \"나이\" : [3, 5, 2], \"시간\" : [100,90,80]}\n",
    "df2 = pd.DataFrame(data2)\n",
    "df2"
   ]
  },
  {
   "cell_type": "code",
   "execution_count": 181,
   "metadata": {},
   "outputs": [
    {
     "data": {
      "text/html": [
       "<div>\n",
       "<style scoped>\n",
       "    .dataframe tbody tr th:only-of-type {\n",
       "        vertical-align: middle;\n",
       "    }\n",
       "\n",
       "    .dataframe tbody tr th {\n",
       "        vertical-align: top;\n",
       "    }\n",
       "\n",
       "    .dataframe thead th {\n",
       "        text-align: right;\n",
       "    }\n",
       "</style>\n",
       "<table border=\"1\" class=\"dataframe\">\n",
       "  <thead>\n",
       "    <tr style=\"text-align: right;\">\n",
       "      <th></th>\n",
       "      <th>c1</th>\n",
       "      <th>c2</th>\n",
       "      <th>c3</th>\n",
       "    </tr>\n",
       "  </thead>\n",
       "  <tbody>\n",
       "    <tr>\n",
       "      <th>r1</th>\n",
       "      <td>1</td>\n",
       "      <td>2</td>\n",
       "      <td>3</td>\n",
       "    </tr>\n",
       "    <tr>\n",
       "      <th>r2</th>\n",
       "      <td>kim</td>\n",
       "      <td>park</td>\n",
       "      <td>lee</td>\n",
       "    </tr>\n",
       "    <tr>\n",
       "      <th>r3</th>\n",
       "      <td>90</td>\n",
       "      <td>80</td>\n",
       "      <td>100</td>\n",
       "    </tr>\n",
       "  </tbody>\n",
       "</table>\n",
       "</div>"
      ],
      "text/plain": [
       "     c1    c2   c3\n",
       "r1    1     2    3\n",
       "r2  kim  park  lee\n",
       "r3   90    80  100"
      ]
     },
     "execution_count": 181,
     "metadata": {},
     "output_type": "execute_result"
    }
   ],
   "source": [
    "#3. 로우 인덱스와 컬럼 인덱스 지정하기\n",
    "df1 = (data = [[1,2,3],\n",
    "                       ['kim','park','lee'],\n",
    "                       [90, 80, 100]], index = ['r1','r2','r3'], columns =['c1','c2','c3'])# 시리즈는 index/ 컬럼 축은 columns이용\n",
    "df1.index = []"
   ]
  },
  {
   "cell_type": "markdown",
   "metadata": {},
   "source": [
    "## 3.2 딕셔너리을 이용하여 DataFrame 생성하기 -> 많이 사용 "
   ]
  },
  {
   "cell_type": "code",
   "execution_count": 178,
   "metadata": {},
   "outputs": [
    {
     "data": {
      "text/html": [
       "<div>\n",
       "<style scoped>\n",
       "    .dataframe tbody tr th:only-of-type {\n",
       "        vertical-align: middle;\n",
       "    }\n",
       "\n",
       "    .dataframe tbody tr th {\n",
       "        vertical-align: top;\n",
       "    }\n",
       "\n",
       "    .dataframe thead th {\n",
       "        text-align: right;\n",
       "    }\n",
       "</style>\n",
       "<table border=\"1\" class=\"dataframe\">\n",
       "  <thead>\n",
       "    <tr style=\"text-align: right;\">\n",
       "      <th></th>\n",
       "      <th>state</th>\n",
       "      <th>year</th>\n",
       "      <th>pop</th>\n",
       "    </tr>\n",
       "  </thead>\n",
       "  <tbody>\n",
       "    <tr>\n",
       "      <th>c1</th>\n",
       "      <td>Ohio</td>\n",
       "      <td>2000</td>\n",
       "      <td>1.5</td>\n",
       "    </tr>\n",
       "    <tr>\n",
       "      <th>c2</th>\n",
       "      <td>Ohio</td>\n",
       "      <td>2001</td>\n",
       "      <td>1.7</td>\n",
       "    </tr>\n",
       "    <tr>\n",
       "      <th>c3</th>\n",
       "      <td>Ohio</td>\n",
       "      <td>2002</td>\n",
       "      <td>3.6</td>\n",
       "    </tr>\n",
       "    <tr>\n",
       "      <th>c4</th>\n",
       "      <td>Nevada</td>\n",
       "      <td>2001</td>\n",
       "      <td>2.4</td>\n",
       "    </tr>\n",
       "    <tr>\n",
       "      <th>c5</th>\n",
       "      <td>Nevada</td>\n",
       "      <td>2002</td>\n",
       "      <td>2.9</td>\n",
       "    </tr>\n",
       "    <tr>\n",
       "      <th>c6</th>\n",
       "      <td>Nevada</td>\n",
       "      <td>2003</td>\n",
       "      <td>3.2</td>\n",
       "    </tr>\n",
       "  </tbody>\n",
       "</table>\n",
       "</div>"
      ],
      "text/plain": [
       "     state  year  pop\n",
       "c1    Ohio  2000  1.5\n",
       "c2    Ohio  2001  1.7\n",
       "c3    Ohio  2002  3.6\n",
       "c4  Nevada  2001  2.4\n",
       "c5  Nevada  2002  2.9\n",
       "c6  Nevada  2003  3.2"
      ]
     },
     "execution_count": 178,
     "metadata": {},
     "output_type": "execute_result"
    }
   ],
   "source": [
    "#1. 딕셔너리 타입 데이터를 생성하기 - 키값이 컬럼에 대응\n",
    "data = {\"state\": [\"Ohio\", \"Ohio\", \"Ohio\", \"Nevada\", \"Nevada\", \"Nevada\"], # 시리즈와는 다르게 리스트(키값에 대응)가 들어감 -> 리스트의 길이가 index의 길이를 정함\n",
    "        \"year\": [2000, 2001, 2002, 2001, 2002, 2003],\n",
    "        \"pop\": [1.5, 1.7, 3.6, 2.4, 2.9, 3.2]}\n",
    "frame = pd.DataFrame(data)\n",
    "frame.index = ['c1','c2','c3','c4','c5','c6']\n",
    "frame"
   ]
  },
  {
   "cell_type": "code",
   "execution_count": 176,
   "metadata": {},
   "outputs": [
    {
     "data": {
      "text/html": [
       "<div>\n",
       "<style scoped>\n",
       "    .dataframe tbody tr th:only-of-type {\n",
       "        vertical-align: middle;\n",
       "    }\n",
       "\n",
       "    .dataframe tbody tr th {\n",
       "        vertical-align: top;\n",
       "    }\n",
       "\n",
       "    .dataframe thead th {\n",
       "        text-align: right;\n",
       "    }\n",
       "</style>\n",
       "<table border=\"1\" class=\"dataframe\">\n",
       "  <thead>\n",
       "    <tr style=\"text-align: right;\">\n",
       "      <th></th>\n",
       "      <th>state</th>\n",
       "      <th>year</th>\n",
       "      <th>pop</th>\n",
       "    </tr>\n",
       "  </thead>\n",
       "  <tbody>\n",
       "    <tr>\n",
       "      <th>a</th>\n",
       "      <td>Ohio</td>\n",
       "      <td>2000</td>\n",
       "      <td>1.5</td>\n",
       "    </tr>\n",
       "    <tr>\n",
       "      <th>b</th>\n",
       "      <td>Ohio</td>\n",
       "      <td>2001</td>\n",
       "      <td>1.7</td>\n",
       "    </tr>\n",
       "    <tr>\n",
       "      <th>c</th>\n",
       "      <td>Ohio</td>\n",
       "      <td>2002</td>\n",
       "      <td>3.6</td>\n",
       "    </tr>\n",
       "    <tr>\n",
       "      <th>d</th>\n",
       "      <td>Nevada</td>\n",
       "      <td>2001</td>\n",
       "      <td>2.4</td>\n",
       "    </tr>\n",
       "    <tr>\n",
       "      <th>e</th>\n",
       "      <td>Nevada</td>\n",
       "      <td>2002</td>\n",
       "      <td>2.9</td>\n",
       "    </tr>\n",
       "    <tr>\n",
       "      <th>f</th>\n",
       "      <td>Nevada</td>\n",
       "      <td>2003</td>\n",
       "      <td>3.2</td>\n",
       "    </tr>\n",
       "  </tbody>\n",
       "</table>\n",
       "</div>"
      ],
      "text/plain": [
       "    state  year  pop\n",
       "a    Ohio  2000  1.5\n",
       "b    Ohio  2001  1.7\n",
       "c    Ohio  2002  3.6\n",
       "d  Nevada  2001  2.4\n",
       "e  Nevada  2002  2.9\n",
       "f  Nevada  2003  3.2"
      ]
     },
     "execution_count": 176,
     "metadata": {},
     "output_type": "execute_result"
    }
   ],
   "source": [
    "# 2. 인덱스 변경\n",
    "frame.index = ['a','b','c','d','e','f'] # 개수만큼 대응하게 키를 생성\n",
    "frame"
   ]
  },
  {
   "cell_type": "markdown",
   "metadata": {},
   "source": [
    "### [Quiz] 2021, 2022, 2023년 3년간 대전, 대구, 부산, 광주, 원주의 5개 도시의 인구 수을 저장하는 데이터프레임 생성하기\n",
    "\n",
    "    data = {'서울': [950, 945, 938], \n",
    "        '대전': [800, 790, 780],\n",
    "        '부산': [920, 910, 900],\n",
    "        '광주': [700, 690, 680],\n",
    "        '원주': [300, 290, 250]\n",
    "       }"
   ]
  },
  {
   "cell_type": "code",
   "execution_count": 180,
   "metadata": {},
   "outputs": [
    {
     "data": {
      "text/html": [
       "<div>\n",
       "<style scoped>\n",
       "    .dataframe tbody tr th:only-of-type {\n",
       "        vertical-align: middle;\n",
       "    }\n",
       "\n",
       "    .dataframe tbody tr th {\n",
       "        vertical-align: top;\n",
       "    }\n",
       "\n",
       "    .dataframe thead th {\n",
       "        text-align: right;\n",
       "    }\n",
       "</style>\n",
       "<table border=\"1\" class=\"dataframe\">\n",
       "  <thead>\n",
       "    <tr style=\"text-align: right;\">\n",
       "      <th></th>\n",
       "      <th>서울</th>\n",
       "      <th>대전</th>\n",
       "      <th>부산</th>\n",
       "      <th>광주</th>\n",
       "      <th>원주</th>\n",
       "    </tr>\n",
       "  </thead>\n",
       "  <tbody>\n",
       "    <tr>\n",
       "      <th>2021</th>\n",
       "      <td>950</td>\n",
       "      <td>800</td>\n",
       "      <td>920</td>\n",
       "      <td>700</td>\n",
       "      <td>300</td>\n",
       "    </tr>\n",
       "    <tr>\n",
       "      <th>2022</th>\n",
       "      <td>945</td>\n",
       "      <td>790</td>\n",
       "      <td>910</td>\n",
       "      <td>690</td>\n",
       "      <td>290</td>\n",
       "    </tr>\n",
       "    <tr>\n",
       "      <th>2023</th>\n",
       "      <td>938</td>\n",
       "      <td>780</td>\n",
       "      <td>900</td>\n",
       "      <td>680</td>\n",
       "      <td>250</td>\n",
       "    </tr>\n",
       "  </tbody>\n",
       "</table>\n",
       "</div>"
      ],
      "text/plain": [
       "       서울   대전   부산   광주   원주\n",
       "2021  950  800  920  700  300\n",
       "2022  945  790  910  690  290\n",
       "2023  938  780  900  680  250"
      ]
     },
     "execution_count": 180,
     "metadata": {},
     "output_type": "execute_result"
    }
   ],
   "source": [
    "# index()의 경우 설정 하지 않으면 즉 인덱스를 설정해주지 않으면 자동으로 key 값에 대으애서 만들어짐\n",
    "data = {'서울': [950, 945, 938], \n",
    "    '대전': [800, 790, 780],\n",
    "    '부산': [920, 910, 900],\n",
    "    '광주': [700, 690, 680],\n",
    "    '원주': [300, 290, 250]\n",
    "   }\n",
    "frame1 = pd.DataFrame(data)# frame1에 DataFrame를 이용해서 값을 저장\n",
    "frame1.index = ['2021','2022','2023'] # 인덱스의 개수 만큼 원하는 값을 생성\n",
    "frame1"
   ]
  },
  {
   "cell_type": "markdown",
   "metadata": {},
   "source": [
    "## 3.3 DataFrame 의 주요 기능 : 속성과 함수 \n",
    "* 데이터 통계, 정렬, 집계 등\n",
    "* 컬럼 추가, 삭제"
   ]
  },
  {
   "cell_type": "markdown",
   "metadata": {},
   "source": [
    "### 3.3.1 주요 속성\n",
    "* 변수명.속성명"
   ]
  },
  {
   "cell_type": "code",
   "execution_count": 189,
   "metadata": {},
   "outputs": [
    {
     "name": "stdout",
     "output_type": "stream",
     "text": [
      "     state  year  pop\n",
      "c1    Ohio  2000  1.5\n",
      "c2    Ohio  2001  1.7\n",
      "c3    Ohio  2002  3.6\n",
      "c4  Nevada  2001  2.4\n",
      "c5  Nevada  2002  2.9\n",
      "c6  Nevada  2003  3.2\n"
     ]
    },
    {
     "data": {
      "text/plain": [
       "Index(['c1', 'c2', 'c3', 'c4', 'c5', 'c6'], dtype='object')"
      ]
     },
     "execution_count": 189,
     "metadata": {},
     "output_type": "execute_result"
    }
   ],
   "source": [
    "# 1. index : 데이터프레임의 인덱스를 리스트로 반환\n",
    "print(frame)\n",
    "frame.index"
   ]
  },
  {
   "cell_type": "code",
   "execution_count": 201,
   "metadata": {},
   "outputs": [
    {
     "data": {
      "text/plain": [
       "Index(['state', 'year', 'pop'], dtype='object')"
      ]
     },
     "execution_count": 201,
     "metadata": {},
     "output_type": "execute_result"
    }
   ],
   "source": [
    "# 2. columns : 데이터프레임의 컬럼을 리스트로 반환\n",
    "frame.columns"
   ]
  },
  {
   "cell_type": "code",
   "execution_count": 202,
   "metadata": {},
   "outputs": [
    {
     "data": {
      "text/html": [
       "<div>\n",
       "<style scoped>\n",
       "    .dataframe tbody tr th:only-of-type {\n",
       "        vertical-align: middle;\n",
       "    }\n",
       "\n",
       "    .dataframe tbody tr th {\n",
       "        vertical-align: top;\n",
       "    }\n",
       "\n",
       "    .dataframe thead th {\n",
       "        text-align: right;\n",
       "    }\n",
       "</style>\n",
       "<table border=\"1\" class=\"dataframe\">\n",
       "  <thead>\n",
       "    <tr style=\"text-align: right;\">\n",
       "      <th></th>\n",
       "      <th>state</th>\n",
       "      <th>year</th>\n",
       "      <th>pop</th>\n",
       "    </tr>\n",
       "  </thead>\n",
       "  <tbody>\n",
       "    <tr>\n",
       "      <th>c1</th>\n",
       "      <td>Ohio</td>\n",
       "      <td>2000</td>\n",
       "      <td>1.5</td>\n",
       "    </tr>\n",
       "    <tr>\n",
       "      <th>c2</th>\n",
       "      <td>Ohio</td>\n",
       "      <td>2001</td>\n",
       "      <td>1.7</td>\n",
       "    </tr>\n",
       "    <tr>\n",
       "      <th>c3</th>\n",
       "      <td>Ohio</td>\n",
       "      <td>2002</td>\n",
       "      <td>3.6</td>\n",
       "    </tr>\n",
       "    <tr>\n",
       "      <th>c4</th>\n",
       "      <td>Nevada</td>\n",
       "      <td>2001</td>\n",
       "      <td>2.4</td>\n",
       "    </tr>\n",
       "    <tr>\n",
       "      <th>c5</th>\n",
       "      <td>Nevada</td>\n",
       "      <td>2002</td>\n",
       "      <td>2.9</td>\n",
       "    </tr>\n",
       "    <tr>\n",
       "      <th>c6</th>\n",
       "      <td>Nevada</td>\n",
       "      <td>2003</td>\n",
       "      <td>3.2</td>\n",
       "    </tr>\n",
       "  </tbody>\n",
       "</table>\n",
       "</div>"
      ],
      "text/plain": [
       "     state  year  pop\n",
       "c1    Ohio  2000  1.5\n",
       "c2    Ohio  2001  1.7\n",
       "c3    Ohio  2002  3.6\n",
       "c4  Nevada  2001  2.4\n",
       "c5  Nevada  2002  2.9\n",
       "c6  Nevada  2003  3.2"
      ]
     },
     "execution_count": 202,
     "metadata": {},
     "output_type": "execute_result"
    }
   ],
   "source": [
    "# 3. values : 데이터프레임의 데이터 반환(numpy.ndarray)\n",
    "frame.values # 시리즈와 동일 하게 안에 있는 값 추출\n",
    "# type(frame.values)\n",
    "frame"
   ]
  },
  {
   "cell_type": "code",
   "execution_count": 203,
   "metadata": {},
   "outputs": [
    {
     "data": {
      "text/plain": [
       "(6, 3)"
      ]
     },
     "execution_count": 203,
     "metadata": {},
     "output_type": "execute_result"
    }
   ],
   "source": [
    "# 4. shape : 행과 열의 개수을 튜플로 반환\n",
    "frame\n",
    "frame.shape # 앞이 행 뒤가 열"
   ]
  },
  {
   "cell_type": "code",
   "execution_count": 207,
   "metadata": {},
   "outputs": [
    {
     "name": "stdout",
     "output_type": "stream",
     "text": [
      "a    1\n",
      "b    2\n",
      "c    3\n",
      "dtype: int64\n"
     ]
    },
    {
     "data": {
      "text/plain": [
       "(3,)"
      ]
     },
     "execution_count": 207,
     "metadata": {},
     "output_type": "execute_result"
    }
   ],
   "source": [
    "s = Series([1,2,3])\n",
    "s.index = ['a','b','c']\n",
    "print(s)\n",
    "s.shape # 시리즈는 열이 없으나 뒤에 값이 나오지 않은 상태로 출력"
   ]
  },
  {
   "cell_type": "code",
   "execution_count": 208,
   "metadata": {},
   "outputs": [
    {
     "data": {
      "text/html": [
       "<div>\n",
       "<style scoped>\n",
       "    .dataframe tbody tr th:only-of-type {\n",
       "        vertical-align: middle;\n",
       "    }\n",
       "\n",
       "    .dataframe tbody tr th {\n",
       "        vertical-align: top;\n",
       "    }\n",
       "\n",
       "    .dataframe thead th {\n",
       "        text-align: right;\n",
       "    }\n",
       "</style>\n",
       "<table border=\"1\" class=\"dataframe\">\n",
       "  <thead>\n",
       "    <tr style=\"text-align: right;\">\n",
       "      <th></th>\n",
       "      <th>state</th>\n",
       "      <th>year</th>\n",
       "      <th>pop</th>\n",
       "    </tr>\n",
       "  </thead>\n",
       "  <tbody>\n",
       "    <tr>\n",
       "      <th>c1</th>\n",
       "      <td>Ohio</td>\n",
       "      <td>2000</td>\n",
       "      <td>1.5</td>\n",
       "    </tr>\n",
       "    <tr>\n",
       "      <th>c2</th>\n",
       "      <td>Ohio</td>\n",
       "      <td>2001</td>\n",
       "      <td>1.7</td>\n",
       "    </tr>\n",
       "  </tbody>\n",
       "</table>\n",
       "</div>"
      ],
      "text/plain": [
       "   state  year  pop\n",
       "c1  Ohio  2000  1.5\n",
       "c2  Ohio  2001  1.7"
      ]
     },
     "execution_count": 208,
     "metadata": {},
     "output_type": "execute_result"
    }
   ],
   "source": [
    "frame.head(2) # 처음 5개행을 출력 ()안에 입력된 값 출력"
   ]
  },
  {
   "cell_type": "code",
   "execution_count": 210,
   "metadata": {},
   "outputs": [
    {
     "data": {
      "text/html": [
       "<div>\n",
       "<style scoped>\n",
       "    .dataframe tbody tr th:only-of-type {\n",
       "        vertical-align: middle;\n",
       "    }\n",
       "\n",
       "    .dataframe tbody tr th {\n",
       "        vertical-align: top;\n",
       "    }\n",
       "\n",
       "    .dataframe thead th {\n",
       "        text-align: right;\n",
       "    }\n",
       "</style>\n",
       "<table border=\"1\" class=\"dataframe\">\n",
       "  <thead>\n",
       "    <tr style=\"text-align: right;\">\n",
       "      <th></th>\n",
       "      <th>state</th>\n",
       "      <th>year</th>\n",
       "      <th>pop</th>\n",
       "    </tr>\n",
       "  </thead>\n",
       "  <tbody>\n",
       "    <tr>\n",
       "      <th>c1</th>\n",
       "      <td>Ohio</td>\n",
       "      <td>2000</td>\n",
       "      <td>1.5</td>\n",
       "    </tr>\n",
       "    <tr>\n",
       "      <th>c2</th>\n",
       "      <td>Ohio</td>\n",
       "      <td>2001</td>\n",
       "      <td>1.7</td>\n",
       "    </tr>\n",
       "    <tr>\n",
       "      <th>c3</th>\n",
       "      <td>Ohio</td>\n",
       "      <td>2002</td>\n",
       "      <td>3.6</td>\n",
       "    </tr>\n",
       "    <tr>\n",
       "      <th>c4</th>\n",
       "      <td>Nevada</td>\n",
       "      <td>2001</td>\n",
       "      <td>2.4</td>\n",
       "    </tr>\n",
       "    <tr>\n",
       "      <th>c5</th>\n",
       "      <td>Nevada</td>\n",
       "      <td>2002</td>\n",
       "      <td>2.9</td>\n",
       "    </tr>\n",
       "    <tr>\n",
       "      <th>c6</th>\n",
       "      <td>Nevada</td>\n",
       "      <td>2003</td>\n",
       "      <td>3.2</td>\n",
       "    </tr>\n",
       "  </tbody>\n",
       "</table>\n",
       "</div>"
      ],
      "text/plain": [
       "     state  year  pop\n",
       "c1    Ohio  2000  1.5\n",
       "c2    Ohio  2001  1.7\n",
       "c3    Ohio  2002  3.6\n",
       "c4  Nevada  2001  2.4\n",
       "c5  Nevada  2002  2.9\n",
       "c6  Nevada  2003  3.2"
      ]
     },
     "execution_count": 210,
     "metadata": {},
     "output_type": "execute_result"
    }
   ],
   "source": [
    "# 5. T (Transpose) : 행과 열 바꾸기\n",
    "frame# 행과 열 치환"
   ]
  },
  {
   "cell_type": "code",
   "execution_count": 103,
   "metadata": {},
   "outputs": [
    {
     "name": "stdout",
     "output_type": "stream",
     "text": [
      "    state  year  pop\n",
      "a    Ohio  2000  1.5\n",
      "b    Ohio  2001  1.7\n",
      "c    Ohio  2002  3.6\n",
      "d  Nevada  2001  2.4\n",
      "e  Nevada  2002  2.9\n",
      "f  Nevada  2003  3.2\n"
     ]
    },
    {
     "data": {
      "text/plain": [
       "state     object\n",
       "year       int64\n",
       "pop      float64\n",
       "dtype: object"
      ]
     },
     "execution_count": 103,
     "metadata": {},
     "output_type": "execute_result"
    }
   ],
   "source": [
    "# 7. dtypes : 컬럼별 데이터타입 반환\n",
    "print(frame)\n",
    "frame.dtypes # 각각의 컬럼의 데이터 타입을 보여줌"
   ]
  },
  {
   "cell_type": "code",
   "execution_count": 104,
   "metadata": {},
   "outputs": [
    {
     "data": {
      "text/plain": [
       "18"
      ]
     },
     "execution_count": 104,
     "metadata": {},
     "output_type": "execute_result"
    }
   ],
   "source": [
    "# 8. size : 데이터프레임의 원소의 개수를 반환\n",
    "frame.size # 저장되어 있는 총 데이터의 값을 의미함"
   ]
  },
  {
   "cell_type": "markdown",
   "metadata": {},
   "source": [
    "### 3.3.2 주요 함수\n",
    "* 변수명.함수명()"
   ]
  },
  {
   "cell_type": "code",
   "execution_count": 105,
   "metadata": {},
   "outputs": [
    {
     "name": "stdout",
     "output_type": "stream",
     "text": [
      "<class 'pandas.core.frame.DataFrame'>\n",
      "Index: 6 entries, a to f\n",
      "Data columns (total 3 columns):\n",
      " #   Column  Non-Null Count  Dtype  \n",
      "---  ------  --------------  -----  \n",
      " 0   state   6 non-null      object \n",
      " 1   year    6 non-null      int64  \n",
      " 2   pop     6 non-null      float64\n",
      "dtypes: float64(1), int64(1), object(1)\n",
      "memory usage: 192.0+ bytes\n"
     ]
    }
   ],
   "source": [
    "# 1. info() - 데이터프레임의 기본 정보 출력\n",
    "frame.info()"
   ]
  },
  {
   "cell_type": "code",
   "execution_count": 211,
   "metadata": {},
   "outputs": [
    {
     "name": "stdout",
     "output_type": "stream",
     "text": [
      "     state  year  pop\n",
      "c1    Ohio  2000  1.5\n",
      "c2    Ohio  2001  1.7\n",
      "c3    Ohio  2002  3.6\n",
      "c4  Nevada  2001  2.4\n",
      "c5  Nevada  2002  2.9\n",
      "c6  Nevada  2003  3.2\n"
     ]
    },
    {
     "data": {
      "text/html": [
       "<div>\n",
       "<style scoped>\n",
       "    .dataframe tbody tr th:only-of-type {\n",
       "        vertical-align: middle;\n",
       "    }\n",
       "\n",
       "    .dataframe tbody tr th {\n",
       "        vertical-align: top;\n",
       "    }\n",
       "\n",
       "    .dataframe thead th {\n",
       "        text-align: right;\n",
       "    }\n",
       "</style>\n",
       "<table border=\"1\" class=\"dataframe\">\n",
       "  <thead>\n",
       "    <tr style=\"text-align: right;\">\n",
       "      <th></th>\n",
       "      <th>year</th>\n",
       "      <th>pop</th>\n",
       "    </tr>\n",
       "  </thead>\n",
       "  <tbody>\n",
       "    <tr>\n",
       "      <th>count</th>\n",
       "      <td>6.000000</td>\n",
       "      <td>6.000000</td>\n",
       "    </tr>\n",
       "    <tr>\n",
       "      <th>mean</th>\n",
       "      <td>2001.500000</td>\n",
       "      <td>2.550000</td>\n",
       "    </tr>\n",
       "    <tr>\n",
       "      <th>std</th>\n",
       "      <td>1.048809</td>\n",
       "      <td>0.836062</td>\n",
       "    </tr>\n",
       "    <tr>\n",
       "      <th>min</th>\n",
       "      <td>2000.000000</td>\n",
       "      <td>1.500000</td>\n",
       "    </tr>\n",
       "    <tr>\n",
       "      <th>25%</th>\n",
       "      <td>2001.000000</td>\n",
       "      <td>1.875000</td>\n",
       "    </tr>\n",
       "    <tr>\n",
       "      <th>50%</th>\n",
       "      <td>2001.500000</td>\n",
       "      <td>2.650000</td>\n",
       "    </tr>\n",
       "    <tr>\n",
       "      <th>75%</th>\n",
       "      <td>2002.000000</td>\n",
       "      <td>3.125000</td>\n",
       "    </tr>\n",
       "    <tr>\n",
       "      <th>max</th>\n",
       "      <td>2003.000000</td>\n",
       "      <td>3.600000</td>\n",
       "    </tr>\n",
       "  </tbody>\n",
       "</table>\n",
       "</div>"
      ],
      "text/plain": [
       "              year       pop\n",
       "count     6.000000  6.000000\n",
       "mean   2001.500000  2.550000\n",
       "std       1.048809  0.836062\n",
       "min    2000.000000  1.500000\n",
       "25%    2001.000000  1.875000\n",
       "50%    2001.500000  2.650000\n",
       "75%    2002.000000  3.125000\n",
       "max    2003.000000  3.600000"
      ]
     },
     "execution_count": 211,
     "metadata": {},
     "output_type": "execute_result"
    }
   ],
   "source": [
    "# 2. describe() -  숫자형 컬럼별 기본적인 통계 정보 출력\n",
    "print(frame)\n",
    "frame.describe() # 통계 정보"
   ]
  },
  {
   "cell_type": "code",
   "execution_count": 217,
   "metadata": {},
   "outputs": [
    {
     "data": {
      "text/plain": [
       "12009"
      ]
     },
     "execution_count": 217,
     "metadata": {},
     "output_type": "execute_result"
    }
   ],
   "source": [
    "# 3. 통계함수 (mean(), sum(), max(), min(),quantile()...)\n",
    "frame[['year','pop']].mean() # 두개 이상이면 시리즈 값으로 저장 -> []안에 넣는 다는 의미 \n",
    "frame['year'].sum() # 한개의 경우 이상이 없는 것을 확인 할 수 있음\n",
    "# frame[['year','pop']].max()\n",
    "# frame[['year','pop']].min()  #-> 결과 값 확인해보기 type"
   ]
  },
  {
   "cell_type": "code",
   "execution_count": 218,
   "metadata": {},
   "outputs": [
    {
     "name": "stdout",
     "output_type": "stream",
     "text": [
      "2001.5\n",
      "12009\n",
      "2003\n",
      "2000\n"
     ]
    },
    {
     "data": {
      "text/plain": [
       "2000"
      ]
     },
     "execution_count": 218,
     "metadata": {},
     "output_type": "execute_result"
    }
   ],
   "source": [
    "print(frame['year'].mean())\n",
    "print(frame['year'].sum())\n",
    "print(frame['year'].max())\n",
    "print(frame['year'].min())\n",
    "\n",
    "frame['year'].mean() # 컬럼에 있는 즉, year에 있는 모든 값을 의미함\n",
    "frame['year'].sum() # year\n",
    "frame['year'].max()\n",
    "frame['year'].min()"
   ]
  },
  {
   "cell_type": "code",
   "execution_count": 287,
   "metadata": {},
   "outputs": [
    {
     "data": {
      "text/html": [
       "<div>\n",
       "<style scoped>\n",
       "    .dataframe tbody tr th:only-of-type {\n",
       "        vertical-align: middle;\n",
       "    }\n",
       "\n",
       "    .dataframe tbody tr th {\n",
       "        vertical-align: top;\n",
       "    }\n",
       "\n",
       "    .dataframe thead th {\n",
       "        text-align: right;\n",
       "    }\n",
       "</style>\n",
       "<table border=\"1\" class=\"dataframe\">\n",
       "  <thead>\n",
       "    <tr style=\"text-align: right;\">\n",
       "      <th></th>\n",
       "      <th>pop</th>\n",
       "      <th>year</th>\n",
       "    </tr>\n",
       "  </thead>\n",
       "  <tbody>\n",
       "    <tr>\n",
       "      <th>c1</th>\n",
       "      <td>1.5</td>\n",
       "      <td>2000</td>\n",
       "    </tr>\n",
       "    <tr>\n",
       "      <th>c2</th>\n",
       "      <td>1.7</td>\n",
       "      <td>2001</td>\n",
       "    </tr>\n",
       "    <tr>\n",
       "      <th>c3</th>\n",
       "      <td>3.6</td>\n",
       "      <td>2002</td>\n",
       "    </tr>\n",
       "    <tr>\n",
       "      <th>c4</th>\n",
       "      <td>2.4</td>\n",
       "      <td>2001</td>\n",
       "    </tr>\n",
       "    <tr>\n",
       "      <th>c5</th>\n",
       "      <td>2.9</td>\n",
       "      <td>2002</td>\n",
       "    </tr>\n",
       "    <tr>\n",
       "      <th>c6</th>\n",
       "      <td>3.2</td>\n",
       "      <td>2003</td>\n",
       "    </tr>\n",
       "  </tbody>\n",
       "</table>\n",
       "</div>"
      ],
      "text/plain": [
       "    pop  year\n",
       "c1  1.5  2000\n",
       "c2  1.7  2001\n",
       "c3  3.6  2002\n",
       "c4  2.4  2001\n",
       "c5  2.9  2002\n",
       "c6  3.2  2003"
      ]
     },
     "execution_count": 287,
     "metadata": {},
     "output_type": "execute_result"
    }
   ],
   "source": [
    "# 4. sample(개수, axis) : 전체 데이터의 일부 데이터를 랜덤으로 선택\n",
    "frame.sample(2, axis = 1)"
   ]
  },
  {
   "cell_type": "code",
   "execution_count": 288,
   "metadata": {},
   "outputs": [],
   "source": [
    "# 5.head(x), tail(x) - 맨 앞 혹은 맨 뒤 x 개의 데이터 출력"
   ]
  },
  {
   "cell_type": "code",
   "execution_count": 297,
   "metadata": {},
   "outputs": [
    {
     "data": {
      "text/html": [
       "<div>\n",
       "<style scoped>\n",
       "    .dataframe tbody tr th:only-of-type {\n",
       "        vertical-align: middle;\n",
       "    }\n",
       "\n",
       "    .dataframe tbody tr th {\n",
       "        vertical-align: top;\n",
       "    }\n",
       "\n",
       "    .dataframe thead th {\n",
       "        text-align: right;\n",
       "    }\n",
       "</style>\n",
       "<table border=\"1\" class=\"dataframe\">\n",
       "  <thead>\n",
       "    <tr style=\"text-align: right;\">\n",
       "      <th></th>\n",
       "      <th>state</th>\n",
       "      <th>year</th>\n",
       "      <th>pop</th>\n",
       "    </tr>\n",
       "  </thead>\n",
       "  <tbody>\n",
       "    <tr>\n",
       "      <th>c6</th>\n",
       "      <td>Nevada</td>\n",
       "      <td>2003</td>\n",
       "      <td>3.2</td>\n",
       "    </tr>\n",
       "  </tbody>\n",
       "</table>\n",
       "</div>"
      ],
      "text/plain": [
       "     state  year  pop\n",
       "c6  Nevada  2003  3.2"
      ]
     },
     "execution_count": 297,
     "metadata": {},
     "output_type": "execute_result"
    }
   ],
   "source": [
    "# 맨 앞 맨 뒤의 값을 출력하는 것을 의미함\n",
    "frame.head(3)\n",
    "frame.tail(1)"
   ]
  },
  {
   "cell_type": "code",
   "execution_count": 298,
   "metadata": {},
   "outputs": [
    {
     "name": "stdout",
     "output_type": "stream",
     "text": [
      "     state  year  pop\n",
      "c1    Ohio  2000  1.5\n",
      "c2    Ohio  2001  1.7\n",
      "c3    Ohio  2002  3.6\n",
      "c4  Nevada  2001  2.4\n",
      "c5  Nevada  2002  2.9\n",
      "c6  Nevada  2003  3.2\n"
     ]
    },
    {
     "data": {
      "text/plain": [
       "state    2\n",
       "year     4\n",
       "pop      6\n",
       "dtype: int64"
      ]
     },
     "execution_count": 298,
     "metadata": {},
     "output_type": "execute_result"
    }
   ],
   "source": [
    "# 6. nunique() : - 컬럼별 unique한 값의 개수 \n",
    "print(frame)\n",
    "frame.nunique() #-> 곂치는 값을 출력/ 중복되는 값을 확인하는것"
   ]
  },
  {
   "cell_type": "code",
   "execution_count": 304,
   "metadata": {},
   "outputs": [
    {
     "data": {
      "text/plain": [
       "<Axes: >"
      ]
     },
     "execution_count": 304,
     "metadata": {},
     "output_type": "execute_result"
    },
    {
     "data": {
      "image/png": "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",
      "text/plain": [
       "<Figure size 1000x600 with 1 Axes>"
      ]
     },
     "metadata": {},
     "output_type": "display_data"
    }
   ],
   "source": [
    "# 7. plot() - 데이터 시각화\n",
    "frame.plot() # 그래프"
   ]
  },
  {
   "cell_type": "code",
   "execution_count": 302,
   "metadata": {},
   "outputs": [
    {
     "data": {
      "text/plain": [
       "<Axes: >"
      ]
     },
     "execution_count": 302,
     "metadata": {},
     "output_type": "execute_result"
    },
    {
     "data": {
      "image/png": "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",
      "text/plain": [
       "<Figure size 1000x600 with 1 Axes>"
      ]
     },
     "metadata": {},
     "output_type": "display_data"
    }
   ],
   "source": [
    "df2.plot()"
   ]
  },
  {
   "cell_type": "markdown",
   "metadata": {},
   "source": [
    "### 3.3.3 DateFrame의 원하는 데이터만 선택하기 (p.209, 213)\n",
    "* 인덱싱을 활용하여 원하는 데이터 선택\n",
    "* 원하는 컬럼들만 선택\n",
    "* 원하는 로우들만 선택\n",
    "* 인덱싱 슬라이싱으로 특정 범위 데이터 선택\n",
    "* 조건색인으로 특정 조건에 부합되는 데이터 선택"
   ]
  },
  {
   "cell_type": "code",
   "execution_count": 309,
   "metadata": {},
   "outputs": [
    {
     "data": {
      "text/html": [
       "<div>\n",
       "<style scoped>\n",
       "    .dataframe tbody tr th:only-of-type {\n",
       "        vertical-align: middle;\n",
       "    }\n",
       "\n",
       "    .dataframe tbody tr th {\n",
       "        vertical-align: top;\n",
       "    }\n",
       "\n",
       "    .dataframe thead th {\n",
       "        text-align: right;\n",
       "    }\n",
       "</style>\n",
       "<table border=\"1\" class=\"dataframe\">\n",
       "  <thead>\n",
       "    <tr style=\"text-align: right;\">\n",
       "      <th></th>\n",
       "      <th>year</th>\n",
       "      <th>state</th>\n",
       "      <th>pop</th>\n",
       "    </tr>\n",
       "  </thead>\n",
       "  <tbody>\n",
       "    <tr>\n",
       "      <th>0</th>\n",
       "      <td>2000</td>\n",
       "      <td>Ohio</td>\n",
       "      <td>1.5</td>\n",
       "    </tr>\n",
       "    <tr>\n",
       "      <th>1</th>\n",
       "      <td>2001</td>\n",
       "      <td>Ohio</td>\n",
       "      <td>1.7</td>\n",
       "    </tr>\n",
       "    <tr>\n",
       "      <th>2</th>\n",
       "      <td>2002</td>\n",
       "      <td>Ohio</td>\n",
       "      <td>3.6</td>\n",
       "    </tr>\n",
       "    <tr>\n",
       "      <th>3</th>\n",
       "      <td>2001</td>\n",
       "      <td>Nevada</td>\n",
       "      <td>2.4</td>\n",
       "    </tr>\n",
       "    <tr>\n",
       "      <th>4</th>\n",
       "      <td>2002</td>\n",
       "      <td>Nevada</td>\n",
       "      <td>2.9</td>\n",
       "    </tr>\n",
       "    <tr>\n",
       "      <th>5</th>\n",
       "      <td>2003</td>\n",
       "      <td>Nevada</td>\n",
       "      <td>3.2</td>\n",
       "    </tr>\n",
       "  </tbody>\n",
       "</table>\n",
       "</div>"
      ],
      "text/plain": [
       "   year   state  pop\n",
       "0  2000    Ohio  1.5\n",
       "1  2001    Ohio  1.7\n",
       "2  2002    Ohio  3.6\n",
       "3  2001  Nevada  2.4\n",
       "4  2002  Nevada  2.9\n",
       "5  2003  Nevada  3.2"
      ]
     },
     "execution_count": 309,
     "metadata": {},
     "output_type": "execute_result"
    }
   ],
   "source": [
    "data = {\"state\": [\"Ohio\", \"Ohio\", \"Ohio\", \"Nevada\", \"Nevada\", \"Nevada\"],\n",
    "        \"year\": [2000, 2001, 2002, 2001, 2002, 2003],\n",
    "        \"pop\": [1.5, 1.7, 3.6, 2.4, 2.9, 3.2]}\n",
    "pd.DataFrame(data, columns=[\"year\", \"state\", \"pop\"]) # columns을 원하는 순서대로 지정"
   ]
  },
  {
   "cell_type": "code",
   "execution_count": 310,
   "metadata": {},
   "outputs": [
    {
     "data": {
      "text/plain": [
       "Index(['year', 'state', 'pop'], dtype='object')"
      ]
     },
     "execution_count": 310,
     "metadata": {},
     "output_type": "execute_result"
    }
   ],
   "source": [
    "frame2 = pd.DataFrame(data, columns=[\"year\", \"state\", \"pop\"])\n",
    "frame2\n",
    "frame2.columns"
   ]
  },
  {
   "cell_type": "markdown",
   "metadata": {},
   "source": [
    "* 원하는 열(컬럼)만 조회하기"
   ]
  },
  {
   "cell_type": "code",
   "execution_count": 312,
   "metadata": {},
   "outputs": [
    {
     "data": {
      "text/html": [
       "<div>\n",
       "<style scoped>\n",
       "    .dataframe tbody tr th:only-of-type {\n",
       "        vertical-align: middle;\n",
       "    }\n",
       "\n",
       "    .dataframe tbody tr th {\n",
       "        vertical-align: top;\n",
       "    }\n",
       "\n",
       "    .dataframe thead th {\n",
       "        text-align: right;\n",
       "    }\n",
       "</style>\n",
       "<table border=\"1\" class=\"dataframe\">\n",
       "  <thead>\n",
       "    <tr style=\"text-align: right;\">\n",
       "      <th></th>\n",
       "      <th>year</th>\n",
       "    </tr>\n",
       "  </thead>\n",
       "  <tbody>\n",
       "    <tr>\n",
       "      <th>0</th>\n",
       "      <td>2000</td>\n",
       "    </tr>\n",
       "    <tr>\n",
       "      <th>1</th>\n",
       "      <td>2001</td>\n",
       "    </tr>\n",
       "    <tr>\n",
       "      <th>2</th>\n",
       "      <td>2002</td>\n",
       "    </tr>\n",
       "    <tr>\n",
       "      <th>3</th>\n",
       "      <td>2001</td>\n",
       "    </tr>\n",
       "    <tr>\n",
       "      <th>4</th>\n",
       "      <td>2002</td>\n",
       "    </tr>\n",
       "    <tr>\n",
       "      <th>5</th>\n",
       "      <td>2003</td>\n",
       "    </tr>\n",
       "  </tbody>\n",
       "</table>\n",
       "</div>"
      ],
      "text/plain": [
       "   year\n",
       "0  2000\n",
       "1  2001\n",
       "2  2002\n",
       "3  2001\n",
       "4  2002\n",
       "5  2003"
      ]
     },
     "execution_count": 312,
     "metadata": {},
     "output_type": "execute_result"
    }
   ],
   "source": [
    "frame2[[\"year\"]]"
   ]
  },
  {
   "cell_type": "code",
   "execution_count": 313,
   "metadata": {},
   "outputs": [
    {
     "data": {
      "text/plain": [
       "pandas.core.series.Series"
      ]
     },
     "execution_count": 313,
     "metadata": {},
     "output_type": "execute_result"
    }
   ],
   "source": [
    "# 1) state만 조회\n",
    "frame2[\"state\"]\n",
    "type(frame2['state']) # Series 객체\n",
    "# frame2.state"
   ]
  },
  {
   "cell_type": "code",
   "execution_count": 329,
   "metadata": {},
   "outputs": [],
   "source": [
    "# 2) year와 pop 조회하기 - 색인 기호 안에 조회할 2개 이상의 컬럼명들을 리스트로 작성\n",
    "frame2[['year','pop']] #인덱스안에 리스트를 넣어서 찾기\n",
    "frame2.index = ['a','b','c','d','e','f']"
   ]
  },
  {
   "cell_type": "markdown",
   "metadata": {},
   "source": [
    "* 특정 행만 선택 - df.loc[행_레이블], df.iloc[행_위치] (p.211)"
   ]
  },
  {
   "cell_type": "code",
   "execution_count": 332,
   "metadata": {},
   "outputs": [
    {
     "name": "stdout",
     "output_type": "stream",
     "text": [
      "   year   state  pop\n",
      "a  2000    Ohio  1.5\n",
      "b  2001    Ohio  1.7\n",
      "c  2002    Ohio  3.6\n",
      "d  2001  Nevada  2.4\n",
      "e  2002  Nevada  2.9\n",
      "f  2003  Nevada  3.2\n"
     ]
    },
    {
     "data": {
      "text/plain": [
       "year     2000\n",
       "state    Ohio\n",
       "pop       1.5\n",
       "Name: a, dtype: object"
      ]
     },
     "execution_count": 332,
     "metadata": {},
     "output_type": "execute_result"
    }
   ],
   "source": [
    "# 1) 2번째 행 조회\n",
    "print(frame2)\n",
    "frame2.loc['a']\n",
    "# frame2.iloc[1]"
   ]
  },
  {
   "cell_type": "markdown",
   "metadata": {},
   "source": [
    "* 인덱스 슬라이싱\n",
    "  * 범위 값을 주고, 그 범위에 해당하는 데이터를 색인하는 방법\n",
    "  * 숫자, 문자인덱스 모두 슬라이싱 가능"
   ]
  },
  {
   "cell_type": "code",
   "execution_count": 333,
   "metadata": {},
   "outputs": [
    {
     "data": {
      "text/html": [
       "<div>\n",
       "<style scoped>\n",
       "    .dataframe tbody tr th:only-of-type {\n",
       "        vertical-align: middle;\n",
       "    }\n",
       "\n",
       "    .dataframe tbody tr th {\n",
       "        vertical-align: top;\n",
       "    }\n",
       "\n",
       "    .dataframe thead th {\n",
       "        text-align: right;\n",
       "    }\n",
       "</style>\n",
       "<table border=\"1\" class=\"dataframe\">\n",
       "  <thead>\n",
       "    <tr style=\"text-align: right;\">\n",
       "      <th></th>\n",
       "      <th>year</th>\n",
       "      <th>state</th>\n",
       "      <th>pop</th>\n",
       "    </tr>\n",
       "  </thead>\n",
       "  <tbody>\n",
       "    <tr>\n",
       "      <th>a</th>\n",
       "      <td>2000</td>\n",
       "      <td>Ohio</td>\n",
       "      <td>1.5</td>\n",
       "    </tr>\n",
       "    <tr>\n",
       "      <th>b</th>\n",
       "      <td>2001</td>\n",
       "      <td>Ohio</td>\n",
       "      <td>1.7</td>\n",
       "    </tr>\n",
       "    <tr>\n",
       "      <th>c</th>\n",
       "      <td>2002</td>\n",
       "      <td>Ohio</td>\n",
       "      <td>3.6</td>\n",
       "    </tr>\n",
       "    <tr>\n",
       "      <th>d</th>\n",
       "      <td>2001</td>\n",
       "      <td>Nevada</td>\n",
       "      <td>2.4</td>\n",
       "    </tr>\n",
       "    <tr>\n",
       "      <th>e</th>\n",
       "      <td>2002</td>\n",
       "      <td>Nevada</td>\n",
       "      <td>2.9</td>\n",
       "    </tr>\n",
       "    <tr>\n",
       "      <th>f</th>\n",
       "      <td>2003</td>\n",
       "      <td>Nevada</td>\n",
       "      <td>3.2</td>\n",
       "    </tr>\n",
       "  </tbody>\n",
       "</table>\n",
       "</div>"
      ],
      "text/plain": [
       "   year   state  pop\n",
       "a  2000    Ohio  1.5\n",
       "b  2001    Ohio  1.7\n",
       "c  2002    Ohio  3.6\n",
       "d  2001  Nevada  2.4\n",
       "e  2002  Nevada  2.9\n",
       "f  2003  Nevada  3.2"
      ]
     },
     "execution_count": 333,
     "metadata": {},
     "output_type": "execute_result"
    }
   ],
   "source": [
    "frame2"
   ]
  },
  {
   "cell_type": "code",
   "execution_count": 338,
   "metadata": {},
   "outputs": [
    {
     "data": {
      "text/html": [
       "<div>\n",
       "<style scoped>\n",
       "    .dataframe tbody tr th:only-of-type {\n",
       "        vertical-align: middle;\n",
       "    }\n",
       "\n",
       "    .dataframe tbody tr th {\n",
       "        vertical-align: top;\n",
       "    }\n",
       "\n",
       "    .dataframe thead th {\n",
       "        text-align: right;\n",
       "    }\n",
       "</style>\n",
       "<table border=\"1\" class=\"dataframe\">\n",
       "  <thead>\n",
       "    <tr style=\"text-align: right;\">\n",
       "      <th></th>\n",
       "      <th>year</th>\n",
       "      <th>state</th>\n",
       "      <th>pop</th>\n",
       "    </tr>\n",
       "  </thead>\n",
       "  <tbody>\n",
       "    <tr>\n",
       "      <th>a</th>\n",
       "      <td>2000</td>\n",
       "      <td>Ohio</td>\n",
       "      <td>1.5</td>\n",
       "    </tr>\n",
       "    <tr>\n",
       "      <th>b</th>\n",
       "      <td>2001</td>\n",
       "      <td>Ohio</td>\n",
       "      <td>1.7</td>\n",
       "    </tr>\n",
       "    <tr>\n",
       "      <th>c</th>\n",
       "      <td>2002</td>\n",
       "      <td>Ohio</td>\n",
       "      <td>3.6</td>\n",
       "    </tr>\n",
       "  </tbody>\n",
       "</table>\n",
       "</div>"
      ],
      "text/plain": [
       "   year state  pop\n",
       "a  2000  Ohio  1.5\n",
       "b  2001  Ohio  1.7\n",
       "c  2002  Ohio  3.6"
      ]
     },
     "execution_count": 338,
     "metadata": {},
     "output_type": "execute_result"
    }
   ],
   "source": [
    "frame2.loc['a':'c'] ###!!!!! .loc를 사용시 숫자가아니라 문자로 받는다 끝나는 문자자 즉, 마이너스를 안받음"
   ]
  },
  {
   "cell_type": "code",
   "execution_count": 340,
   "metadata": {},
   "outputs": [
    {
     "data": {
      "text/html": [
       "<div>\n",
       "<style scoped>\n",
       "    .dataframe tbody tr th:only-of-type {\n",
       "        vertical-align: middle;\n",
       "    }\n",
       "\n",
       "    .dataframe tbody tr th {\n",
       "        vertical-align: top;\n",
       "    }\n",
       "\n",
       "    .dataframe thead th {\n",
       "        text-align: right;\n",
       "    }\n",
       "</style>\n",
       "<table border=\"1\" class=\"dataframe\">\n",
       "  <thead>\n",
       "    <tr style=\"text-align: right;\">\n",
       "      <th></th>\n",
       "      <th>year</th>\n",
       "      <th>state</th>\n",
       "      <th>pop</th>\n",
       "    </tr>\n",
       "  </thead>\n",
       "  <tbody>\n",
       "    <tr>\n",
       "      <th>b</th>\n",
       "      <td>2001</td>\n",
       "      <td>Ohio</td>\n",
       "      <td>1.7</td>\n",
       "    </tr>\n",
       "    <tr>\n",
       "      <th>c</th>\n",
       "      <td>2002</td>\n",
       "      <td>Ohio</td>\n",
       "      <td>3.6</td>\n",
       "    </tr>\n",
       "  </tbody>\n",
       "</table>\n",
       "</div>"
      ],
      "text/plain": [
       "   year state  pop\n",
       "b  2001  Ohio  1.7\n",
       "c  2002  Ohio  3.6"
      ]
     },
     "execution_count": 340,
     "metadata": {},
     "output_type": "execute_result"
    }
   ],
   "source": [
    "frame2.iloc[1:3] # 그러나 .iloc를 사용하면 슬라이싱에 의해서 3-1됨"
   ]
  },
  {
   "cell_type": "code",
   "execution_count": 341,
   "metadata": {},
   "outputs": [
    {
     "data": {
      "text/html": [
       "<div>\n",
       "<style scoped>\n",
       "    .dataframe tbody tr th:only-of-type {\n",
       "        vertical-align: middle;\n",
       "    }\n",
       "\n",
       "    .dataframe tbody tr th {\n",
       "        vertical-align: top;\n",
       "    }\n",
       "\n",
       "    .dataframe thead th {\n",
       "        text-align: right;\n",
       "    }\n",
       "</style>\n",
       "<table border=\"1\" class=\"dataframe\">\n",
       "  <thead>\n",
       "    <tr style=\"text-align: right;\">\n",
       "      <th></th>\n",
       "      <th>year</th>\n",
       "      <th>state</th>\n",
       "      <th>pop</th>\n",
       "    </tr>\n",
       "  </thead>\n",
       "  <tbody>\n",
       "    <tr>\n",
       "      <th>b</th>\n",
       "      <td>2001</td>\n",
       "      <td>Ohio</td>\n",
       "      <td>1.7</td>\n",
       "    </tr>\n",
       "    <tr>\n",
       "      <th>c</th>\n",
       "      <td>2002</td>\n",
       "      <td>Ohio</td>\n",
       "      <td>3.6</td>\n",
       "    </tr>\n",
       "  </tbody>\n",
       "</table>\n",
       "</div>"
      ],
      "text/plain": [
       "   year state  pop\n",
       "b  2001  Ohio  1.7\n",
       "c  2002  Ohio  3.6"
      ]
     },
     "execution_count": 341,
     "metadata": {},
     "output_type": "execute_result"
    }
   ],
   "source": [
    "frame2[1:3] # loc, iloc 생략 잘 안씀"
   ]
  },
  {
   "cell_type": "markdown",
   "metadata": {},
   "source": [
    "* 2개의 인덱스를 모두 사용 색인 - 원하는 행과 열을 선택하여 조회하기\n",
    " "
   ]
  },
  {
   "cell_type": "code",
   "execution_count": 342,
   "metadata": {},
   "outputs": [
    {
     "data": {
      "text/html": [
       "<div>\n",
       "<style scoped>\n",
       "    .dataframe tbody tr th:only-of-type {\n",
       "        vertical-align: middle;\n",
       "    }\n",
       "\n",
       "    .dataframe tbody tr th {\n",
       "        vertical-align: top;\n",
       "    }\n",
       "\n",
       "    .dataframe thead th {\n",
       "        text-align: right;\n",
       "    }\n",
       "</style>\n",
       "<table border=\"1\" class=\"dataframe\">\n",
       "  <thead>\n",
       "    <tr style=\"text-align: right;\">\n",
       "      <th></th>\n",
       "      <th>year</th>\n",
       "      <th>state</th>\n",
       "      <th>pop</th>\n",
       "    </tr>\n",
       "  </thead>\n",
       "  <tbody>\n",
       "    <tr>\n",
       "      <th>a</th>\n",
       "      <td>2000</td>\n",
       "      <td>Ohio</td>\n",
       "      <td>1.5</td>\n",
       "    </tr>\n",
       "    <tr>\n",
       "      <th>b</th>\n",
       "      <td>2001</td>\n",
       "      <td>Ohio</td>\n",
       "      <td>1.7</td>\n",
       "    </tr>\n",
       "    <tr>\n",
       "      <th>c</th>\n",
       "      <td>2002</td>\n",
       "      <td>Ohio</td>\n",
       "      <td>3.6</td>\n",
       "    </tr>\n",
       "    <tr>\n",
       "      <th>d</th>\n",
       "      <td>2001</td>\n",
       "      <td>Nevada</td>\n",
       "      <td>2.4</td>\n",
       "    </tr>\n",
       "    <tr>\n",
       "      <th>e</th>\n",
       "      <td>2002</td>\n",
       "      <td>Nevada</td>\n",
       "      <td>2.9</td>\n",
       "    </tr>\n",
       "    <tr>\n",
       "      <th>f</th>\n",
       "      <td>2003</td>\n",
       "      <td>Nevada</td>\n",
       "      <td>3.2</td>\n",
       "    </tr>\n",
       "  </tbody>\n",
       "</table>\n",
       "</div>"
      ],
      "text/plain": [
       "   year   state  pop\n",
       "a  2000    Ohio  1.5\n",
       "b  2001    Ohio  1.7\n",
       "c  2002    Ohio  3.6\n",
       "d  2001  Nevada  2.4\n",
       "e  2002  Nevada  2.9\n",
       "f  2003  Nevada  3.2"
      ]
     },
     "execution_count": 342,
     "metadata": {},
     "output_type": "execute_result"
    }
   ],
   "source": [
    "frame2"
   ]
  },
  {
   "cell_type": "code",
   "execution_count": 345,
   "metadata": {},
   "outputs": [
    {
     "data": {
      "text/html": [
       "<div>\n",
       "<style scoped>\n",
       "    .dataframe tbody tr th:only-of-type {\n",
       "        vertical-align: middle;\n",
       "    }\n",
       "\n",
       "    .dataframe tbody tr th {\n",
       "        vertical-align: top;\n",
       "    }\n",
       "\n",
       "    .dataframe thead th {\n",
       "        text-align: right;\n",
       "    }\n",
       "</style>\n",
       "<table border=\"1\" class=\"dataframe\">\n",
       "  <thead>\n",
       "    <tr style=\"text-align: right;\">\n",
       "      <th></th>\n",
       "      <th>year</th>\n",
       "      <th>pop</th>\n",
       "    </tr>\n",
       "  </thead>\n",
       "  <tbody>\n",
       "    <tr>\n",
       "      <th>a</th>\n",
       "      <td>2000</td>\n",
       "      <td>1.5</td>\n",
       "    </tr>\n",
       "    <tr>\n",
       "      <th>b</th>\n",
       "      <td>2001</td>\n",
       "      <td>1.7</td>\n",
       "    </tr>\n",
       "    <tr>\n",
       "      <th>c</th>\n",
       "      <td>2002</td>\n",
       "      <td>3.6</td>\n",
       "    </tr>\n",
       "    <tr>\n",
       "      <th>d</th>\n",
       "      <td>2001</td>\n",
       "      <td>2.4</td>\n",
       "    </tr>\n",
       "    <tr>\n",
       "      <th>e</th>\n",
       "      <td>2002</td>\n",
       "      <td>2.9</td>\n",
       "    </tr>\n",
       "  </tbody>\n",
       "</table>\n",
       "</div>"
      ],
      "text/plain": [
       "   year  pop\n",
       "a  2000  1.5\n",
       "b  2001  1.7\n",
       "c  2002  3.6\n",
       "d  2001  2.4\n",
       "e  2002  2.9"
      ]
     },
     "execution_count": 345,
     "metadata": {},
     "output_type": "execute_result"
    }
   ],
   "source": [
    "frame2[['year','pop']].loc['a':'e'] # 2번째부터 4번째의 year와 pop 선택 -열을 먼저 선택하고 행 선택"
   ]
  },
  {
   "cell_type": "code",
   "execution_count": 346,
   "metadata": {},
   "outputs": [
    {
     "data": {
      "text/html": [
       "<div>\n",
       "<style scoped>\n",
       "    .dataframe tbody tr th:only-of-type {\n",
       "        vertical-align: middle;\n",
       "    }\n",
       "\n",
       "    .dataframe tbody tr th {\n",
       "        vertical-align: top;\n",
       "    }\n",
       "\n",
       "    .dataframe thead th {\n",
       "        text-align: right;\n",
       "    }\n",
       "</style>\n",
       "<table border=\"1\" class=\"dataframe\">\n",
       "  <thead>\n",
       "    <tr style=\"text-align: right;\">\n",
       "      <th></th>\n",
       "      <th>year</th>\n",
       "      <th>pop</th>\n",
       "    </tr>\n",
       "  </thead>\n",
       "  <tbody>\n",
       "    <tr>\n",
       "      <th>a</th>\n",
       "      <td>2000</td>\n",
       "      <td>1.5</td>\n",
       "    </tr>\n",
       "    <tr>\n",
       "      <th>b</th>\n",
       "      <td>2001</td>\n",
       "      <td>1.7</td>\n",
       "    </tr>\n",
       "    <tr>\n",
       "      <th>c</th>\n",
       "      <td>2002</td>\n",
       "      <td>3.6</td>\n",
       "    </tr>\n",
       "  </tbody>\n",
       "</table>\n",
       "</div>"
      ],
      "text/plain": [
       "   year  pop\n",
       "a  2000  1.5\n",
       "b  2001  1.7\n",
       "c  2002  3.6"
      ]
     },
     "execution_count": 346,
     "metadata": {},
     "output_type": "execute_result"
    }
   ],
   "source": [
    "frame2.loc['a':'c'][['year','pop']] # 행을 먼저 선택 후 열을 선택"
   ]
  },
  {
   "cell_type": "code",
   "execution_count": 348,
   "metadata": {},
   "outputs": [
    {
     "data": {
      "text/html": [
       "<div>\n",
       "<style scoped>\n",
       "    .dataframe tbody tr th:only-of-type {\n",
       "        vertical-align: middle;\n",
       "    }\n",
       "\n",
       "    .dataframe tbody tr th {\n",
       "        vertical-align: top;\n",
       "    }\n",
       "\n",
       "    .dataframe thead th {\n",
       "        text-align: right;\n",
       "    }\n",
       "</style>\n",
       "<table border=\"1\" class=\"dataframe\">\n",
       "  <thead>\n",
       "    <tr style=\"text-align: right;\">\n",
       "      <th></th>\n",
       "      <th>year</th>\n",
       "      <th>pop</th>\n",
       "    </tr>\n",
       "  </thead>\n",
       "  <tbody>\n",
       "    <tr>\n",
       "      <th>a</th>\n",
       "      <td>2000</td>\n",
       "      <td>1.5</td>\n",
       "    </tr>\n",
       "    <tr>\n",
       "      <th>c</th>\n",
       "      <td>2002</td>\n",
       "      <td>3.6</td>\n",
       "    </tr>\n",
       "  </tbody>\n",
       "</table>\n",
       "</div>"
      ],
      "text/plain": [
       "   year  pop\n",
       "a  2000  1.5\n",
       "c  2002  3.6"
      ]
     },
     "execution_count": 348,
     "metadata": {},
     "output_type": "execute_result"
    }
   ],
   "source": [
    "# 행과 열을 동시에 명시 특정 행/ 특정 열을 출력할 수 있음 -> 2개 이상이면 리스트에 담아서 출력 !!!!!!\n",
    "frame2.loc[['a','c'], ['year','pop']]"
   ]
  },
  {
   "cell_type": "code",
   "execution_count": 349,
   "metadata": {},
   "outputs": [
    {
     "data": {
      "text/html": [
       "<div>\n",
       "<style scoped>\n",
       "    .dataframe tbody tr th:only-of-type {\n",
       "        vertical-align: middle;\n",
       "    }\n",
       "\n",
       "    .dataframe tbody tr th {\n",
       "        vertical-align: top;\n",
       "    }\n",
       "\n",
       "    .dataframe thead th {\n",
       "        text-align: right;\n",
       "    }\n",
       "</style>\n",
       "<table border=\"1\" class=\"dataframe\">\n",
       "  <thead>\n",
       "    <tr style=\"text-align: right;\">\n",
       "      <th></th>\n",
       "      <th>year</th>\n",
       "      <th>pop</th>\n",
       "    </tr>\n",
       "  </thead>\n",
       "  <tbody>\n",
       "    <tr>\n",
       "      <th>a</th>\n",
       "      <td>2000</td>\n",
       "      <td>1.5</td>\n",
       "    </tr>\n",
       "    <tr>\n",
       "      <th>b</th>\n",
       "      <td>2001</td>\n",
       "      <td>1.7</td>\n",
       "    </tr>\n",
       "    <tr>\n",
       "      <th>c</th>\n",
       "      <td>2002</td>\n",
       "      <td>3.6</td>\n",
       "    </tr>\n",
       "    <tr>\n",
       "      <th>d</th>\n",
       "      <td>2001</td>\n",
       "      <td>2.4</td>\n",
       "    </tr>\n",
       "  </tbody>\n",
       "</table>\n",
       "</div>"
      ],
      "text/plain": [
       "   year  pop\n",
       "a  2000  1.5\n",
       "b  2001  1.7\n",
       "c  2002  3.6\n",
       "d  2001  2.4"
      ]
     },
     "execution_count": 349,
     "metadata": {},
     "output_type": "execute_result"
    }
   ],
   "source": [
    "frame2.loc['a':'d', ['year','pop']] # 행과 열을 동시에 슬라이싱 .loc를 사용해서 열(시리즈) 출력 가능 "
   ]
  },
  {
   "cell_type": "code",
   "execution_count": 350,
   "metadata": {},
   "outputs": [
    {
     "data": {
      "text/html": [
       "<div>\n",
       "<style scoped>\n",
       "    .dataframe tbody tr th:only-of-type {\n",
       "        vertical-align: middle;\n",
       "    }\n",
       "\n",
       "    .dataframe tbody tr th {\n",
       "        vertical-align: top;\n",
       "    }\n",
       "\n",
       "    .dataframe thead th {\n",
       "        text-align: right;\n",
       "    }\n",
       "</style>\n",
       "<table border=\"1\" class=\"dataframe\">\n",
       "  <thead>\n",
       "    <tr style=\"text-align: right;\">\n",
       "      <th></th>\n",
       "      <th>year</th>\n",
       "      <th>pop</th>\n",
       "    </tr>\n",
       "  </thead>\n",
       "  <tbody>\n",
       "    <tr>\n",
       "      <th>a</th>\n",
       "      <td>2000</td>\n",
       "      <td>1.5</td>\n",
       "    </tr>\n",
       "    <tr>\n",
       "      <th>b</th>\n",
       "      <td>2001</td>\n",
       "      <td>1.7</td>\n",
       "    </tr>\n",
       "    <tr>\n",
       "      <th>c</th>\n",
       "      <td>2002</td>\n",
       "      <td>3.6</td>\n",
       "    </tr>\n",
       "    <tr>\n",
       "      <th>d</th>\n",
       "      <td>2001</td>\n",
       "      <td>2.4</td>\n",
       "    </tr>\n",
       "    <tr>\n",
       "      <th>e</th>\n",
       "      <td>2002</td>\n",
       "      <td>2.9</td>\n",
       "    </tr>\n",
       "    <tr>\n",
       "      <th>f</th>\n",
       "      <td>2003</td>\n",
       "      <td>3.2</td>\n",
       "    </tr>\n",
       "  </tbody>\n",
       "</table>\n",
       "</div>"
      ],
      "text/plain": [
       "   year  pop\n",
       "a  2000  1.5\n",
       "b  2001  1.7\n",
       "c  2002  3.6\n",
       "d  2001  2.4\n",
       "e  2002  2.9\n",
       "f  2003  3.2"
      ]
     },
     "execution_count": 350,
     "metadata": {},
     "output_type": "execute_result"
    }
   ],
   "source": [
    "frame2.loc[:,['year', 'pop']] # 전체의 year & prop 가져오기 :-> 전체 행을 의미함"
   ]
  },
  {
   "cell_type": "markdown",
   "metadata": {},
   "source": [
    "* 조건 색인"
   ]
  },
  {
   "cell_type": "code",
   "execution_count": 354,
   "metadata": {},
   "outputs": [
    {
     "data": {
      "text/plain": [
       "pandas.core.frame.DataFrame"
      ]
     },
     "execution_count": 354,
     "metadata": {},
     "output_type": "execute_result"
    }
   ],
   "source": [
    "# pop가 2.5이상인 행 데이터 선택\n",
    "# 조건 색인 (시리즈로 변환)\n",
    "# 조건 색인을 사용해서 출력시 true or false\n",
    "frame2['pop'] >= 2.5 \n",
    "type(frame2[frame2['pop'] >= 2.5]) # 데이터 프레임에 적용\n",
    "type(frame2)"
   ]
  },
  {
   "cell_type": "markdown",
   "metadata": {},
   "source": [
    "## 3.4 DataFrame의 산술 연산 (p.218)\n",
    "* 서로 다른 색인을 가지고 있는 객체 간의 산술연산 처리"
   ]
  },
  {
   "cell_type": "code",
   "execution_count": 355,
   "metadata": {},
   "outputs": [
    {
     "name": "stdout",
     "output_type": "stream",
     "text": [
      "a    7.3\n",
      "c   -2.5\n",
      "d    3.4\n",
      "e    1.5\n",
      "dtype: float64\n",
      "a   -2.1\n",
      "c    3.6\n",
      "e   -1.5\n",
      "f    4.0\n",
      "g    3.1\n",
      "dtype: float64\n"
     ]
    },
    {
     "data": {
      "text/plain": [
       "a    5.2\n",
       "c    1.1\n",
       "d    NaN\n",
       "e    0.0\n",
       "f    NaN\n",
       "g    NaN\n",
       "dtype: float64"
      ]
     },
     "execution_count": 355,
     "metadata": {},
     "output_type": "execute_result"
    }
   ],
   "source": [
    "# 1) 1차원 데이터 간의 연산 : 짝이 맞지 않는 색인이 있는 경우 결과에 두 색인 통합된다.\n",
    "s1 = pd.Series([7.3, -2.5, 3.4, 1.5], index = ['a','c','d','e'])\n",
    "print(s1)\n",
    "s2 = pd.Series([-2.1, 3.6, -1.5, 4, 3.1], index =['a','c','e','f','g'])\n",
    "print(s2)\n",
    "s1 + s2  # 서로 겹치는 색인이 없는 경우 데이터는 결측치가 된다. 추후 산술 연산 시 누락돈 값이 전달됨"
   ]
  },
  {
   "cell_type": "code",
   "execution_count": 356,
   "metadata": {},
   "outputs": [
    {
     "data": {
      "text/plain": [
       "a    8000\n",
       "b    7600\n",
       "c    5500\n",
       "dtype: int64"
      ]
     },
     "execution_count": 356,
     "metadata": {},
     "output_type": "execute_result"
    }
   ],
   "source": [
    "# 2)1차원 데이터 간의 산술 연산 : 같은 색인 라벨의 값들끼리 산술 연산이 수행\n",
    "sr1 = pd.Series([4500, 2800, 3000], index = ['a','b','c'])\n",
    "sr2 = pd.Series([4800, 3500, 2500], index = ['b','a','c'])\n",
    "sr1 + sr2"
   ]
  },
  {
   "cell_type": "code",
   "execution_count": 367,
   "metadata": {},
   "outputs": [
    {
     "data": {
      "text/plain": [
       "0    13\n",
       "1    15\n",
       "2    17\n",
       "dtype: int64"
      ]
     },
     "execution_count": 367,
     "metadata": {},
     "output_type": "execute_result"
    }
   ],
   "source": [
    "# 3) 1차원 데이터와 값 간의 연산 : series + 스칼라 (broadcasting)\n",
    "sr = pd.Series([3,5,7])\n",
    "sr + 10"
   ]
  },
  {
   "cell_type": "markdown",
   "metadata": {},
   "source": [
    "## 3.6 DataFrame 변경하기 (p. 203)\n",
    "* 새로운 컬럼 추가 (p.192)\n",
    "  * 고정 값 할당\n",
    "  * 기존 컬럼에 함수를 적용한 결과 할당(p.226)\n",
    "  * 기존 컬럼들의 산술 연산 결과 할당\n",
    "* 불필요한 컬럼 또는 데이터 삭제하기(p.203)"
   ]
  },
  {
   "cell_type": "markdown",
   "metadata": {},
   "source": [
    "    1) 컬럼 추가 하기 -고정 값 할당(p.192)"
   ]
  },
  {
   "cell_type": "code",
   "execution_count": 368,
   "metadata": {},
   "outputs": [
    {
     "data": {
      "text/html": [
       "<div>\n",
       "<style scoped>\n",
       "    .dataframe tbody tr th:only-of-type {\n",
       "        vertical-align: middle;\n",
       "    }\n",
       "\n",
       "    .dataframe tbody tr th {\n",
       "        vertical-align: top;\n",
       "    }\n",
       "\n",
       "    .dataframe thead th {\n",
       "        text-align: right;\n",
       "    }\n",
       "</style>\n",
       "<table border=\"1\" class=\"dataframe\">\n",
       "  <thead>\n",
       "    <tr style=\"text-align: right;\">\n",
       "      <th></th>\n",
       "      <th>year</th>\n",
       "      <th>state</th>\n",
       "      <th>pop</th>\n",
       "      <th>debt</th>\n",
       "      <th>eastern</th>\n",
       "    </tr>\n",
       "  </thead>\n",
       "  <tbody>\n",
       "    <tr>\n",
       "      <th>a</th>\n",
       "      <td>2000</td>\n",
       "      <td>Ohio</td>\n",
       "      <td>1.5</td>\n",
       "      <td>2.3</td>\n",
       "      <td>True</td>\n",
       "    </tr>\n",
       "    <tr>\n",
       "      <th>b</th>\n",
       "      <td>2001</td>\n",
       "      <td>Ohio</td>\n",
       "      <td>1.7</td>\n",
       "      <td>2.7</td>\n",
       "      <td>True</td>\n",
       "    </tr>\n",
       "    <tr>\n",
       "      <th>c</th>\n",
       "      <td>2002</td>\n",
       "      <td>Ohio</td>\n",
       "      <td>3.6</td>\n",
       "      <td>2.6</td>\n",
       "      <td>True</td>\n",
       "    </tr>\n",
       "    <tr>\n",
       "      <th>d</th>\n",
       "      <td>2001</td>\n",
       "      <td>Nevada</td>\n",
       "      <td>2.4</td>\n",
       "      <td>3.4</td>\n",
       "      <td>False</td>\n",
       "    </tr>\n",
       "    <tr>\n",
       "      <th>e</th>\n",
       "      <td>2002</td>\n",
       "      <td>Nevada</td>\n",
       "      <td>2.9</td>\n",
       "      <td>3.9</td>\n",
       "      <td>False</td>\n",
       "    </tr>\n",
       "    <tr>\n",
       "      <th>f</th>\n",
       "      <td>2003</td>\n",
       "      <td>Nevada</td>\n",
       "      <td>3.2</td>\n",
       "      <td>4.2</td>\n",
       "      <td>False</td>\n",
       "    </tr>\n",
       "  </tbody>\n",
       "</table>\n",
       "</div>"
      ],
      "text/plain": [
       "   year   state  pop  debt  eastern\n",
       "a  2000    Ohio  1.5   2.3     True\n",
       "b  2001    Ohio  1.7   2.7     True\n",
       "c  2002    Ohio  3.6   2.6     True\n",
       "d  2001  Nevada  2.4   3.4    False\n",
       "e  2002  Nevada  2.9   3.9    False\n",
       "f  2003  Nevada  3.2   4.2    False"
      ]
     },
     "execution_count": 368,
     "metadata": {},
     "output_type": "execute_result"
    }
   ],
   "source": [
    "frame2[\"debt\"] = 16.5 # 'debt' 컬럼추가 후, 값을 모두 16.5로 저장\n",
    "frame2\n",
    "\n",
    "frame2[\"debt\"] = np.arange(6) #원본 데이터프레임의 행의 개수와 신규로 할당되는 리스트나 배열 값의 개수가 일치\n",
    "frame2\n",
    "\n",
    "frame2[\"debt\"] = [2.3,2.7,2.6,3.4,3.9,4.2]\n",
    "frame2"
   ]
  },
  {
   "cell_type": "code",
   "execution_count": 374,
   "metadata": {},
   "outputs": [
    {
     "data": {
      "text/html": [
       "<div>\n",
       "<style scoped>\n",
       "    .dataframe tbody tr th:only-of-type {\n",
       "        vertical-align: middle;\n",
       "    }\n",
       "\n",
       "    .dataframe tbody tr th {\n",
       "        vertical-align: top;\n",
       "    }\n",
       "\n",
       "    .dataframe thead th {\n",
       "        text-align: right;\n",
       "    }\n",
       "</style>\n",
       "<table border=\"1\" class=\"dataframe\">\n",
       "  <thead>\n",
       "    <tr style=\"text-align: right;\">\n",
       "      <th></th>\n",
       "      <th>year</th>\n",
       "      <th>state</th>\n",
       "      <th>pop</th>\n",
       "      <th>debt</th>\n",
       "      <th>eastern</th>\n",
       "    </tr>\n",
       "  </thead>\n",
       "  <tbody>\n",
       "    <tr>\n",
       "      <th>a</th>\n",
       "      <td>2000</td>\n",
       "      <td>Ohio</td>\n",
       "      <td>1.5</td>\n",
       "      <td>1</td>\n",
       "      <td>True</td>\n",
       "    </tr>\n",
       "    <tr>\n",
       "      <th>b</th>\n",
       "      <td>2001</td>\n",
       "      <td>Ohio</td>\n",
       "      <td>1.7</td>\n",
       "      <td>2</td>\n",
       "      <td>True</td>\n",
       "    </tr>\n",
       "    <tr>\n",
       "      <th>c</th>\n",
       "      <td>2002</td>\n",
       "      <td>Ohio</td>\n",
       "      <td>3.6</td>\n",
       "      <td>3</td>\n",
       "      <td>True</td>\n",
       "    </tr>\n",
       "    <tr>\n",
       "      <th>d</th>\n",
       "      <td>2001</td>\n",
       "      <td>Nevada</td>\n",
       "      <td>2.4</td>\n",
       "      <td>4</td>\n",
       "      <td>False</td>\n",
       "    </tr>\n",
       "    <tr>\n",
       "      <th>e</th>\n",
       "      <td>2002</td>\n",
       "      <td>Nevada</td>\n",
       "      <td>2.9</td>\n",
       "      <td>5</td>\n",
       "      <td>False</td>\n",
       "    </tr>\n",
       "    <tr>\n",
       "      <th>f</th>\n",
       "      <td>2003</td>\n",
       "      <td>Nevada</td>\n",
       "      <td>3.2</td>\n",
       "      <td>6</td>\n",
       "      <td>False</td>\n",
       "    </tr>\n",
       "  </tbody>\n",
       "</table>\n",
       "</div>"
      ],
      "text/plain": [
       "   year   state  pop  debt  eastern\n",
       "a  2000    Ohio  1.5     1     True\n",
       "b  2001    Ohio  1.7     2     True\n",
       "c  2002    Ohio  3.6     3     True\n",
       "d  2001  Nevada  2.4     4    False\n",
       "e  2002  Nevada  2.9     5    False\n",
       "f  2003  Nevada  3.2     6    False"
      ]
     },
     "execution_count": 374,
     "metadata": {},
     "output_type": "execute_result"
    }
   ],
   "source": [
    "# Series를 대입하면 DataFrame의 색인에 따라 값이 대입되며 존재하지 않는 색인에는 결측치가 대입됨\n",
    "val = pd.Series([1,2,3,4,5,6],  index=['a','b','c','d','e','f'])\n",
    "val.shape\n",
    "frame2[\"debt\"] = val  # Series 객체는 기존 데이터프레임의 shape, index 이름이 동일해야만 추가 가능\n",
    "frame2"
   ]
  },
  {
   "cell_type": "code",
   "execution_count": 396,
   "metadata": {},
   "outputs": [
    {
     "data": {
      "text/html": [
       "<div>\n",
       "<style scoped>\n",
       "    .dataframe tbody tr th:only-of-type {\n",
       "        vertical-align: middle;\n",
       "    }\n",
       "\n",
       "    .dataframe tbody tr th {\n",
       "        vertical-align: top;\n",
       "    }\n",
       "\n",
       "    .dataframe thead th {\n",
       "        text-align: right;\n",
       "    }\n",
       "</style>\n",
       "<table border=\"1\" class=\"dataframe\">\n",
       "  <thead>\n",
       "    <tr style=\"text-align: right;\">\n",
       "      <th></th>\n",
       "      <th>year</th>\n",
       "      <th>state</th>\n",
       "      <th>pop</th>\n",
       "      <th>debt</th>\n",
       "      <th>eastern</th>\n",
       "    </tr>\n",
       "  </thead>\n",
       "  <tbody>\n",
       "    <tr>\n",
       "      <th>a</th>\n",
       "      <td>2000</td>\n",
       "      <td>Ohio</td>\n",
       "      <td>1.5</td>\n",
       "      <td>1</td>\n",
       "      <td>Ohio</td>\n",
       "    </tr>\n",
       "    <tr>\n",
       "      <th>b</th>\n",
       "      <td>2001</td>\n",
       "      <td>Ohio</td>\n",
       "      <td>1.7</td>\n",
       "      <td>2</td>\n",
       "      <td>Ohio</td>\n",
       "    </tr>\n",
       "    <tr>\n",
       "      <th>c</th>\n",
       "      <td>2002</td>\n",
       "      <td>Ohio</td>\n",
       "      <td>3.6</td>\n",
       "      <td>3</td>\n",
       "      <td>Ohio</td>\n",
       "    </tr>\n",
       "    <tr>\n",
       "      <th>d</th>\n",
       "      <td>2001</td>\n",
       "      <td>Nevada</td>\n",
       "      <td>2.4</td>\n",
       "      <td>4</td>\n",
       "      <td>Nevada</td>\n",
       "    </tr>\n",
       "    <tr>\n",
       "      <th>e</th>\n",
       "      <td>2002</td>\n",
       "      <td>Nevada</td>\n",
       "      <td>2.9</td>\n",
       "      <td>5</td>\n",
       "      <td>Nevada</td>\n",
       "    </tr>\n",
       "    <tr>\n",
       "      <th>f</th>\n",
       "      <td>2003</td>\n",
       "      <td>Nevada</td>\n",
       "      <td>3.2</td>\n",
       "      <td>6</td>\n",
       "      <td>Nevada</td>\n",
       "    </tr>\n",
       "  </tbody>\n",
       "</table>\n",
       "</div>"
      ],
      "text/plain": [
       "   year   state  pop  debt eastern\n",
       "a  2000    Ohio  1.5     1    Ohio\n",
       "b  2001    Ohio  1.7     2    Ohio\n",
       "c  2002    Ohio  3.6     3    Ohio\n",
       "d  2001  Nevada  2.4     4  Nevada\n",
       "e  2002  Nevada  2.9     5  Nevada\n",
       "f  2003  Nevada  3.2     6  Nevada"
      ]
     },
     "execution_count": 396,
     "metadata": {},
     "output_type": "execute_result"
    }
   ],
   "source": [
    "frame2[\"state\"] == \"Ohio\" # 존재하지 않는 열을 대입할 경우에는 새로운 열이 생성\n",
    "# 존재하지 않는 컬럼을 만들면 새롭게\n",
    "frame2[\"eastern\"] = frame2[\"state\"] == \"Ohio\" # 기존 컬럼에 조건 색인을 적용한 결과을 추가\n",
    "frame2"
   ]
  },
  {
   "cell_type": "markdown",
   "metadata": {},
   "source": [
    "    2) 컬럼 추가하기 : 기존 컬럼에 함수를 적용한 결과로 값을 할당"
   ]
  },
  {
   "cell_type": "code",
   "execution_count": 387,
   "metadata": {},
   "outputs": [
    {
     "name": "stdout",
     "output_type": "stream",
     "text": [
      "               b         d         e\n",
      "Utah    0.786963 -2.045465  0.450412\n",
      "Ohio   -0.085672  1.071765  0.552046\n",
      "Texas   0.993386 -0.107337  2.442492\n",
      "Oregon  1.072527 -0.243917  0.547931\n",
      "b    1.158199\n",
      "d    3.117230\n",
      "e    1.992080\n",
      "dtype: float64\n",
      "Utah      2.832429\n",
      "Ohio      1.157437\n",
      "Texas     2.549828\n",
      "Oregon    1.316445\n",
      "dtype: float64\n"
     ]
    }
   ],
   "source": [
    "# p.226\n",
    "import pandas as pd\n",
    "import numpy as np\n",
    "frame = pd.DataFrame(np.random.standard_normal((4,3)),\n",
    "                     columns = ['b','d','e'],\n",
    "                     index = [\"Utah\", \"Ohio\",\"Texas\", \"Oregon\"])\n",
    "# 각 행이나 열의 1차원 배열에 함수를 적용하기 위한 함수: DataFrame.apply(함수, axis=)\n",
    "#1. 함수 정의\n",
    "def f1(x):\n",
    "    return x.max() - x.min()\n",
    "#2. 이 함수을 각 열에 적용하기-> 열을 색인으로 하는 Series 반환\n",
    "frame.apply(f1, axis = 0)\n",
    "print(frame)\n",
    "print(frame.apply(f1, axis = 0)) # axis = 0 열을 의미함\n",
    "print(frame.apply(f1, axis = 1)) # axis = 1 행을 의미함\n",
    "\n",
    "# 3. 이 함수을 각 행에 적용하기 -> 행을 색인으로 하는 Series 반환\n",
    "#frame.apply(f1, axis = 1)"
   ]
  },
  {
   "cell_type": "code",
   "execution_count": 401,
   "metadata": {},
   "outputs": [
    {
     "name": "stdout",
     "output_type": "stream",
     "text": [
      "               b         d         e\n",
      "Utah    0.786963 -2.045465  0.450412\n",
      "Ohio   -0.085672  1.071765  0.552046\n",
      "Texas   0.993386 -0.107337  2.442492\n",
      "Oregon  1.072527 -0.243917  0.547931\n"
     ]
    },
    {
     "data": {
      "text/html": [
       "<div>\n",
       "<style scoped>\n",
       "    .dataframe tbody tr th:only-of-type {\n",
       "        vertical-align: middle;\n",
       "    }\n",
       "\n",
       "    .dataframe tbody tr th {\n",
       "        vertical-align: top;\n",
       "    }\n",
       "\n",
       "    .dataframe thead th {\n",
       "        text-align: right;\n",
       "    }\n",
       "</style>\n",
       "<table border=\"1\" class=\"dataframe\">\n",
       "  <thead>\n",
       "    <tr style=\"text-align: right;\">\n",
       "      <th></th>\n",
       "      <th>b</th>\n",
       "      <th>d</th>\n",
       "      <th>e</th>\n",
       "    </tr>\n",
       "  </thead>\n",
       "  <tbody>\n",
       "    <tr>\n",
       "      <th>Utah</th>\n",
       "      <td>0.786963</td>\n",
       "      <td>-2.045465</td>\n",
       "      <td>0.450412</td>\n",
       "    </tr>\n",
       "    <tr>\n",
       "      <th>Ohio</th>\n",
       "      <td>-0.085672</td>\n",
       "      <td>1.071765</td>\n",
       "      <td>0.552046</td>\n",
       "    </tr>\n",
       "    <tr>\n",
       "      <th>Texas</th>\n",
       "      <td>0.993386</td>\n",
       "      <td>-0.107337</td>\n",
       "      <td>2.442492</td>\n",
       "    </tr>\n",
       "    <tr>\n",
       "      <th>Oregon</th>\n",
       "      <td>1.072527</td>\n",
       "      <td>-0.243917</td>\n",
       "      <td>0.547931</td>\n",
       "    </tr>\n",
       "  </tbody>\n",
       "</table>\n",
       "</div>"
      ],
      "text/plain": [
       "               b         d         e\n",
       "Utah    0.786963 -2.045465  0.450412\n",
       "Ohio   -0.085672  1.071765  0.552046\n",
       "Texas   0.993386 -0.107337  2.442492\n",
       "Oregon  1.072527 -0.243917  0.547931"
      ]
     },
     "execution_count": 401,
     "metadata": {},
     "output_type": "execute_result"
    }
   ],
   "source": [
    "# p.227\n",
    "# np.random.seed(1)\n",
    "print(frame)\n",
    "def f2(x):\n",
    "    return pd.Series([x.min(), x.max()], index=['min', 'max'])\n",
    "frame.apply(f2)\n",
    "frame\n",
    "                     "
   ]
  },
  {
   "cell_type": "markdown",
   "metadata": {},
   "source": [
    "### [Quiz] 데이터프레임 frame2에 poplevel 컬럼을 추가하고, pop이 2.5 이상이면 \"high\", 2.5보다 작으면 \"low\"로 값을 저장하기"
   ]
  },
  {
   "cell_type": "code",
   "execution_count": 399,
   "metadata": {},
   "outputs": [
    {
     "data": {
      "text/html": [
       "<div>\n",
       "<style scoped>\n",
       "    .dataframe tbody tr th:only-of-type {\n",
       "        vertical-align: middle;\n",
       "    }\n",
       "\n",
       "    .dataframe tbody tr th {\n",
       "        vertical-align: top;\n",
       "    }\n",
       "\n",
       "    .dataframe thead th {\n",
       "        text-align: right;\n",
       "    }\n",
       "</style>\n",
       "<table border=\"1\" class=\"dataframe\">\n",
       "  <thead>\n",
       "    <tr style=\"text-align: right;\">\n",
       "      <th></th>\n",
       "      <th>year</th>\n",
       "      <th>state</th>\n",
       "      <th>pop</th>\n",
       "      <th>debt</th>\n",
       "      <th>eastern</th>\n",
       "      <th>poplevel</th>\n",
       "    </tr>\n",
       "  </thead>\n",
       "  <tbody>\n",
       "    <tr>\n",
       "      <th>a</th>\n",
       "      <td>2000</td>\n",
       "      <td>Ohio</td>\n",
       "      <td>1.5</td>\n",
       "      <td>1</td>\n",
       "      <td>Ohio</td>\n",
       "      <td>True</td>\n",
       "    </tr>\n",
       "    <tr>\n",
       "      <th>b</th>\n",
       "      <td>2001</td>\n",
       "      <td>Ohio</td>\n",
       "      <td>1.7</td>\n",
       "      <td>2</td>\n",
       "      <td>Ohio</td>\n",
       "      <td>True</td>\n",
       "    </tr>\n",
       "    <tr>\n",
       "      <th>c</th>\n",
       "      <td>2002</td>\n",
       "      <td>Ohio</td>\n",
       "      <td>3.6</td>\n",
       "      <td>3</td>\n",
       "      <td>Ohio</td>\n",
       "      <td>False</td>\n",
       "    </tr>\n",
       "    <tr>\n",
       "      <th>d</th>\n",
       "      <td>2001</td>\n",
       "      <td>Nevada</td>\n",
       "      <td>2.4</td>\n",
       "      <td>4</td>\n",
       "      <td>Nevada</td>\n",
       "      <td>True</td>\n",
       "    </tr>\n",
       "    <tr>\n",
       "      <th>e</th>\n",
       "      <td>2002</td>\n",
       "      <td>Nevada</td>\n",
       "      <td>2.9</td>\n",
       "      <td>5</td>\n",
       "      <td>Nevada</td>\n",
       "      <td>False</td>\n",
       "    </tr>\n",
       "    <tr>\n",
       "      <th>f</th>\n",
       "      <td>2003</td>\n",
       "      <td>Nevada</td>\n",
       "      <td>3.2</td>\n",
       "      <td>6</td>\n",
       "      <td>Nevada</td>\n",
       "      <td>False</td>\n",
       "    </tr>\n",
       "  </tbody>\n",
       "</table>\n",
       "</div>"
      ],
      "text/plain": [
       "   year   state  pop  debt eastern  poplevel\n",
       "a  2000    Ohio  1.5     1    Ohio      True\n",
       "b  2001    Ohio  1.7     2    Ohio      True\n",
       "c  2002    Ohio  3.6     3    Ohio     False\n",
       "d  2001  Nevada  2.4     4  Nevada      True\n",
       "e  2002  Nevada  2.9     5  Nevada     False\n",
       "f  2003  Nevada  3.2     6  Nevada     False"
      ]
     },
     "execution_count": 399,
     "metadata": {},
     "output_type": "execute_result"
    }
   ],
   "source": [
    "frame2\n",
    "frame2[\"poplevel\"] = frame2[\"pop\"] <= 2.5\n",
    "frame2[\"poplevel\"] == tr\n",
    "frame2"
   ]
  },
  {
   "cell_type": "markdown",
   "metadata": {},
   "source": [
    "    3) 기존 컬럼들의 산술 연산 결과 할당"
   ]
  },
  {
   "cell_type": "code",
   "execution_count": 245,
   "metadata": {},
   "outputs": [
    {
     "data": {
      "text/html": [
       "<div>\n",
       "<style scoped>\n",
       "    .dataframe tbody tr th:only-of-type {\n",
       "        vertical-align: middle;\n",
       "    }\n",
       "\n",
       "    .dataframe tbody tr th {\n",
       "        vertical-align: top;\n",
       "    }\n",
       "\n",
       "    .dataframe thead th {\n",
       "        text-align: right;\n",
       "    }\n",
       "</style>\n",
       "<table border=\"1\" class=\"dataframe\">\n",
       "  <thead>\n",
       "    <tr style=\"text-align: right;\">\n",
       "      <th></th>\n",
       "      <th>year</th>\n",
       "      <th>state</th>\n",
       "      <th>pop</th>\n",
       "      <th>debt</th>\n",
       "      <th>popLevel</th>\n",
       "      <th>perDebt</th>\n",
       "    </tr>\n",
       "  </thead>\n",
       "  <tbody>\n",
       "    <tr>\n",
       "      <th>0</th>\n",
       "      <td>2000</td>\n",
       "      <td>Ohio</td>\n",
       "      <td>1.5</td>\n",
       "      <td>1.624345</td>\n",
       "      <td>Low</td>\n",
       "      <td>1.082897</td>\n",
       "    </tr>\n",
       "    <tr>\n",
       "      <th>1</th>\n",
       "      <td>2001</td>\n",
       "      <td>Ohio</td>\n",
       "      <td>1.7</td>\n",
       "      <td>-0.611756</td>\n",
       "      <td>Low</td>\n",
       "      <td>-0.359857</td>\n",
       "    </tr>\n",
       "    <tr>\n",
       "      <th>2</th>\n",
       "      <td>2002</td>\n",
       "      <td>Ohio</td>\n",
       "      <td>3.6</td>\n",
       "      <td>-0.528172</td>\n",
       "      <td>High</td>\n",
       "      <td>-0.146714</td>\n",
       "    </tr>\n",
       "    <tr>\n",
       "      <th>3</th>\n",
       "      <td>2001</td>\n",
       "      <td>Nevada</td>\n",
       "      <td>2.4</td>\n",
       "      <td>-1.072969</td>\n",
       "      <td>Low</td>\n",
       "      <td>-0.447070</td>\n",
       "    </tr>\n",
       "    <tr>\n",
       "      <th>4</th>\n",
       "      <td>2002</td>\n",
       "      <td>Nevada</td>\n",
       "      <td>2.9</td>\n",
       "      <td>0.865408</td>\n",
       "      <td>High</td>\n",
       "      <td>0.298416</td>\n",
       "    </tr>\n",
       "    <tr>\n",
       "      <th>5</th>\n",
       "      <td>2003</td>\n",
       "      <td>Nevada</td>\n",
       "      <td>3.2</td>\n",
       "      <td>-2.301539</td>\n",
       "      <td>High</td>\n",
       "      <td>-0.719231</td>\n",
       "    </tr>\n",
       "  </tbody>\n",
       "</table>\n",
       "</div>"
      ],
      "text/plain": [
       "   year   state  pop      debt popLevel   perDebt\n",
       "0  2000    Ohio  1.5  1.624345      Low  1.082897\n",
       "1  2001    Ohio  1.7 -0.611756      Low -0.359857\n",
       "2  2002    Ohio  3.6 -0.528172     High -0.146714\n",
       "3  2001  Nevada  2.4 -1.072969      Low -0.447070\n",
       "4  2002  Nevada  2.9  0.865408     High  0.298416\n",
       "5  2003  Nevada  3.2 -2.301539     High -0.719231"
      ]
     },
     "execution_count": 245,
     "metadata": {},
     "output_type": "execute_result"
    }
   ],
   "source": [
    "# perDebt 컬럼을 추가하고, debt을 pop의 값을 나눈 값으로 할당하기\n",
    "frame2['perDebt'] = frame2['debt']/frame2['pop']\n",
    "frame2"
   ]
  },
  {
   "cell_type": "raw",
   "metadata": {},
   "source": [
    "    4) 기존 컬럼들의 삭제 : del "
   ]
  },
  {
   "cell_type": "code",
   "execution_count": 65,
   "metadata": {},
   "outputs": [
    {
     "data": {
      "text/plain": [
       "Index(['year', 'state', 'pop', 'debt'], dtype='object')"
      ]
     },
     "execution_count": 65,
     "metadata": {},
     "output_type": "execute_result"
    }
   ],
   "source": [
    "del frame2[\"eastern\"]\n",
    "frame2.columns"
   ]
  },
  {
   "cell_type": "markdown",
   "metadata": {},
   "source": [
    "    5) 재색인 : reindex(리스트)"
   ]
  },
  {
   "cell_type": "code",
   "execution_count": 10,
   "metadata": {
    "scrolled": true
   },
   "outputs": [
    {
     "data": {
      "text/plain": [
       "d    4.5\n",
       "b    7.2\n",
       "a   -5.3\n",
       "c    3.6\n",
       "dtype: float64"
      ]
     },
     "execution_count": 10,
     "metadata": {},
     "output_type": "execute_result"
    }
   ],
   "source": [
    "obj = pd.Series([4.5, 7.2, -5.3, 3.6], index=[\"d\", \"b\", \"a\", \"c\"])\n",
    "obj"
   ]
  },
  {
   "cell_type": "code",
   "execution_count": 11,
   "metadata": {},
   "outputs": [
    {
     "data": {
      "text/plain": [
       "a   -5.3\n",
       "b    7.2\n",
       "c    3.6\n",
       "d    4.5\n",
       "e    NaN\n",
       "dtype: float64"
      ]
     },
     "execution_count": 11,
     "metadata": {},
     "output_type": "execute_result"
    }
   ],
   "source": [
    "obj2 = obj.reindex([\"a\", \"b\", \"c\", \"d\", \"e\"])\n",
    "obj2"
   ]
  },
  {
   "cell_type": "code",
   "execution_count": 91,
   "metadata": {},
   "outputs": [
    {
     "data": {
      "text/plain": [
       "0      blue\n",
       "1      blue\n",
       "2    purple\n",
       "3    purple\n",
       "4    yellow\n",
       "5    yellow\n",
       "dtype: object"
      ]
     },
     "execution_count": 91,
     "metadata": {},
     "output_type": "execute_result"
    }
   ],
   "source": [
    "obj3 = pd.Series([\"blue\", \"purple\", \"yellow\"], index=[0, 2, 4])\n",
    "obj3\n",
    "obj3.reindex(np.arange(6), method=\"ffill\")"
   ]
  },
  {
   "cell_type": "code",
   "execution_count": 93,
   "metadata": {},
   "outputs": [
    {
     "data": {
      "text/html": [
       "<div>\n",
       "<style scoped>\n",
       "    .dataframe tbody tr th:only-of-type {\n",
       "        vertical-align: middle;\n",
       "    }\n",
       "\n",
       "    .dataframe tbody tr th {\n",
       "        vertical-align: top;\n",
       "    }\n",
       "\n",
       "    .dataframe thead th {\n",
       "        text-align: right;\n",
       "    }\n",
       "</style>\n",
       "<table border=\"1\" class=\"dataframe\">\n",
       "  <thead>\n",
       "    <tr style=\"text-align: right;\">\n",
       "      <th></th>\n",
       "      <th>Ohio</th>\n",
       "      <th>Texas</th>\n",
       "      <th>California</th>\n",
       "    </tr>\n",
       "  </thead>\n",
       "  <tbody>\n",
       "    <tr>\n",
       "      <th>a</th>\n",
       "      <td>0.0</td>\n",
       "      <td>1.0</td>\n",
       "      <td>2.0</td>\n",
       "    </tr>\n",
       "    <tr>\n",
       "      <th>b</th>\n",
       "      <td>NaN</td>\n",
       "      <td>NaN</td>\n",
       "      <td>NaN</td>\n",
       "    </tr>\n",
       "    <tr>\n",
       "      <th>c</th>\n",
       "      <td>3.0</td>\n",
       "      <td>4.0</td>\n",
       "      <td>5.0</td>\n",
       "    </tr>\n",
       "    <tr>\n",
       "      <th>d</th>\n",
       "      <td>6.0</td>\n",
       "      <td>7.0</td>\n",
       "      <td>8.0</td>\n",
       "    </tr>\n",
       "  </tbody>\n",
       "</table>\n",
       "</div>"
      ],
      "text/plain": [
       "   Ohio  Texas  California\n",
       "a   0.0    1.0         2.0\n",
       "b   NaN    NaN         NaN\n",
       "c   3.0    4.0         5.0\n",
       "d   6.0    7.0         8.0"
      ]
     },
     "execution_count": 93,
     "metadata": {},
     "output_type": "execute_result"
    }
   ],
   "source": [
    "frame = pd.DataFrame(np.arange(9).reshape((3, 3)),\n",
    "                     index=[\"a\", \"c\", \"d\"],\n",
    "                     columns=[\"Ohio\", \"Texas\", \"California\"])\n",
    "frame\n",
    "frame2 = frame.reindex(index=[\"a\", \"b\", \"c\", \"d\"])\n",
    "frame2"
   ]
  },
  {
   "cell_type": "code",
   "execution_count": 94,
   "metadata": {},
   "outputs": [
    {
     "data": {
      "text/html": [
       "<div>\n",
       "<style scoped>\n",
       "    .dataframe tbody tr th:only-of-type {\n",
       "        vertical-align: middle;\n",
       "    }\n",
       "\n",
       "    .dataframe tbody tr th {\n",
       "        vertical-align: top;\n",
       "    }\n",
       "\n",
       "    .dataframe thead th {\n",
       "        text-align: right;\n",
       "    }\n",
       "</style>\n",
       "<table border=\"1\" class=\"dataframe\">\n",
       "  <thead>\n",
       "    <tr style=\"text-align: right;\">\n",
       "      <th></th>\n",
       "      <th>Texas</th>\n",
       "      <th>Utah</th>\n",
       "      <th>California</th>\n",
       "    </tr>\n",
       "  </thead>\n",
       "  <tbody>\n",
       "    <tr>\n",
       "      <th>a</th>\n",
       "      <td>1</td>\n",
       "      <td>NaN</td>\n",
       "      <td>2</td>\n",
       "    </tr>\n",
       "    <tr>\n",
       "      <th>c</th>\n",
       "      <td>4</td>\n",
       "      <td>NaN</td>\n",
       "      <td>5</td>\n",
       "    </tr>\n",
       "    <tr>\n",
       "      <th>d</th>\n",
       "      <td>7</td>\n",
       "      <td>NaN</td>\n",
       "      <td>8</td>\n",
       "    </tr>\n",
       "  </tbody>\n",
       "</table>\n",
       "</div>"
      ],
      "text/plain": [
       "   Texas  Utah  California\n",
       "a      1   NaN           2\n",
       "c      4   NaN           5\n",
       "d      7   NaN           8"
      ]
     },
     "execution_count": 94,
     "metadata": {},
     "output_type": "execute_result"
    }
   ],
   "source": [
    "states = [\"Texas\", \"Utah\", \"California\"]\n",
    "frame.reindex(columns=states)"
   ]
  },
  {
   "cell_type": "code",
   "execution_count": 95,
   "metadata": {},
   "outputs": [
    {
     "data": {
      "text/html": [
       "<div>\n",
       "<style scoped>\n",
       "    .dataframe tbody tr th:only-of-type {\n",
       "        vertical-align: middle;\n",
       "    }\n",
       "\n",
       "    .dataframe tbody tr th {\n",
       "        vertical-align: top;\n",
       "    }\n",
       "\n",
       "    .dataframe thead th {\n",
       "        text-align: right;\n",
       "    }\n",
       "</style>\n",
       "<table border=\"1\" class=\"dataframe\">\n",
       "  <thead>\n",
       "    <tr style=\"text-align: right;\">\n",
       "      <th></th>\n",
       "      <th>Texas</th>\n",
       "      <th>Utah</th>\n",
       "      <th>California</th>\n",
       "    </tr>\n",
       "  </thead>\n",
       "  <tbody>\n",
       "    <tr>\n",
       "      <th>a</th>\n",
       "      <td>1</td>\n",
       "      <td>NaN</td>\n",
       "      <td>2</td>\n",
       "    </tr>\n",
       "    <tr>\n",
       "      <th>c</th>\n",
       "      <td>4</td>\n",
       "      <td>NaN</td>\n",
       "      <td>5</td>\n",
       "    </tr>\n",
       "    <tr>\n",
       "      <th>d</th>\n",
       "      <td>7</td>\n",
       "      <td>NaN</td>\n",
       "      <td>8</td>\n",
       "    </tr>\n",
       "  </tbody>\n",
       "</table>\n",
       "</div>"
      ],
      "text/plain": [
       "   Texas  Utah  California\n",
       "a      1   NaN           2\n",
       "c      4   NaN           5\n",
       "d      7   NaN           8"
      ]
     },
     "execution_count": 95,
     "metadata": {},
     "output_type": "execute_result"
    }
   ],
   "source": [
    "frame.reindex(states, axis=\"columns\")"
   ]
  },
  {
   "cell_type": "code",
   "execution_count": 96,
   "metadata": {},
   "outputs": [
    {
     "data": {
      "text/html": [
       "<div>\n",
       "<style scoped>\n",
       "    .dataframe tbody tr th:only-of-type {\n",
       "        vertical-align: middle;\n",
       "    }\n",
       "\n",
       "    .dataframe tbody tr th {\n",
       "        vertical-align: top;\n",
       "    }\n",
       "\n",
       "    .dataframe thead th {\n",
       "        text-align: right;\n",
       "    }\n",
       "</style>\n",
       "<table border=\"1\" class=\"dataframe\">\n",
       "  <thead>\n",
       "    <tr style=\"text-align: right;\">\n",
       "      <th></th>\n",
       "      <th>California</th>\n",
       "      <th>Texas</th>\n",
       "    </tr>\n",
       "  </thead>\n",
       "  <tbody>\n",
       "    <tr>\n",
       "      <th>a</th>\n",
       "      <td>2</td>\n",
       "      <td>1</td>\n",
       "    </tr>\n",
       "    <tr>\n",
       "      <th>d</th>\n",
       "      <td>8</td>\n",
       "      <td>7</td>\n",
       "    </tr>\n",
       "    <tr>\n",
       "      <th>c</th>\n",
       "      <td>5</td>\n",
       "      <td>4</td>\n",
       "    </tr>\n",
       "  </tbody>\n",
       "</table>\n",
       "</div>"
      ],
      "text/plain": [
       "   California  Texas\n",
       "a           2      1\n",
       "d           8      7\n",
       "c           5      4"
      ]
     },
     "execution_count": 96,
     "metadata": {},
     "output_type": "execute_result"
    }
   ],
   "source": [
    "frame.loc[[\"a\", \"d\", \"c\"], [\"California\", \"Texas\"]]"
   ]
  },
  {
   "cell_type": "markdown",
   "metadata": {},
   "source": [
    "## # 데이터 삭제하기 :Series, DataFrame\n",
    "* drop(삭제할 리스트, axis=0)\n",
    "* drop(index= 행_리스트)\n",
    "* drop(columns= 열_리스트)"
   ]
  },
  {
   "cell_type": "code",
   "execution_count": 98,
   "metadata": {},
   "outputs": [
    {
     "data": {
      "text/plain": [
       "a    0.0\n",
       "b    1.0\n",
       "e    4.0\n",
       "dtype: float64"
      ]
     },
     "execution_count": 98,
     "metadata": {},
     "output_type": "execute_result"
    }
   ],
   "source": [
    "obj = pd.Series(np.arange(5.), index=[\"a\", \"b\", \"c\", \"d\", \"e\"])\n",
    "obj\n",
    "new_obj = obj.drop(\"c\")\n",
    "new_obj\n",
    "obj.drop([\"d\", \"c\"])"
   ]
  },
  {
   "cell_type": "code",
   "execution_count": 99,
   "metadata": {},
   "outputs": [
    {
     "data": {
      "text/html": [
       "<div>\n",
       "<style scoped>\n",
       "    .dataframe tbody tr th:only-of-type {\n",
       "        vertical-align: middle;\n",
       "    }\n",
       "\n",
       "    .dataframe tbody tr th {\n",
       "        vertical-align: top;\n",
       "    }\n",
       "\n",
       "    .dataframe thead th {\n",
       "        text-align: right;\n",
       "    }\n",
       "</style>\n",
       "<table border=\"1\" class=\"dataframe\">\n",
       "  <thead>\n",
       "    <tr style=\"text-align: right;\">\n",
       "      <th></th>\n",
       "      <th>one</th>\n",
       "      <th>two</th>\n",
       "      <th>three</th>\n",
       "      <th>four</th>\n",
       "    </tr>\n",
       "  </thead>\n",
       "  <tbody>\n",
       "    <tr>\n",
       "      <th>Ohio</th>\n",
       "      <td>0</td>\n",
       "      <td>1</td>\n",
       "      <td>2</td>\n",
       "      <td>3</td>\n",
       "    </tr>\n",
       "    <tr>\n",
       "      <th>Colorado</th>\n",
       "      <td>4</td>\n",
       "      <td>5</td>\n",
       "      <td>6</td>\n",
       "      <td>7</td>\n",
       "    </tr>\n",
       "    <tr>\n",
       "      <th>Utah</th>\n",
       "      <td>8</td>\n",
       "      <td>9</td>\n",
       "      <td>10</td>\n",
       "      <td>11</td>\n",
       "    </tr>\n",
       "    <tr>\n",
       "      <th>New York</th>\n",
       "      <td>12</td>\n",
       "      <td>13</td>\n",
       "      <td>14</td>\n",
       "      <td>15</td>\n",
       "    </tr>\n",
       "  </tbody>\n",
       "</table>\n",
       "</div>"
      ],
      "text/plain": [
       "          one  two  three  four\n",
       "Ohio        0    1      2     3\n",
       "Colorado    4    5      6     7\n",
       "Utah        8    9     10    11\n",
       "New York   12   13     14    15"
      ]
     },
     "execution_count": 99,
     "metadata": {},
     "output_type": "execute_result"
    }
   ],
   "source": [
    "data = pd.DataFrame(np.arange(16).reshape((4, 4)),\n",
    "                    index=[\"Ohio\", \"Colorado\", \"Utah\", \"New York\"],\n",
    "                    columns=[\"one\", \"two\", \"three\", \"four\"])\n",
    "data"
   ]
  },
  {
   "cell_type": "code",
   "execution_count": 100,
   "metadata": {},
   "outputs": [
    {
     "data": {
      "text/html": [
       "<div>\n",
       "<style scoped>\n",
       "    .dataframe tbody tr th:only-of-type {\n",
       "        vertical-align: middle;\n",
       "    }\n",
       "\n",
       "    .dataframe tbody tr th {\n",
       "        vertical-align: top;\n",
       "    }\n",
       "\n",
       "    .dataframe thead th {\n",
       "        text-align: right;\n",
       "    }\n",
       "</style>\n",
       "<table border=\"1\" class=\"dataframe\">\n",
       "  <thead>\n",
       "    <tr style=\"text-align: right;\">\n",
       "      <th></th>\n",
       "      <th>one</th>\n",
       "      <th>two</th>\n",
       "      <th>three</th>\n",
       "      <th>four</th>\n",
       "    </tr>\n",
       "  </thead>\n",
       "  <tbody>\n",
       "    <tr>\n",
       "      <th>Utah</th>\n",
       "      <td>8</td>\n",
       "      <td>9</td>\n",
       "      <td>10</td>\n",
       "      <td>11</td>\n",
       "    </tr>\n",
       "    <tr>\n",
       "      <th>New York</th>\n",
       "      <td>12</td>\n",
       "      <td>13</td>\n",
       "      <td>14</td>\n",
       "      <td>15</td>\n",
       "    </tr>\n",
       "  </tbody>\n",
       "</table>\n",
       "</div>"
      ],
      "text/plain": [
       "          one  two  three  four\n",
       "Utah        8    9     10    11\n",
       "New York   12   13     14    15"
      ]
     },
     "execution_count": 100,
     "metadata": {},
     "output_type": "execute_result"
    }
   ],
   "source": [
    "data.drop(index=[\"Colorado\", \"Ohio\"])"
   ]
  },
  {
   "cell_type": "code",
   "execution_count": 101,
   "metadata": {},
   "outputs": [
    {
     "data": {
      "text/html": [
       "<div>\n",
       "<style scoped>\n",
       "    .dataframe tbody tr th:only-of-type {\n",
       "        vertical-align: middle;\n",
       "    }\n",
       "\n",
       "    .dataframe tbody tr th {\n",
       "        vertical-align: top;\n",
       "    }\n",
       "\n",
       "    .dataframe thead th {\n",
       "        text-align: right;\n",
       "    }\n",
       "</style>\n",
       "<table border=\"1\" class=\"dataframe\">\n",
       "  <thead>\n",
       "    <tr style=\"text-align: right;\">\n",
       "      <th></th>\n",
       "      <th>one</th>\n",
       "      <th>three</th>\n",
       "      <th>four</th>\n",
       "    </tr>\n",
       "  </thead>\n",
       "  <tbody>\n",
       "    <tr>\n",
       "      <th>Ohio</th>\n",
       "      <td>0</td>\n",
       "      <td>2</td>\n",
       "      <td>3</td>\n",
       "    </tr>\n",
       "    <tr>\n",
       "      <th>Colorado</th>\n",
       "      <td>4</td>\n",
       "      <td>6</td>\n",
       "      <td>7</td>\n",
       "    </tr>\n",
       "    <tr>\n",
       "      <th>Utah</th>\n",
       "      <td>8</td>\n",
       "      <td>10</td>\n",
       "      <td>11</td>\n",
       "    </tr>\n",
       "    <tr>\n",
       "      <th>New York</th>\n",
       "      <td>12</td>\n",
       "      <td>14</td>\n",
       "      <td>15</td>\n",
       "    </tr>\n",
       "  </tbody>\n",
       "</table>\n",
       "</div>"
      ],
      "text/plain": [
       "          one  three  four\n",
       "Ohio        0      2     3\n",
       "Colorado    4      6     7\n",
       "Utah        8     10    11\n",
       "New York   12     14    15"
      ]
     },
     "execution_count": 101,
     "metadata": {},
     "output_type": "execute_result"
    }
   ],
   "source": [
    "data.drop(columns=[\"two\"])"
   ]
  },
  {
   "cell_type": "code",
   "execution_count": 102,
   "metadata": {},
   "outputs": [
    {
     "data": {
      "text/html": [
       "<div>\n",
       "<style scoped>\n",
       "    .dataframe tbody tr th:only-of-type {\n",
       "        vertical-align: middle;\n",
       "    }\n",
       "\n",
       "    .dataframe tbody tr th {\n",
       "        vertical-align: top;\n",
       "    }\n",
       "\n",
       "    .dataframe thead th {\n",
       "        text-align: right;\n",
       "    }\n",
       "</style>\n",
       "<table border=\"1\" class=\"dataframe\">\n",
       "  <thead>\n",
       "    <tr style=\"text-align: right;\">\n",
       "      <th></th>\n",
       "      <th>one</th>\n",
       "      <th>three</th>\n",
       "    </tr>\n",
       "  </thead>\n",
       "  <tbody>\n",
       "    <tr>\n",
       "      <th>Ohio</th>\n",
       "      <td>0</td>\n",
       "      <td>2</td>\n",
       "    </tr>\n",
       "    <tr>\n",
       "      <th>Colorado</th>\n",
       "      <td>4</td>\n",
       "      <td>6</td>\n",
       "    </tr>\n",
       "    <tr>\n",
       "      <th>Utah</th>\n",
       "      <td>8</td>\n",
       "      <td>10</td>\n",
       "    </tr>\n",
       "    <tr>\n",
       "      <th>New York</th>\n",
       "      <td>12</td>\n",
       "      <td>14</td>\n",
       "    </tr>\n",
       "  </tbody>\n",
       "</table>\n",
       "</div>"
      ],
      "text/plain": [
       "          one  three\n",
       "Ohio        0      2\n",
       "Colorado    4      6\n",
       "Utah        8     10\n",
       "New York   12     14"
      ]
     },
     "execution_count": 102,
     "metadata": {},
     "output_type": "execute_result"
    }
   ],
   "source": [
    "data.drop(\"two\", axis=1)\n",
    "data.drop([\"two\", \"four\"], axis=\"columns\")"
   ]
  },
  {
   "cell_type": "markdown",
   "metadata": {},
   "source": [
    "## #  5주차 "
   ]
  },
  {
   "cell_type": "code",
   "execution_count": 54,
   "metadata": {},
   "outputs": [],
   "source": [
    "obj = pd.Series(np.arange(4.), index=[\"a\", \"b\", \"c\", \"d\"])\n",
    "obj\n",
    "obj[\"b\"]\n",
    "obj[1]\n",
    "obj[2:4]\n",
    "obj[[\"b\", \"a\", \"d\"]]\n",
    "obj[[1, 3]]\n",
    "obj[obj < 2]"
   ]
  },
  {
   "cell_type": "code",
   "execution_count": 55,
   "metadata": {},
   "outputs": [],
   "source": [
    "obj.loc[[\"b\", \"a\", \"d\"]]"
   ]
  },
  {
   "cell_type": "code",
   "execution_count": 56,
   "metadata": {},
   "outputs": [],
   "source": [
    "obj1 = pd.Series([1, 2, 3], index=[2, 0, 1])\n",
    "obj2 = pd.Series([1, 2, 3], index=[\"a\", \"b\", \"c\"])\n",
    "obj1\n",
    "obj2\n",
    "obj1[[0, 1, 2]]\n",
    "obj2[[0, 1, 2]]"
   ]
  },
  {
   "cell_type": "code",
   "execution_count": 57,
   "metadata": {},
   "outputs": [],
   "source": [
    "obj1.iloc[[0, 1, 2]]\n",
    "obj2.iloc[[0, 1, 2]]"
   ]
  },
  {
   "cell_type": "code",
   "execution_count": 58,
   "metadata": {},
   "outputs": [],
   "source": [
    "obj2.loc[\"b\":\"c\"]"
   ]
  },
  {
   "cell_type": "code",
   "execution_count": 59,
   "metadata": {},
   "outputs": [],
   "source": [
    "obj2.loc[\"b\":\"c\"] = 5\n",
    "obj2"
   ]
  },
  {
   "cell_type": "code",
   "execution_count": 60,
   "metadata": {},
   "outputs": [],
   "source": [
    "data = pd.DataFrame(np.arange(16).reshape((4, 4)),\n",
    "                    index=[\"Ohio\", \"Colorado\", \"Utah\", \"New York\"],\n",
    "                    columns=[\"one\", \"two\", \"three\", \"four\"])\n",
    "data\n",
    "data[\"two\"]\n",
    "data[[\"three\", \"one\"]]"
   ]
  },
  {
   "cell_type": "code",
   "execution_count": 61,
   "metadata": {},
   "outputs": [],
   "source": [
    "data[:2]\n",
    "data[data[\"three\"] > 5]"
   ]
  },
  {
   "cell_type": "code",
   "execution_count": 62,
   "metadata": {},
   "outputs": [],
   "source": [
    "data < 5"
   ]
  },
  {
   "cell_type": "code",
   "execution_count": 63,
   "metadata": {},
   "outputs": [],
   "source": [
    "data[data < 5] = 0\n",
    "data"
   ]
  },
  {
   "cell_type": "code",
   "execution_count": 64,
   "metadata": {},
   "outputs": [],
   "source": [
    "data\n",
    "data.loc[\"Colorado\"]"
   ]
  },
  {
   "cell_type": "code",
   "execution_count": 65,
   "metadata": {},
   "outputs": [],
   "source": [
    "data.loc[[\"Colorado\", \"New York\"]]"
   ]
  },
  {
   "cell_type": "code",
   "execution_count": 66,
   "metadata": {},
   "outputs": [],
   "source": [
    "data.loc[\"Colorado\", [\"two\", \"three\"]]"
   ]
  },
  {
   "cell_type": "code",
   "execution_count": 67,
   "metadata": {},
   "outputs": [],
   "source": [
    "data.iloc[2]\n",
    "data.iloc[[2, 1]]\n",
    "data.iloc[2, [3, 0, 1]]\n",
    "data.iloc[[1, 2], [3, 0, 1]]"
   ]
  },
  {
   "cell_type": "code",
   "execution_count": 68,
   "metadata": {},
   "outputs": [],
   "source": [
    "data.loc[:\"Utah\", \"two\"]\n",
    "data.iloc[:, :3][data.three > 5]"
   ]
  },
  {
   "cell_type": "code",
   "execution_count": 69,
   "metadata": {},
   "outputs": [],
   "source": [
    "data.loc[data.three >= 2]"
   ]
  },
  {
   "cell_type": "code",
   "execution_count": 70,
   "metadata": {},
   "outputs": [],
   "source": [
    "ser = pd.Series(np.arange(3.))\n",
    "ser\n",
    "ser[-1]"
   ]
  },
  {
   "cell_type": "code",
   "execution_count": 71,
   "metadata": {},
   "outputs": [],
   "source": [
    "ser"
   ]
  },
  {
   "cell_type": "code",
   "execution_count": 72,
   "metadata": {},
   "outputs": [],
   "source": [
    "ser2 = pd.Series(np.arange(3.), index=[\"a\", \"b\", \"c\"])\n",
    "ser2[-1]"
   ]
  },
  {
   "cell_type": "code",
   "execution_count": 73,
   "metadata": {},
   "outputs": [],
   "source": [
    "ser.iloc[-1]"
   ]
  },
  {
   "cell_type": "code",
   "execution_count": 74,
   "metadata": {},
   "outputs": [],
   "source": [
    "ser[:2]"
   ]
  },
  {
   "cell_type": "code",
   "execution_count": 75,
   "metadata": {},
   "outputs": [],
   "source": [
    "data.loc[:, \"one\"] = 1\n",
    "data\n",
    "data.iloc[2] = 5\n",
    "data\n",
    "data.loc[data[\"four\"] > 5] = 3\n",
    "data"
   ]
  },
  {
   "cell_type": "code",
   "execution_count": 76,
   "metadata": {},
   "outputs": [],
   "source": [
    "data.loc[data.three == 5][\"three\"] = 6"
   ]
  },
  {
   "cell_type": "code",
   "execution_count": 77,
   "metadata": {},
   "outputs": [],
   "source": [
    "data"
   ]
  },
  {
   "cell_type": "code",
   "execution_count": 78,
   "metadata": {},
   "outputs": [],
   "source": [
    "data.loc[data.three == 5, \"three\"] = 6\n",
    "data"
   ]
  },
  {
   "cell_type": "code",
   "execution_count": 79,
   "metadata": {},
   "outputs": [],
   "source": [
    "s1 = pd.Series([7.3, -2.5, 3.4, 1.5], index=[\"a\", \"c\", \"d\", \"e\"])\n",
    "s2 = pd.Series([-2.1, 3.6, -1.5, 4, 3.1],\n",
    "               index=[\"a\", \"c\", \"e\", \"f\", \"g\"])\n",
    "s1\n",
    "s2"
   ]
  },
  {
   "cell_type": "code",
   "execution_count": 80,
   "metadata": {},
   "outputs": [],
   "source": [
    "s1 + s2"
   ]
  },
  {
   "cell_type": "code",
   "execution_count": 81,
   "metadata": {},
   "outputs": [],
   "source": [
    "df1 = pd.DataFrame(np.arange(9.).reshape((3, 3)), columns=list(\"bcd\"),\n",
    "                   index=[\"Ohio\", \"Texas\", \"Colorado\"])\n",
    "df2 = pd.DataFrame(np.arange(12.).reshape((4, 3)), columns=list(\"bde\"),\n",
    "                   index=[\"Utah\", \"Ohio\", \"Texas\", \"Oregon\"])\n",
    "df1\n",
    "df2"
   ]
  },
  {
   "cell_type": "code",
   "execution_count": 82,
   "metadata": {},
   "outputs": [],
   "source": [
    "df1 + df2"
   ]
  },
  {
   "cell_type": "code",
   "execution_count": 83,
   "metadata": {},
   "outputs": [],
   "source": [
    "df1 = pd.DataFrame({\"A\": [1, 2]})\n",
    "df2 = pd.DataFrame({\"B\": [3, 4]})\n",
    "df1\n",
    "df2\n",
    "df1 + df2"
   ]
  },
  {
   "cell_type": "code",
   "execution_count": 84,
   "metadata": {},
   "outputs": [],
   "source": [
    "df1 = pd.DataFrame(np.arange(12.).reshape((3, 4)),\n",
    "                   columns=list(\"abcd\"))\n",
    "df2 = pd.DataFrame(np.arange(20.).reshape((4, 5)),\n",
    "                   columns=list(\"abcde\"))\n",
    "df2.loc[1, \"b\"] = np.nan\n",
    "df1\n",
    "df2"
   ]
  },
  {
   "cell_type": "code",
   "execution_count": 85,
   "metadata": {},
   "outputs": [],
   "source": [
    "df1 + df2"
   ]
  },
  {
   "cell_type": "code",
   "execution_count": 86,
   "metadata": {},
   "outputs": [],
   "source": [
    "df1.add(df2, fill_value=0)"
   ]
  },
  {
   "cell_type": "code",
   "execution_count": 87,
   "metadata": {},
   "outputs": [],
   "source": [
    "1 / df1\n",
    "df1.rdiv(1)"
   ]
  },
  {
   "cell_type": "code",
   "execution_count": 88,
   "metadata": {},
   "outputs": [],
   "source": [
    "df1.reindex(columns=df2.columns, fill_value=0)"
   ]
  },
  {
   "cell_type": "code",
   "execution_count": 89,
   "metadata": {},
   "outputs": [],
   "source": [
    "arr = np.arange(12.).reshape((3, 4))\n",
    "arr\n",
    "arr[0]\n",
    "arr - arr[0]"
   ]
  },
  {
   "cell_type": "code",
   "execution_count": 90,
   "metadata": {},
   "outputs": [],
   "source": [
    "frame = pd.DataFrame(np.arange(12.).reshape((4, 3)),\n",
    "                     columns=list(\"bde\"),\n",
    "                     index=[\"Utah\", \"Ohio\", \"Texas\", \"Oregon\"])\n",
    "series = frame.iloc[0]\n",
    "frame\n",
    "series"
   ]
  },
  {
   "cell_type": "code",
   "execution_count": 91,
   "metadata": {},
   "outputs": [],
   "source": [
    "frame - series"
   ]
  },
  {
   "cell_type": "code",
   "execution_count": 92,
   "metadata": {},
   "outputs": [],
   "source": [
    "series2 = pd.Series(np.arange(3), index=[\"b\", \"e\", \"f\"])\n",
    "series2\n",
    "frame + series2"
   ]
  },
  {
   "cell_type": "code",
   "execution_count": 93,
   "metadata": {},
   "outputs": [],
   "source": [
    "series3 = frame[\"d\"]\n",
    "frame\n",
    "series3\n",
    "frame.sub(series3, axis=\"index\")"
   ]
  },
  {
   "cell_type": "code",
   "execution_count": 94,
   "metadata": {},
   "outputs": [],
   "source": [
    "frame = pd.DataFrame(np.random.standard_normal((4, 3)),\n",
    "                     columns=list(\"bde\"),\n",
    "                     index=[\"Utah\", \"Ohio\", \"Texas\", \"Oregon\"])\n",
    "frame\n",
    "np.abs(frame)"
   ]
  },
  {
   "cell_type": "code",
   "execution_count": 400,
   "metadata": {},
   "outputs": [
    {
     "data": {
      "text/plain": [
       "b    1.158199\n",
       "d    3.117230\n",
       "e    1.992080\n",
       "dtype: float64"
      ]
     },
     "execution_count": 400,
     "metadata": {},
     "output_type": "execute_result"
    }
   ],
   "source": [
    "def f1(x):\n",
    "    return x.max() - x.min()\n",
    "\n",
    "frame.apply(f1)"
   ]
  },
  {
   "cell_type": "code",
   "execution_count": 96,
   "metadata": {},
   "outputs": [],
   "source": [
    "frame.apply(f1, axis=\"columns\")"
   ]
  },
  {
   "cell_type": "code",
   "execution_count": 97,
   "metadata": {},
   "outputs": [],
   "source": [
    "def f2(x):\n",
    "    return pd.Series([x.min(), x.max()], index=[\"min\", \"max\"])\n",
    "frame.apply(f2)"
   ]
  },
  {
   "cell_type": "code",
   "execution_count": 98,
   "metadata": {},
   "outputs": [],
   "source": [
    "def my_format(x):\n",
    "    return f\"{x:.2f}\"\n",
    "\n",
    "frame.applymap(my_format)"
   ]
  },
  {
   "cell_type": "code",
   "execution_count": 99,
   "metadata": {},
   "outputs": [],
   "source": [
    "frame[\"e\"].map(my_format)"
   ]
  },
  {
   "cell_type": "code",
   "execution_count": 100,
   "metadata": {},
   "outputs": [],
   "source": [
    "obj = pd.Series(np.arange(4), index=[\"d\", \"a\", \"b\", \"c\"])\n",
    "obj\n",
    "obj.sort_index()"
   ]
  },
  {
   "cell_type": "code",
   "execution_count": 101,
   "metadata": {},
   "outputs": [],
   "source": [
    "frame = pd.DataFrame(np.arange(8).reshape((2, 4)),\n",
    "                     index=[\"three\", \"one\"],\n",
    "                     columns=[\"d\", \"a\", \"b\", \"c\"])\n",
    "frame\n",
    "frame.sort_index()\n",
    "frame.sort_index(axis=\"columns\")"
   ]
  },
  {
   "cell_type": "code",
   "execution_count": 102,
   "metadata": {},
   "outputs": [],
   "source": [
    "frame.sort_index(axis=\"columns\", ascending=False)"
   ]
  },
  {
   "cell_type": "code",
   "execution_count": 103,
   "metadata": {},
   "outputs": [],
   "source": [
    "obj = pd.Series([4, 7, -3, 2])\n",
    "obj.sort_values()"
   ]
  },
  {
   "cell_type": "code",
   "execution_count": 104,
   "metadata": {},
   "outputs": [],
   "source": [
    "obj = pd.Series([4, np.nan, 7, np.nan, -3, 2])\n",
    "obj.sort_values()"
   ]
  },
  {
   "cell_type": "code",
   "execution_count": 105,
   "metadata": {},
   "outputs": [],
   "source": [
    "obj.sort_values(na_position=\"first\")"
   ]
  },
  {
   "cell_type": "code",
   "execution_count": 106,
   "metadata": {},
   "outputs": [],
   "source": [
    "frame = pd.DataFrame({\"b\": [4, 7, -3, 2], \"a\": [0, 1, 0, 1]})\n",
    "frame\n",
    "frame.sort_values(\"b\")"
   ]
  },
  {
   "cell_type": "code",
   "execution_count": 107,
   "metadata": {},
   "outputs": [],
   "source": [
    "frame.sort_values([\"a\", \"b\"])"
   ]
  },
  {
   "cell_type": "code",
   "execution_count": 108,
   "metadata": {},
   "outputs": [],
   "source": [
    "obj = pd.Series([7, -5, 7, 4, 2, 0, 4])\n",
    "obj.rank()"
   ]
  },
  {
   "cell_type": "code",
   "execution_count": 109,
   "metadata": {},
   "outputs": [],
   "source": [
    "obj.rank(method=\"first\")"
   ]
  },
  {
   "cell_type": "code",
   "execution_count": 110,
   "metadata": {},
   "outputs": [],
   "source": [
    "obj.rank(ascending=False)"
   ]
  },
  {
   "cell_type": "code",
   "execution_count": 111,
   "metadata": {},
   "outputs": [],
   "source": [
    "frame = pd.DataFrame({\"b\": [4.3, 7, -3, 2], \"a\": [0, 1, 0, 1],\n",
    "                      \"c\": [-2, 5, 8, -2.5]})\n",
    "frame\n",
    "frame.rank(axis=\"columns\")"
   ]
  },
  {
   "cell_type": "code",
   "execution_count": 112,
   "metadata": {},
   "outputs": [],
   "source": [
    "obj = pd.Series(np.arange(5), index=[\"a\", \"a\", \"b\", \"b\", \"c\"])\n",
    "obj"
   ]
  },
  {
   "cell_type": "code",
   "execution_count": 113,
   "metadata": {},
   "outputs": [],
   "source": [
    "obj.index.is_unique"
   ]
  },
  {
   "cell_type": "code",
   "execution_count": 114,
   "metadata": {},
   "outputs": [],
   "source": [
    "obj[\"a\"]\n",
    "obj[\"c\"]"
   ]
  },
  {
   "cell_type": "code",
   "execution_count": 115,
   "metadata": {},
   "outputs": [],
   "source": [
    "df = pd.DataFrame(np.random.standard_normal((5, 3)),\n",
    "                  index=[\"a\", \"a\", \"b\", \"b\", \"c\"])\n",
    "df\n",
    "df.loc[\"b\"]\n",
    "df.loc[\"c\"]"
   ]
  },
  {
   "cell_type": "code",
   "execution_count": 116,
   "metadata": {},
   "outputs": [],
   "source": [
    "df = pd.DataFrame([[1.4, np.nan], [7.1, -4.5],\n",
    "                   [np.nan, np.nan], [0.75, -1.3]],\n",
    "                  index=[\"a\", \"b\", \"c\", \"d\"],\n",
    "                  columns=[\"one\", \"two\"])\n",
    "df"
   ]
  },
  {
   "cell_type": "code",
   "execution_count": 117,
   "metadata": {},
   "outputs": [],
   "source": [
    "df.sum()"
   ]
  },
  {
   "cell_type": "code",
   "execution_count": 118,
   "metadata": {},
   "outputs": [],
   "source": [
    "df.sum(axis=\"columns\")"
   ]
  },
  {
   "cell_type": "code",
   "execution_count": 119,
   "metadata": {},
   "outputs": [],
   "source": [
    "df.sum(axis=\"index\", skipna=False)\n",
    "df.sum(axis=\"columns\", skipna=False)"
   ]
  },
  {
   "cell_type": "code",
   "execution_count": 120,
   "metadata": {},
   "outputs": [],
   "source": [
    "df.mean(axis=\"columns\")"
   ]
  },
  {
   "cell_type": "code",
   "execution_count": 121,
   "metadata": {},
   "outputs": [],
   "source": [
    "df.idxmax()"
   ]
  },
  {
   "cell_type": "code",
   "execution_count": 122,
   "metadata": {},
   "outputs": [],
   "source": [
    "df.cumsum()"
   ]
  },
  {
   "cell_type": "code",
   "execution_count": 123,
   "metadata": {},
   "outputs": [],
   "source": [
    "df.describe()"
   ]
  },
  {
   "cell_type": "code",
   "execution_count": 124,
   "metadata": {},
   "outputs": [],
   "source": [
    "obj = pd.Series([\"a\", \"a\", \"b\", \"c\"] * 4)\n",
    "obj.describe()"
   ]
  },
  {
   "cell_type": "code",
   "execution_count": 125,
   "metadata": {},
   "outputs": [],
   "source": [
    "price = pd.read_pickle(\"examples/yahoo_price.pkl\")\n",
    "volume = pd.read_pickle(\"examples/yahoo_volume.pkl\")"
   ]
  },
  {
   "cell_type": "code",
   "execution_count": 126,
   "metadata": {},
   "outputs": [],
   "source": [
    "returns = price.pct_change()\n",
    "returns.tail()"
   ]
  },
  {
   "cell_type": "code",
   "execution_count": 127,
   "metadata": {},
   "outputs": [],
   "source": [
    "returns[\"MSFT\"].corr(returns[\"IBM\"])\n",
    "returns[\"MSFT\"].cov(returns[\"IBM\"])"
   ]
  },
  {
   "cell_type": "code",
   "execution_count": 128,
   "metadata": {},
   "outputs": [],
   "source": [
    "returns.corr()\n",
    "returns.cov()"
   ]
  },
  {
   "cell_type": "code",
   "execution_count": 129,
   "metadata": {},
   "outputs": [],
   "source": [
    "returns.corrwith(returns[\"IBM\"])"
   ]
  },
  {
   "cell_type": "code",
   "execution_count": 130,
   "metadata": {},
   "outputs": [],
   "source": [
    "returns.corrwith(volume)"
   ]
  },
  {
   "cell_type": "code",
   "execution_count": 131,
   "metadata": {},
   "outputs": [],
   "source": [
    "obj = pd.Series([\"c\", \"a\", \"d\", \"a\", \"a\", \"b\", \"b\", \"c\", \"c\"])"
   ]
  },
  {
   "cell_type": "code",
   "execution_count": 132,
   "metadata": {},
   "outputs": [],
   "source": [
    "uniques = obj.unique()\n",
    "uniques"
   ]
  },
  {
   "cell_type": "code",
   "execution_count": 133,
   "metadata": {},
   "outputs": [],
   "source": [
    "obj.value_counts()"
   ]
  },
  {
   "cell_type": "code",
   "execution_count": 134,
   "metadata": {},
   "outputs": [],
   "source": [
    "pd.value_counts(obj.to_numpy(), sort=False)"
   ]
  },
  {
   "cell_type": "code",
   "execution_count": 135,
   "metadata": {},
   "outputs": [],
   "source": [
    "obj\n",
    "mask = obj.isin([\"b\", \"c\"])\n",
    "mask\n",
    "obj[mask]"
   ]
  },
  {
   "cell_type": "code",
   "execution_count": 136,
   "metadata": {},
   "outputs": [],
   "source": [
    "to_match = pd.Series([\"c\", \"a\", \"b\", \"b\", \"c\", \"a\"])\n",
    "unique_vals = pd.Series([\"c\", \"b\", \"a\"])\n",
    "indices = pd.Index(unique_vals).get_indexer(to_match)\n",
    "indices"
   ]
  },
  {
   "cell_type": "code",
   "execution_count": 137,
   "metadata": {},
   "outputs": [],
   "source": [
    "data = pd.DataFrame({\"Qu1\": [1, 3, 4, 3, 4],\n",
    "                     \"Qu2\": [2, 3, 1, 2, 3],\n",
    "                     \"Qu3\": [1, 5, 2, 4, 4]})\n",
    "data"
   ]
  },
  {
   "cell_type": "code",
   "execution_count": 138,
   "metadata": {},
   "outputs": [],
   "source": [
    "data[\"Qu1\"].value_counts().sort_index()"
   ]
  },
  {
   "cell_type": "code",
   "execution_count": 139,
   "metadata": {},
   "outputs": [],
   "source": [
    "result = data.apply(pd.value_counts).fillna(0)\n",
    "result"
   ]
  },
  {
   "cell_type": "code",
   "execution_count": 140,
   "metadata": {},
   "outputs": [],
   "source": [
    "data = pd.DataFrame({\"a\": [1, 1, 1, 2, 2], \"b\": [0, 0, 1, 0, 0]})\n",
    "data\n",
    "data.value_counts()"
   ]
  },
  {
   "cell_type": "code",
   "execution_count": 141,
   "metadata": {},
   "outputs": [],
   "source": []
  },
  {
   "cell_type": "code",
   "execution_count": 142,
   "metadata": {},
   "outputs": [],
   "source": [
    "pd.options.display.max_rows = PREVIOUS_MAX_ROWS"
   ]
  }
 ],
 "metadata": {
  "kernelspec": {
   "display_name": "Python 3 (ipykernel)",
   "language": "python",
   "name": "python3"
  },
  "language_info": {
   "codemirror_mode": {
    "name": "ipython",
    "version": 3
   },
   "file_extension": ".py",
   "mimetype": "text/x-python",
   "name": "python",
   "nbconvert_exporter": "python",
   "pygments_lexer": "ipython3",
   "version": "3.12.3"
  }
 },
 "nbformat": 4,
 "nbformat_minor": 4
}
